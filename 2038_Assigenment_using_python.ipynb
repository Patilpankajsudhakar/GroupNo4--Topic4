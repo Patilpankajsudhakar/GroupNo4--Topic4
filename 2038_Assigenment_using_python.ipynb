{
  "nbformat": 4,
  "nbformat_minor": 0,
  "metadata": {
    "colab": {
      "name": "2038_Assigenment using python.ipynb",
      "provenance": [],
      "authorship_tag": "ABX9TyNRAbhoeqOO2JwRdvSQcgLn",
      "include_colab_link": true
    },
    "kernelspec": {
      "name": "python3",
      "display_name": "Python 3"
    },
    "language_info": {
      "name": "python"
    }
  },
  "cells": [
    {
      "cell_type": "markdown",
      "metadata": {
        "id": "view-in-github",
        "colab_type": "text"
      },
      "source": [
        "<a href=\"https://colab.research.google.com/github/Patilpankajsudhakar/GroupNo4--Topic4/blob/main/2038_Assigenment_using_python.ipynb\" target=\"_parent\"><img src=\"https://colab.research.google.com/assets/colab-badge.svg\" alt=\"Open In Colab\"/></a>"
      ]
    },
    {
      "cell_type": "markdown",
      "metadata": {
        "id": "mcYGG3GHy8HC"
      },
      "source": [
        "# Stochastics process practical 1 and 2 using python"
      ]
    },
    {
      "cell_type": "markdown",
      "metadata": {
        "id": "0kuMoqb9fOVp"
      },
      "source": [
        "**Name:-pankaj sudhakar patil \n",
        "Rollno:-2038** "
      ]
    },
    {
      "cell_type": "markdown",
      "metadata": {
        "id": "J_clhOv7Nl7G"
      },
      "source": [
        "#1 Calculate n-step Transition Probability(Chapman-Kolmogrov eq.)\n"
      ]
    },
    {
      "cell_type": "code",
      "metadata": {
        "colab": {
          "base_uri": "https://localhost:8080/",
          "height": 289
        },
        "id": "-Cg9el1KQuvu",
        "outputId": "0b0127d0-e28d-4808-f1d4-944314c55145"
      },
      "source": [
        "#Q1\n",
        "import numpy as np\n",
        "import pandas as pd\n",
        "from numpy.linalg import matrix_power as mp\n",
        "p=np.array([[7,3],[4,6]])/10\n",
        "alpha=np.array([[.35,.65]])\n",
        "PT=[\"p12^2=\",\"p11^4=\",\"p21^10=\",\"p(x5=1)=\",\"p(x8=2)=\"]\n",
        "print(mp(p,2)[0,1])\n",
        "print(mp(p,4)[1,1])\n",
        "\n",
        "print(mp(p,10)[1,0])\n",
        "\n",
        "print((alpha.dot(mp(p,5)))[0,0])\n",
        "print((alpha.dot(mp(p,8)))[0,1])\n",
        "Pr=[mp(p,2)[0,1],mp(p,4)[1,1],mp(p,10)[1,0],(alpha.dot(mp(p,5)))[0,0],(alpha.dot(mp(p,8)))[0,1]]\n",
        "pd.DataFrame(Pr,PT)\n"
      ],
      "execution_count": null,
      "outputs": [
        {
          "output_type": "stream",
          "name": "stdout",
          "text": [
            "0.38999999999999996\n",
            "0.4332\n",
            "0.5714251971999998\n",
            "0.5708905\n",
            "0.42858595649999986\n"
          ]
        },
        {
          "output_type": "execute_result",
          "data": {
            "text/html": [
              "<div>\n",
              "<style scoped>\n",
              "    .dataframe tbody tr th:only-of-type {\n",
              "        vertical-align: middle;\n",
              "    }\n",
              "\n",
              "    .dataframe tbody tr th {\n",
              "        vertical-align: top;\n",
              "    }\n",
              "\n",
              "    .dataframe thead th {\n",
              "        text-align: right;\n",
              "    }\n",
              "</style>\n",
              "<table border=\"1\" class=\"dataframe\">\n",
              "  <thead>\n",
              "    <tr style=\"text-align: right;\">\n",
              "      <th></th>\n",
              "      <th>0</th>\n",
              "    </tr>\n",
              "  </thead>\n",
              "  <tbody>\n",
              "    <tr>\n",
              "      <th>p12^2=</th>\n",
              "      <td>0.390000</td>\n",
              "    </tr>\n",
              "    <tr>\n",
              "      <th>p11^4=</th>\n",
              "      <td>0.433200</td>\n",
              "    </tr>\n",
              "    <tr>\n",
              "      <th>p21^10=</th>\n",
              "      <td>0.571425</td>\n",
              "    </tr>\n",
              "    <tr>\n",
              "      <th>p(x5=1)=</th>\n",
              "      <td>0.570890</td>\n",
              "    </tr>\n",
              "    <tr>\n",
              "      <th>p(x8=2)=</th>\n",
              "      <td>0.428586</td>\n",
              "    </tr>\n",
              "  </tbody>\n",
              "</table>\n",
              "</div>"
            ],
            "text/plain": [
              "                 0\n",
              "p12^2=    0.390000\n",
              "p11^4=    0.433200\n",
              "p21^10=   0.571425\n",
              "p(x5=1)=  0.570890\n",
              "p(x8=2)=  0.428586"
            ]
          },
          "metadata": {},
          "execution_count": 1
        }
      ]
    },
    {
      "cell_type": "code",
      "metadata": {
        "colab": {
          "base_uri": "https://localhost:8080/"
        },
        "id": "s7HzsNrqfvOy",
        "outputId": "7102bea6-9ac0-4581-9c60-8b6752f0312f"
      },
      "source": [
        "##Q2 \n",
        "p=np.array([[3,5,1,1],[1,6,1,2],[0,5,5,0],[0,3,2,5]])/10\n",
        "alpha=np.array([[.1,.2,.3,.4]])\n",
        "PT=[\"p11^8=\",\"p22^5=\",\"p(x4=2)=\",\"p(x6=2)=\"]\n",
        "print(mp(p,8)[0,0])\n",
        "print(mp(p,5)[1,1])\n",
        "\n",
        "print((alpha.dot(mp(p,4)))[0,1])\n",
        "print((alpha.dot(mp(p,6)))[0,1])\n",
        "Pr=[mp(p,8)[0,0],mp(p,5)[1,1],(alpha.dot(mp(p,4)))[0,1],(alpha.dot(mp(p,6)))[0,1]]\n",
        "print(pd.DataFrame(Pr,PT))"
      ],
      "execution_count": null,
      "outputs": [
        {
          "output_type": "stream",
          "name": "stdout",
          "text": [
            "0.07250187999999999\n",
            "0.50588\n",
            "0.5078400000000001\n",
            "0.5075842000000002\n",
            "                 0\n",
            "p11^8=    0.072502\n",
            "p22^5=    0.505880\n",
            "p(x4=2)=  0.507840\n",
            "p(x6=2)=  0.507584\n"
          ]
        }
      ]
    },
    {
      "cell_type": "markdown",
      "metadata": {
        "id": "HLDd8N1Qov3u"
      },
      "source": [
        "#2 Realization of Markov Chain"
      ]
    },
    {
      "cell_type": "code",
      "metadata": {
        "colab": {
          "base_uri": "https://localhost:8080/"
        },
        "id": "JSOGwkRYpKcw",
        "outputId": "d12b341c-6efb-4389-abb5-b36c0ba590f4"
      },
      "source": [
        "#Q1\n",
        "n=4\n",
        "s=np.arange(1,5)\n",
        "alpha=np.array([1,2,3,4])/10\n",
        "P=np.array([[5,5,0,0],[0,3,3,4],[2,2,4,2],[10,0,0,0]])/10\n",
        "x=[0]*5\n",
        "x[0]=int(np.random.choice(s,1,replace=False,p=alpha))\n",
        "for i in np.arange(1,n+1):\n",
        "  x[i]=int(np.random.choice(s,1,replace=False,p=P[x[i-1]-1,]))\n",
        "\n",
        "print(x)  \n"
      ],
      "execution_count": null,
      "outputs": [
        {
          "output_type": "stream",
          "name": "stdout",
          "text": [
            "[1, 2, 2, 4, 1]\n"
          ]
        }
      ]
    },
    {
      "cell_type": "code",
      "metadata": {
        "colab": {
          "base_uri": "https://localhost:8080/"
        },
        "id": "3Gc5vrmkwHZf",
        "outputId": "2b499757-19c5-47b8-84e6-467773b3a0bb"
      },
      "source": [
        "#Q2\n",
        "n=4\n",
        "s=np.arange(1,4)\n",
        "alpha=np.array([3,5,2])/10\n",
        "P=np.array([[3,2,5],[2,5,3],[3,4,3]])/10\n",
        "x=[0]*5\n",
        "x[0]=int(np.random.choice(s,1,replace=False,p=alpha))\n",
        "for i in np.arange(1,n+1):\n",
        " x[i]=int(np.random.choice(s,1,replace=False,p=P[x[i-1]-1,]))\n",
        "print(x) "
      ],
      "execution_count": null,
      "outputs": [
        {
          "output_type": "stream",
          "name": "stdout",
          "text": [
            "[2, 1, 2, 2, 1]\n"
          ]
        }
      ]
    }
  ]
}