{
  "nbformat": 4,
  "nbformat_minor": 5,
  "metadata": {
    "kernelspec": {
      "display_name": "Python 3",
      "language": "python",
      "name": "python3"
    },
    "language_info": {
      "codemirror_mode": {
        "name": "ipython",
        "version": 3
      },
      "file_extension": ".py",
      "mimetype": "text/x-python",
      "name": "python",
      "nbconvert_exporter": "python",
      "pygments_lexer": "ipython3",
      "version": "3.9.5"
    },
    "colab": {
      "name": "Copy of 11.06.21 Function Exercise.ipynb",
      "provenance": [],
      "include_colab_link": true
    }
  },
  "cells": [
    {
      "cell_type": "markdown",
      "metadata": {
        "id": "view-in-github",
        "colab_type": "text"
      },
      "source": [
        "<a href=\"https://colab.research.google.com/github/Patilpankajsudhakar/GroupNo4--Topic4/blob/main/Copy_of_11_06_21_Function_Exercise.ipynb\" target=\"_parent\"><img src=\"https://colab.research.google.com/assets/colab-badge.svg\" alt=\"Open In Colab\"/></a>"
      ]
    },
    {
      "cell_type": "markdown",
      "metadata": {
        "id": "f90a2c75"
      },
      "source": [
        "# Python Function Excercises"
      ],
      "id": "f90a2c75"
    },
    {
      "cell_type": "markdown",
      "metadata": {
        "id": "c1ee4a87"
      },
      "source": [
        "1. How to define and call a function in Python\n",
        "2. Significance of Indentation (Space) in Python\n",
        "3. How Function Return Value?\n",
        "4. Arguments in Functions"
      ],
      "id": "c1ee4a87"
    },
    {
      "cell_type": "markdown",
      "metadata": {
        "id": "20bca1c1"
      },
      "source": [
        "1. Write a Python function to find the Max of three numbers. "
      ],
      "id": "20bca1c1"
    },
    {
      "cell_type": "code",
      "metadata": {
        "id": "ed571c6d",
        "outputId": "c9c1a153-c6bf-4df8-ab23-81d2f6617021",
        "colab": {
          "base_uri": "https://localhost:8080/"
        }
      },
      "source": [
        "def max2(a,b):\n",
        "    if a<b:\n",
        "        return(b)\n",
        "    else:\n",
        "        return(a)\n",
        " \n",
        "print(\"Maximum number is \",max2(3,6))\n",
        " \n",
        "def max3(x,y,z):\n",
        "    return(max2(x,max2(y,z)))\n",
        " \n",
        "print(\"Maximum number is \",max3(3,9,7))"
      ],
      "id": "ed571c6d",
      "execution_count": 1,
      "outputs": [
        {
          "output_type": "stream",
          "name": "stdout",
          "text": [
            "Maximum number is  6\n",
            "Maximum number is  9\n"
          ]
        }
      ]
    },
    {
      "cell_type": "code",
      "metadata": {
        "id": "c3f94add",
        "outputId": "054bc1fb-11c9-43e3-8deb-e5f493510ac5",
        "colab": {
          "base_uri": "https://localhost:8080/"
        }
      },
      "source": [
        "def max2(a,b):\n",
        "    if a<b:\n",
        "        print(\"Maximum number is \",b)\n",
        "    else:\n",
        "        print(\"Maximum number is \",a)\n",
        "    \n",
        "max2(2,3)\n",
        " \n",
        "def max3(x,y,z):\n",
        "    if x>y and x>z:\n",
        "        print(\"Maximum number is \",x)\n",
        "    elif y>z:\n",
        "        print(\"Maximum number is \",y)\n",
        "    else:\n",
        "        print(\"Maximum number is \",z)\n",
        "            \n",
        "max3(6,3,8)"
      ],
      "id": "c3f94add",
      "execution_count": 2,
      "outputs": [
        {
          "output_type": "stream",
          "name": "stdout",
          "text": [
            "Maximum number is  3\n",
            "Maximum number is  8\n"
          ]
        }
      ]
    },
    {
      "cell_type": "markdown",
      "metadata": {
        "id": "eb0db9df"
      },
      "source": [
        "2. Write a Python function to sum all the numbers in a list. \n",
        "Sample List : (8, 2, 3, 0, 7)\n",
        "Expected Output : 20"
      ],
      "id": "eb0db9df"
    },
    {
      "cell_type": "code",
      "metadata": {
        "id": "adf1720e",
        "colab": {
          "base_uri": "https://localhost:8080/"
        },
        "outputId": "9563ec26-f8d4-47dd-a675-bd6a1366e9d8"
      },
      "source": [
        "sample_list=(8, 2, 3, 0, 7)\n",
        "\n",
        "print(sample_list)\n",
        "\n",
        "def sum2(list1):\n",
        "    total=0\n",
        "    for i in list1:\n",
        "        total+=i\n",
        "    return(total)\n",
        "\n",
        "print(sum2(sample_list))"
      ],
      "id": "adf1720e",
      "execution_count": 3,
      "outputs": [
        {
          "output_type": "stream",
          "name": "stdout",
          "text": [
            "(8, 2, 3, 0, 7)\n",
            "20\n"
          ]
        }
      ]
    },
    {
      "cell_type": "markdown",
      "metadata": {
        "id": "ae1992a4"
      },
      "source": [
        "3. Write a Python function to multiply all the numbers in a list. \n",
        "Sample List : (8, 2, 3, -1, 7)\n",
        "Expected Output : -336"
      ],
      "id": "ae1992a4"
    },
    {
      "cell_type": "code",
      "metadata": {
        "id": "89db983b",
        "colab": {
          "base_uri": "https://localhost:8080/"
        },
        "outputId": "4440b200-c599-48f3-f43a-ee7f67a1b3e2"
      },
      "source": [
        "sample_list=(8, 2, 3, -1, 7)\n",
        "\n",
        "print(sample_list)\n",
        "\n",
        "def multi_list(list1):\n",
        "    total=1\n",
        "    for i in list1:\n",
        "        total*=i\n",
        "    return(total)\n",
        "\n",
        "print(multi_list(sample_list))"
      ],
      "id": "89db983b",
      "execution_count": 4,
      "outputs": [
        {
          "output_type": "stream",
          "name": "stdout",
          "text": [
            "(8, 2, 3, -1, 7)\n",
            "-336\n"
          ]
        }
      ]
    },
    {
      "cell_type": "markdown",
      "metadata": {
        "id": "7271d8f1"
      },
      "source": [
        "4. Write a Python program to reverse a string. \n",
        "Sample String : \"1234abcd\"\n",
        "Expected Output : \"dcba4321\""
      ],
      "id": "7271d8f1"
    },
    {
      "cell_type": "code",
      "metadata": {
        "id": "88685bd7",
        "colab": {
          "base_uri": "https://localhost:8080/"
        },
        "outputId": "8590faaa-2a49-40e4-a852-4e31e384cf12"
      },
      "source": [
        "list1=\"1234abcd\"\n",
        "def reverse(list1):\n",
        "    list2=\"\"\n",
        "    for i in list1:\n",
        "        list2=i+list1\n",
        "    return list2\n",
        "\n",
        "print(reverse(list1))"
      ],
      "id": "88685bd7",
      "execution_count": 5,
      "outputs": [
        {
          "output_type": "stream",
          "name": "stdout",
          "text": [
            "d1234abcd\n"
          ]
        }
      ]
    },
    {
      "cell_type": "markdown",
      "metadata": {
        "id": "c73b3653"
      },
      "source": [
        "5. Write a Python function to calculate the factorial of a number (a non-negative integer). The function accepts the number as an argument. "
      ],
      "id": "c73b3653"
    },
    {
      "cell_type": "code",
      "metadata": {
        "id": "45571b0c",
        "outputId": "62ec4c41-866b-4712-e4b6-d0400448e6fd",
        "colab": {
          "base_uri": "https://localhost:8080/"
        }
      },
      "source": [
        "5!=1*2*3*4*5\n",
        " \n",
        "n=int(input(\"Enter the number\\t:\"))\n",
        " \n",
        "def fact(x):\n",
        "    if x<0:\n",
        "        return 0\n",
        "    elif x==1 or x==0:\n",
        "        return 1\n",
        "    else:\n",
        "        return(x*fact(x-1))\n",
        "        \n",
        "        \n",
        "print(\"factorial of n \", fact(n))"
      ],
      "id": "45571b0c",
      "execution_count": 7,
      "outputs": [
        {
          "output_type": "stream",
          "name": "stdout",
          "text": [
            "Enter the number\t:5\n",
            "factorial of n  120\n"
          ]
        }
      ]
    },
    {
      "cell_type": "markdown",
      "metadata": {
        "id": "31a50781"
      },
      "source": [
        "6. Write a Python function to check whether a number is in a given range. "
      ],
      "id": "31a50781"
    },
    {
      "cell_type": "code",
      "metadata": {
        "id": "86e7fb6a",
        "outputId": "1382aa0e-5b60-42a7-e5f5-1ae142498ad3",
        "colab": {
          "base_uri": "https://localhost:8080/"
        }
      },
      "source": [
        "def is_in(x,y,z):\n",
        "    if x in range(y,z+1):\n",
        "        print(\"%d is in (%d,%d)\"%(x,y,z))\n",
        "    else:\n",
        "        print(\"%d is not in (%s,%s)\"%(x,y,z))\n",
        " \n",
        "n=int(input(\"Enter the number n\\t:\"))\n",
        "a=int(input(\"Enter the number a\\t:\"))\n",
        "b=int(input(\"Enter the number b\\t:\"))\n",
        "is_in(n,a,b)"
      ],
      "id": "86e7fb6a",
      "execution_count": 8,
      "outputs": [
        {
          "output_type": "stream",
          "name": "stdout",
          "text": [
            "Enter the number n\t:7\n",
            "Enter the number a\t:5\n",
            "Enter the number b\t:5\n",
            "7 is not in (5,5)\n"
          ]
        }
      ]
    },
    {
      "cell_type": "code",
      "metadata": {
        "id": "637e4f4f"
      },
      "source": [
        "L=range(1,5)\n",
        "for i in L:\n",
        "    print(i)"
      ],
      "id": "637e4f4f",
      "execution_count": null,
      "outputs": []
    },
    {
      "cell_type": "markdown",
      "metadata": {
        "id": "ecf4e640"
      },
      "source": [
        "7. Write a Python function that accepts a string and calculate the number of upper case letters and lower case letters. \n",
        "Sample String : 'The quick Brow Fox'\n",
        "Expected Output :\n",
        "No. of Upper case characters : 3\n",
        "No. of Lower case Characters : 12"
      ],
      "id": "ecf4e640"
    },
    {
      "cell_type": "code",
      "metadata": {
        "id": "088edad1"
      },
      "source": [
        "def cal_cases(s):\n",
        "    n_Upper=0\n",
        "    n_Lower=0\n",
        "    for i in s:\n",
        "        if i.isupper():\n",
        "            n_Upper+=1\n",
        "        elif i.islower():\n",
        "            n_Lower+=1\n",
        "    print(n_Upper)\n",
        "    print(n_Lower)\n",
        " \n",
        "s=input(\"Enter the statement\\t:\")\n",
        "cal_cases(s)"
      ],
      "id": "088edad1",
      "execution_count": null,
      "outputs": []
    },
    {
      "cell_type": "markdown",
      "metadata": {
        "id": "69dafe3d"
      },
      "source": [
        "8. Write a Python function that takes a list and returns a new list with unique elements of the first list. \n",
        "Sample List : [1,2,3,3,3,3,4,5]\n",
        "Unique List : [1, 2, 3, 4, 5]"
      ],
      "id": "69dafe3d"
    },
    {
      "cell_type": "code",
      "metadata": {
        "id": "e3aab19d"
      },
      "source": [
        "def set2(Sample_List):\n",
        "    temp_list=[]\n",
        "    for i in Sample_List:\n",
        "        if i not in temp_list:\n",
        "            temp_list.append(i)\n",
        "    return(temp_list)\n",
        " \n",
        "Sample_List=[1,2,3,3,3,3,4,5]\n",
        "print(\"Unique List:\",set2(Sample_List))"
      ],
      "id": "e3aab19d",
      "execution_count": null,
      "outputs": []
    },
    {
      "cell_type": "markdown",
      "metadata": {
        "id": "95bfc9ad"
      },
      "source": [
        "9. Write a Python function that takes a number as a parameter and check the number is prime or not. \n",
        "Note : A prime number (or a prime) is a natural number greater than 1 and that has no positive divisors other than 1 and itself."
      ],
      "id": "95bfc9ad"
    },
    {
      "cell_type": "code",
      "metadata": {
        "id": "82680c42"
      },
      "source": [
        "def is_prime(n):\n",
        "    flag=0\n",
        "    for i in range(2,n): \n",
        "        if n%i==0:\n",
        "            print(\"The given number %d is not prime.\"%n)\n",
        "            flag=1\n",
        "            break\n",
        " \n",
        "    if flag==0:\n",
        "        print(\"The given number %d is prime.\"%n)\n",
        " \n",
        "n=int(input(\"Enter the integer\\t:\"))\n",
        "is_prime(n)\n",
        "is_prime(n+1)\n",
        "is_prime(n+2)\n",
        "is_prime(n+3)"
      ],
      "id": "82680c42",
      "execution_count": null,
      "outputs": []
    },
    {
      "cell_type": "code",
      "metadata": {
        "id": "dd400571"
      },
      "source": [
        "def factors(n):\n",
        "    temp=[]\n",
        "    for i in range(1,n+1):\n",
        "        if n%i==0:\n",
        "            temp.append(i)\n",
        "    return temp\n",
        " \n",
        "n=int(input(\"Enter the integer\\t:\"))\n",
        "print(factors(n))"
      ],
      "id": "dd400571",
      "execution_count": null,
      "outputs": []
    },
    {
      "cell_type": "markdown",
      "metadata": {
        "id": "bf292c59"
      },
      "source": [
        "10. Write a Python program to print the even numbers from a given list. \n",
        "Sample List : [1, 2, 3, 4, 5, 6, 7, 8, 9]\n",
        "Expected Result : [2, 4, 6, 8]"
      ],
      "id": "bf292c59"
    },
    {
      "cell_type": "code",
      "metadata": {
        "id": "8da9b05e"
      },
      "source": [
        "def is_evenlist(l):\n",
        "    evenlist = []\n",
        "    for n in l:\n",
        "        if n % 2 == 0:\n",
        "            evenlist.append(n)\n",
        "    return evenlist\n",
        " \n",
        "n=int(input(\"List Length\\t:\"))\n",
        "list1=[]\n",
        "for i in range(n):\n",
        "    list1.append(int(input(\"\")))\n",
        "    \n",
        "print(is_evenlist(list1))"
      ],
      "id": "8da9b05e",
      "execution_count": null,
      "outputs": []
    },
    {
      "cell_type": "code",
      "metadata": {
        "id": "9f53c444"
      },
      "source": [
        "n=int(input(\"List Length\\t:\"))\n",
        "list1=[]\n",
        "for i in range(n):\n",
        "    list1.append(int(input(\"\")))\n",
        " \n",
        "print(list1)"
      ],
      "id": "9f53c444",
      "execution_count": null,
      "outputs": []
    },
    {
      "cell_type": "markdown",
      "metadata": {
        "id": "80094b2d"
      },
      "source": [
        "# Functions with Default Positional Arguments"
      ],
      "id": "80094b2d"
    },
    {
      "cell_type": "code",
      "metadata": {
        "id": "d8a3b64d",
        "outputId": "e7a49185-2ea5-40c4-c253-98fcac24bf40",
        "colab": {
          "base_uri": "https://localhost:8080/"
        }
      },
      "source": [
        "def greet(name,msg):\n",
        "    print(\"Hello %s, %s!!!!!\"%(name,msg))\n",
        "    \n",
        "greet(\"Jagruti\",\"Good Afternoon\")"
      ],
      "id": "d8a3b64d",
      "execution_count": null,
      "outputs": [
        {
          "output_type": "stream",
          "text": [
            "Hello Jagruti, Good Afternoon!!!!!\n"
          ],
          "name": "stdout"
        }
      ]
    },
    {
      "cell_type": "code",
      "metadata": {
        "id": "a8bba295",
        "outputId": "0ebbe07c-f8e4-47dc-fd41-3e0bb10f169b"
      },
      "source": [
        "def greet(name,msg=\"Morning\"):# default argument\n",
        "    print(\"Hello %s, %s!!!!!\"%(name,msg))\n",
        "    \n",
        "greet(\"Jagruti\",\"Good Afternoon\")"
      ],
      "id": "a8bba295",
      "execution_count": null,
      "outputs": [
        {
          "output_type": "stream",
          "text": [
            "Hello Jagruti, Good Afternoon!!!!!\n"
          ],
          "name": "stdout"
        }
      ]
    },
    {
      "cell_type": "code",
      "metadata": {
        "id": "7032aaa1"
      },
      "source": [
        "greet(msg=\"Good Afternoon\",name=\"Jagruti\")   # Positions doesnt matter if variable names are provided"
      ],
      "id": "7032aaa1",
      "execution_count": null,
      "outputs": []
    },
    {
      "cell_type": "code",
      "metadata": {
        "id": "d8bcc1db",
        "outputId": "9a09aa00-b463-42ef-93a7-0fa80482c683",
        "colab": {
          "base_uri": "https://localhost:8080/",
          "height": 282
        }
      },
      "source": [
        "greet(name=\"Jagruti\")"
      ],
      "id": "d8bcc1db",
      "execution_count": null,
      "outputs": [
        {
          "output_type": "error",
          "ename": "TypeError",
          "evalue": "ignored",
          "traceback": [
            "\u001b[0;31m---------------------------------------------------------------------------\u001b[0m",
            "\u001b[0;31mTypeError\u001b[0m                                 Traceback (most recent call last)",
            "\u001b[0;32m<ipython-input-13-0961af4a9112>\u001b[0m in \u001b[0;36m<module>\u001b[0;34m()\u001b[0m\n\u001b[0;32m----> 1\u001b[0;31m \u001b[0mgreet\u001b[0m\u001b[0;34m(\u001b[0m\u001b[0mname\u001b[0m\u001b[0;34m=\u001b[0m\u001b[0;34m\"Jagruti\"\u001b[0m\u001b[0;34m)\u001b[0m\u001b[0;34m\u001b[0m\u001b[0;34m\u001b[0m\u001b[0m\n\u001b[0m",
            "\u001b[0;31mTypeError\u001b[0m: greet() missing 1 required positional argument: 'msg'"
          ]
        }
      ]
    },
    {
      "cell_type": "code",
      "metadata": {
        "id": "caa6002c",
        "outputId": "057b1820-8cf0-4778-9de6-484a9d0fd97b",
        "colab": {
          "base_uri": "https://localhost:8080/"
        }
      },
      "source": [
        "fun=lambda x,y: x**2+y\n",
        "fun(2,3)"
      ],
      "id": "caa6002c",
      "execution_count": null,
      "outputs": [
        {
          "output_type": "execute_result",
          "data": {
            "text/plain": [
              "7"
            ]
          },
          "metadata": {
            "tags": []
          },
          "execution_count": 14
        }
      ]
    },
    {
      "cell_type": "code",
      "metadata": {
        "id": "c19fd7a2"
      },
      "source": [
        ""
      ],
      "id": "c19fd7a2",
      "execution_count": null,
      "outputs": []
    }
  ]
}