{
  "nbformat": 4,
  "nbformat_minor": 0,
  "metadata": {
    "colab": {
      "name": "Laplace Distribution ",
      "provenance": [],
      "authorship_tag": "ABX9TyPt9iyLThkkJN3LdM+dvkx4",
      "include_colab_link": true
    },
    "kernelspec": {
      "name": "python3",
      "display_name": "Python 3"
    },
    "language_info": {
      "name": "python"
    }
  },
  "cells": [
    {
      "cell_type": "markdown",
      "metadata": {
        "id": "view-in-github",
        "colab_type": "text"
      },
      "source": [
        "<a href=\"https://colab.research.google.com/github/Patilpankajsudhakar/GroupNo4--Topic4/blob/main/Laplace_Distribution.ipynb\" target=\"_parent\"><img src=\"https://colab.research.google.com/assets/colab-badge.svg\" alt=\"Open In Colab\"/></a>"
      ]
    },
    {
      "cell_type": "code",
      "metadata": {
        "colab": {
          "base_uri": "https://localhost:8080/"
        },
        "id": "obLytfKiJ_-S",
        "outputId": "aa8ae75c-d04b-4d2e-81c4-5fcfea30a95b"
      },
      "source": [
        "##Creating Laplace continuoes rv\n",
        "#importing \n",
        "from scipy.stats import laplace\n",
        "numargs=laplace.numargs\n",
        "a,b=4.32,3.18\n",
        "rv=laplace(a,b)\n",
        "print('RV:\\n',rv)\n"
      ],
      "execution_count": 1,
      "outputs": [
        {
          "output_type": "stream",
          "name": "stdout",
          "text": [
            "RV:\n",
            " <scipy.stats._distn_infrastructure.rv_frozen object at 0x7f9a190350d0>\n"
          ]
        }
      ]
    },
    {
      "cell_type": "code",
      "metadata": {
        "colab": {
          "base_uri": "https://localhost:8080/"
        },
        "id": "h5epXGN6Lj2S",
        "outputId": "b6bd73d6-6726-4f80-de23-690ed07769b9"
      },
      "source": [
        "#laplace continuoes varibles and probability distribution \n",
        "import numpy as np\n",
        "quantile=np.arange(0.01,1,0.1)\n",
        "#Random variates\n",
        "R=laplace.rvs(a,b)\n",
        "print('Random Variates:\\n',R)\n",
        "##PDF\n",
        "R1=laplace.pdf(a,b,quantile)\n",
        "print(\"\\n probability distribution :\\n\",R1)\n"
      ],
      "execution_count": 2,
      "outputs": [
        {
          "output_type": "stream",
          "name": "stdout",
          "text": [
            "Random Variates:\n",
            " 4.432815644194652\n",
            "\n",
            " probability distribution :\n",
            " [1.54667501e-48 1.43452207e-04 1.04508615e-02 4.07873394e-02\n",
            " 7.56198196e-02 1.04863398e-01 1.26475923e-01 1.41381881e-01\n",
            " 1.51096956e-01 1.56988338e-01]\n"
          ]
        }
      ]
    },
    {
      "cell_type": "code",
      "metadata": {
        "colab": {
          "base_uri": "https://localhost:8080/",
          "height": 795
        },
        "id": "MWSnYdKVNYue",
        "outputId": "590566eb-e92a-45ec-c7e7-5db5b6d06fdb"
      },
      "source": [
        "#Graphical Representaion \n",
        "import numpy as np\n",
        "import matplotlib.pyplot as plt\n",
        "distribution =np.linspace(0,np.minimum(rv.dist.b,3))\n",
        "print(\"Distribution :\\n\",distribution)\n",
        "plot=plt.plot(distribution,rv.pdf(distribution))\n"
      ],
      "execution_count": 3,
      "outputs": [
        {
          "output_type": "stream",
          "name": "stdout",
          "text": [
            "Distribution :\n",
            " [0.         0.06122449 0.12244898 0.18367347 0.24489796 0.30612245\n",
            " 0.36734694 0.42857143 0.48979592 0.55102041 0.6122449  0.67346939\n",
            " 0.73469388 0.79591837 0.85714286 0.91836735 0.97959184 1.04081633\n",
            " 1.10204082 1.16326531 1.2244898  1.28571429 1.34693878 1.40816327\n",
            " 1.46938776 1.53061224 1.59183673 1.65306122 1.71428571 1.7755102\n",
            " 1.83673469 1.89795918 1.95918367 2.02040816 2.08163265 2.14285714\n",
            " 2.20408163 2.26530612 2.32653061 2.3877551  2.44897959 2.51020408\n",
            " 2.57142857 2.63265306 2.69387755 2.75510204 2.81632653 2.87755102\n",
            " 2.93877551 3.        ]\n"
          ]
        },
        {
          "output_type": "display_data",
          "data": {
            "image/png": "[encoded data removed]",
            "text/plain": [
              "<Figure size 432x288 with 1 Axes>"
            ]
          },
          "metadata": {
            "needs_background": "light"
          }
        }
      ]
    },
    {
      "cell_type": "code",
      "metadata": {
        "colab": {
          "base_uri": "https://localhost:8080/",
          "height": 299
        },
        "id": "ERsA8xp4QPli",
        "outputId": "d7780b9f-104d-485b-e912-ee742abda907"
      },
      "source": [
        "x=np.linspace(0,5,100)\n",
        "#varying positional argument\n",
        "y1=laplace.pdf(x,1,3)\n",
        "y2=laplace.pdf(x,1,4)\n",
        "plt.plot(x,y1,\"*\",x,y2,\"r--\")"
      ],
      "execution_count": 4,
      "outputs": [
        {
          "output_type": "execute_result",
          "data": {
            "text/plain": [
              "[<matplotlib.lines.Line2D at 0x7f9a04069c90>,\n",
              " <matplotlib.lines.Line2D at 0x7f9a04086a10>]"
            ]
          },
          "metadata": {},
          "execution_count": 4
        },
        {
          "output_type": "display_data",
          "data": {
            "image/png": "[encoded data removed]",
            "text/plain": [
              "<Figure size 432x288 with 1 Axes>"
            ]
          },
          "metadata": {
            "needs_background": "light"
          }
        }
      ]
    },
    {
      "cell_type": "markdown",
      "metadata": {
        "id": "J2J-Mbf7QOSD"
      },
      "source": [
        ""
      ]
    }
  ]
}