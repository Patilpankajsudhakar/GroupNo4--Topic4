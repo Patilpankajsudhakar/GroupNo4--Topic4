{
  "nbformat": 4,
  "nbformat_minor": 0,
  "metadata": {
    "colab": {
      "name": "MLR.ipynb",
      "provenance": [],
      "collapsed_sections": [],
      "mount_file_id": "1b-D8RLF2YnzVZUAuV_H78Nx2WbdhCcQZ",
      "authorship_tag": "ABX9TyMc1niWB/whPZCTeLTLSR7u",
      "include_colab_link": true
    },
    "kernelspec": {
      "name": "python3",
      "display_name": "Python 3"
    },
    "language_info": {
      "name": "python"
    }
  },
  "cells": [
    {
      "cell_type": "markdown",
      "metadata": {
        "id": "view-in-github",
        "colab_type": "text"
      },
      "source": [
        "<a href=\"https://colab.research.google.com/github/Patilpankajsudhakar/GroupNo4--Topic4/blob/main/MLR.ipynb\" target=\"_parent\"><img src=\"https://colab.research.google.com/assets/colab-badge.svg\" alt=\"Open In Colab\"/></a>"
      ]
    },
    {
      "cell_type": "code",
      "execution_count": null,
      "metadata": {
        "id": "kukbp8oHWOhm"
      },
      "outputs": [],
      "source": [
        "import pandas_datareader as pdr\n",
        "import pandas as pd\n",
        "import numpy as np\n",
        "import matplotlib.pyplot as plt,seaborn as sns\n",
        "%matplotlib inline\n",
        "from datetime import datetime"
      ]
    },
    {
      "cell_type": "code",
      "source": [
        "from mpl_toolkits.mplot3d import Axes3D\n",
        "import pandas as pd\n",
        "import matplotlib.pyplot as plt\n",
        "import numpy as np\n",
        "from sklearn import linear_model\n",
        "np.random.seed(19680801)"
      ],
      "metadata": {
        "id": "cF-9yd3GsM3v"
      },
      "execution_count": null,
      "outputs": []
    },
    {
      "cell_type": "code",
      "source": [
        "#data=pd.read_csv(\"/content/drive/MyDrive/MSCPROJ/newdatasetmumbai.csv\")\n",
        "data=pd.read_csv(\"/content/drive/MyDrive/MSCPROJ/Newdatasetmumbai.csv\")"
      ],
      "metadata": {
        "id": "ZN2JFRaKWrj9"
      },
      "execution_count": null,
      "outputs": []
    },
    {
      "cell_type": "code",
      "source": [
        "data.head()"
      ],
      "metadata": {
        "colab": {
          "base_uri": "https://localhost:8080/",
          "height": 386
        },
        "id": "XOI5d8lQsSA7",
        "outputId": "49206b11-2904-4219-d7c3-04ddedc36468"
      },
      "execution_count": null,
      "outputs": [
        {
          "output_type": "execute_result",
          "data": {
            "text/plain": [
              "        City                         Station        Date         FromDate  \\\n",
              "0  Mumbai-01  BandraKurlaComplex,Mumbai-IITM  10/11/2020  10-11-202000:00   \n",
              "1  Mumbai-01  BandraKurlaComplex,Mumbai-IITM  11/11/2020  11-11-202000:00   \n",
              "2  Mumbai-01  BandraKurlaComplex,Mumbai-IITM  12/11/2020  12-11-202000:00   \n",
              "3  Mumbai-01  BandraKurlaComplex,Mumbai-IITM  13/11/2020  13-11-202000:00   \n",
              "4  Mumbai-01  BandraKurlaComplex,Mumbai-IITM  14/11/2020  14-11-202000:00   \n",
              "\n",
              "            ToDate  PM2.5    PM10     NO    NO2     NH3  ...     I6(SO2)  \\\n",
              "0  11-11-202000:00  28.85  289.36  70.61  58.47  174.30  ...  149.533333   \n",
              "1  12-11-202000:00  90.91  266.66  59.70  51.01  153.50  ...  135.666667   \n",
              "2  13-11-202000:00  26.19  237.63  76.37  92.88  157.16  ...  138.106667   \n",
              "3  14-11-202000:00  27.24  243.11  86.95  45.14  185.24  ...  156.826667   \n",
              "4  15-11-202000:00  27.93  180.92  62.56  68.73  131.72  ...  121.146667   \n",
              "\n",
              "   I7(CO)  I1(PM2.5).1  I2(PM10).1  I3(NO).1  I4(NO2).1  I5(NH3).1  I6(SO2).1  \\\n",
              "0    3.01            0           1         1          1          1          1   \n",
              "1    3.24            0           1         1          1          1          1   \n",
              "2    8.28            0           1         1          1          1          1   \n",
              "3    3.26            0           1         1          1          1          1   \n",
              "4    7.24            0           1         1          1          1          1   \n",
              "\n",
              "   I7(CO).1     AQI  \n",
              "0         1  239.36  \n",
              "1         1  216.66  \n",
              "2         1  191.75  \n",
              "3         1  195.41  \n",
              "4         1  153.95  \n",
              "\n",
              "[5 rows x 31 columns]"
            ],
            "text/html": [
              "\n",
              "  <div id=\"df-5abddd3b-29fc-4b9b-b6b2-26430bb552bf\">\n",
              "    <div class=\"colab-df-container\">\n",
              "      <div>\n",
              "<style scoped>\n",
              "    .dataframe tbody tr th:only-of-type {\n",
              "        vertical-align: middle;\n",
              "    }\n",
              "\n",
              "    .dataframe tbody tr th {\n",
              "        vertical-align: top;\n",
              "    }\n",
              "\n",
              "    .dataframe thead th {\n",
              "        text-align: right;\n",
              "    }\n",
              "</style>\n",
              "<table border=\"1\" class=\"dataframe\">\n",
              "  <thead>\n",
              "    <tr style=\"text-align: right;\">\n",
              "      <th></th>\n",
              "      <th>City</th>\n",
              "      <th>Station</th>\n",
              "      <th>Date</th>\n",
              "      <th>FromDate</th>\n",
              "      <th>ToDate</th>\n",
              "      <th>PM2.5</th>\n",
              "      <th>PM10</th>\n",
              "      <th>NO</th>\n",
              "      <th>NO2</th>\n",
              "      <th>NH3</th>\n",
              "      <th>...</th>\n",
              "      <th>I6(SO2)</th>\n",
              "      <th>I7(CO)</th>\n",
              "      <th>I1(PM2.5).1</th>\n",
              "      <th>I2(PM10).1</th>\n",
              "      <th>I3(NO).1</th>\n",
              "      <th>I4(NO2).1</th>\n",
              "      <th>I5(NH3).1</th>\n",
              "      <th>I6(SO2).1</th>\n",
              "      <th>I7(CO).1</th>\n",
              "      <th>AQI</th>\n",
              "    </tr>\n",
              "  </thead>\n",
              "  <tbody>\n",
              "    <tr>\n",
              "      <th>0</th>\n",
              "      <td>Mumbai-01</td>\n",
              "      <td>BandraKurlaComplex,Mumbai-IITM</td>\n",
              "      <td>10/11/2020</td>\n",
              "      <td>10-11-202000:00</td>\n",
              "      <td>11-11-202000:00</td>\n",
              "      <td>28.85</td>\n",
              "      <td>289.36</td>\n",
              "      <td>70.61</td>\n",
              "      <td>58.47</td>\n",
              "      <td>174.30</td>\n",
              "      <td>...</td>\n",
              "      <td>149.533333</td>\n",
              "      <td>3.01</td>\n",
              "      <td>0</td>\n",
              "      <td>1</td>\n",
              "      <td>1</td>\n",
              "      <td>1</td>\n",
              "      <td>1</td>\n",
              "      <td>1</td>\n",
              "      <td>1</td>\n",
              "      <td>239.36</td>\n",
              "    </tr>\n",
              "    <tr>\n",
              "      <th>1</th>\n",
              "      <td>Mumbai-01</td>\n",
              "      <td>BandraKurlaComplex,Mumbai-IITM</td>\n",
              "      <td>11/11/2020</td>\n",
              "      <td>11-11-202000:00</td>\n",
              "      <td>12-11-202000:00</td>\n",
              "      <td>90.91</td>\n",
              "      <td>266.66</td>\n",
              "      <td>59.70</td>\n",
              "      <td>51.01</td>\n",
              "      <td>153.50</td>\n",
              "      <td>...</td>\n",
              "      <td>135.666667</td>\n",
              "      <td>3.24</td>\n",
              "      <td>0</td>\n",
              "      <td>1</td>\n",
              "      <td>1</td>\n",
              "      <td>1</td>\n",
              "      <td>1</td>\n",
              "      <td>1</td>\n",
              "      <td>1</td>\n",
              "      <td>216.66</td>\n",
              "    </tr>\n",
              "    <tr>\n",
              "      <th>2</th>\n",
              "      <td>Mumbai-01</td>\n",
              "      <td>BandraKurlaComplex,Mumbai-IITM</td>\n",
              "      <td>12/11/2020</td>\n",
              "      <td>12-11-202000:00</td>\n",
              "      <td>13-11-202000:00</td>\n",
              "      <td>26.19</td>\n",
              "      <td>237.63</td>\n",
              "      <td>76.37</td>\n",
              "      <td>92.88</td>\n",
              "      <td>157.16</td>\n",
              "      <td>...</td>\n",
              "      <td>138.106667</td>\n",
              "      <td>8.28</td>\n",
              "      <td>0</td>\n",
              "      <td>1</td>\n",
              "      <td>1</td>\n",
              "      <td>1</td>\n",
              "      <td>1</td>\n",
              "      <td>1</td>\n",
              "      <td>1</td>\n",
              "      <td>191.75</td>\n",
              "    </tr>\n",
              "    <tr>\n",
              "      <th>3</th>\n",
              "      <td>Mumbai-01</td>\n",
              "      <td>BandraKurlaComplex,Mumbai-IITM</td>\n",
              "      <td>13/11/2020</td>\n",
              "      <td>13-11-202000:00</td>\n",
              "      <td>14-11-202000:00</td>\n",
              "      <td>27.24</td>\n",
              "      <td>243.11</td>\n",
              "      <td>86.95</td>\n",
              "      <td>45.14</td>\n",
              "      <td>185.24</td>\n",
              "      <td>...</td>\n",
              "      <td>156.826667</td>\n",
              "      <td>3.26</td>\n",
              "      <td>0</td>\n",
              "      <td>1</td>\n",
              "      <td>1</td>\n",
              "      <td>1</td>\n",
              "      <td>1</td>\n",
              "      <td>1</td>\n",
              "      <td>1</td>\n",
              "      <td>195.41</td>\n",
              "    </tr>\n",
              "    <tr>\n",
              "      <th>4</th>\n",
              "      <td>Mumbai-01</td>\n",
              "      <td>BandraKurlaComplex,Mumbai-IITM</td>\n",
              "      <td>14/11/2020</td>\n",
              "      <td>14-11-202000:00</td>\n",
              "      <td>15-11-202000:00</td>\n",
              "      <td>27.93</td>\n",
              "      <td>180.92</td>\n",
              "      <td>62.56</td>\n",
              "      <td>68.73</td>\n",
              "      <td>131.72</td>\n",
              "      <td>...</td>\n",
              "      <td>121.146667</td>\n",
              "      <td>7.24</td>\n",
              "      <td>0</td>\n",
              "      <td>1</td>\n",
              "      <td>1</td>\n",
              "      <td>1</td>\n",
              "      <td>1</td>\n",
              "      <td>1</td>\n",
              "      <td>1</td>\n",
              "      <td>153.95</td>\n",
              "    </tr>\n",
              "  </tbody>\n",
              "</table>\n",
              "<p>5 rows × 31 columns</p>\n",
              "</div>\n",
              "      <button class=\"colab-df-convert\" onclick=\"convertToInteractive('df-5abddd3b-29fc-4b9b-b6b2-26430bb552bf')\"\n",
              "              title=\"Convert this dataframe to an interactive table.\"\n",
              "              style=\"display:none;\">\n",
              "        \n",
              "  <svg xmlns=\"http://www.w3.org/2000/svg\" height=\"24px\"viewBox=\"0 0 24 24\"\n",
              "       width=\"24px\">\n",
              "    <path d=\"M0 0h24v24H0V0z\" fill=\"none\"/>\n",
              "    <path d=\"M18.56 5.44l.94 2.06.94-2.06 2.06-.94-2.06-.94-.94-2.06-.94 2.06-2.06.94zm-11 1L8.5 8.5l.94-2.06 2.06-.94-2.06-.94L8.5 2.5l-.94 2.06-2.06.94zm10 10l.94 2.06.94-2.06 2.06-.94-2.06-.94-.94-2.06-.94 2.06-2.06.94z\"/><path d=\"M17.41 7.96l-1.37-1.37c-.4-.4-.92-.59-1.43-.59-.52 0-1.04.2-1.43.59L10.3 9.45l-7.72 7.72c-.78.78-.78 2.05 0 2.83L4 21.41c.39.39.9.59 1.41.59.51 0 1.02-.2 1.41-.59l7.78-7.78 2.81-2.81c.8-.78.8-2.07 0-2.86zM5.41 20L4 18.59l7.72-7.72 1.47 1.35L5.41 20z\"/>\n",
              "  </svg>\n",
              "      </button>\n",
              "      \n",
              "  <style>\n",
              "    .colab-df-container {\n",
              "      display:flex;\n",
              "      flex-wrap:wrap;\n",
              "      gap: 12px;\n",
              "    }\n",
              "\n",
              "    .colab-df-convert {\n",
              "      background-color: #E8F0FE;\n",
              "      border: none;\n",
              "      border-radius: 50%;\n",
              "      cursor: pointer;\n",
              "      display: none;\n",
              "      fill: #1967D2;\n",
              "      height: 32px;\n",
              "      padding: 0 0 0 0;\n",
              "      width: 32px;\n",
              "    }\n",
              "\n",
              "    .colab-df-convert:hover {\n",
              "      background-color: #E2EBFA;\n",
              "      box-shadow: 0px 1px 2px rgba(60, 64, 67, 0.3), 0px 1px 3px 1px rgba(60, 64, 67, 0.15);\n",
              "      fill: #174EA6;\n",
              "    }\n",
              "\n",
              "    [theme=dark] .colab-df-convert {\n",
              "      background-color: #3B4455;\n",
              "      fill: #D2E3FC;\n",
              "    }\n",
              "\n",
              "    [theme=dark] .colab-df-convert:hover {\n",
              "      background-color: #434B5C;\n",
              "      box-shadow: 0px 1px 3px 1px rgba(0, 0, 0, 0.15);\n",
              "      filter: drop-shadow(0px 1px 2px rgba(0, 0, 0, 0.3));\n",
              "      fill: #FFFFFF;\n",
              "    }\n",
              "  </style>\n",
              "\n",
              "      <script>\n",
              "        const buttonEl =\n",
              "          document.querySelector('#df-5abddd3b-29fc-4b9b-b6b2-26430bb552bf button.colab-df-convert');\n",
              "        buttonEl.style.display =\n",
              "          google.colab.kernel.accessAllowed ? 'block' : 'none';\n",
              "\n",
              "        async function convertToInteractive(key) {\n",
              "          const element = document.querySelector('#df-5abddd3b-29fc-4b9b-b6b2-26430bb552bf');\n",
              "          const dataTable =\n",
              "            await google.colab.kernel.invokeFunction('convertToInteractive',\n",
              "                                                     [key], {});\n",
              "          if (!dataTable) return;\n",
              "\n",
              "          const docLinkHtml = 'Like what you see? Visit the ' +\n",
              "            '<a target=\"_blank\" href=https://colab.research.google.com/notebooks/data_table.ipynb>data table notebook</a>'\n",
              "            + ' to learn more about interactive tables.';\n",
              "          element.innerHTML = '';\n",
              "          dataTable['output_type'] = 'display_data';\n",
              "          await google.colab.output.renderOutput(dataTable, element);\n",
              "          const docLink = document.createElement('div');\n",
              "          docLink.innerHTML = docLinkHtml;\n",
              "          element.appendChild(docLink);\n",
              "        }\n",
              "      </script>\n",
              "    </div>\n",
              "  </div>\n",
              "  "
            ]
          },
          "metadata": {},
          "execution_count": 242
        }
      ]
    },
    {
      "cell_type": "code",
      "source": [
        "data.info()"
      ],
      "metadata": {
        "colab": {
          "base_uri": "https://localhost:8080/"
        },
        "id": "QM1ZIe5KY3Kg",
        "outputId": "1e135122-6654-4703-948c-2f9dd14c9f08"
      },
      "execution_count": null,
      "outputs": [
        {
          "output_type": "stream",
          "name": "stdout",
          "text": [
            "<class 'pandas.core.frame.DataFrame'>\n",
            "RangeIndex: 10034 entries, 0 to 10033\n",
            "Data columns (total 31 columns):\n",
            " #   Column       Non-Null Count  Dtype  \n",
            "---  ------       --------------  -----  \n",
            " 0   City         10034 non-null  object \n",
            " 1   Station      10034 non-null  object \n",
            " 2   Date         10034 non-null  object \n",
            " 3   FromDate     10034 non-null  object \n",
            " 4   ToDate       10034 non-null  object \n",
            " 5   PM2.5        10034 non-null  float64\n",
            " 6   PM10         9438 non-null   float64\n",
            " 7   NO           9849 non-null   float64\n",
            " 8   NO2          9873 non-null   float64\n",
            " 9   NH3          8659 non-null   float64\n",
            " 10  SO2          9260 non-null   float64\n",
            " 11  CO           9850 non-null   float64\n",
            " 12  Benzene      8955 non-null   float64\n",
            " 13  Ozone        7221 non-null   float64\n",
            " 14  CH4          334 non-null    float64\n",
            " 15  CO2          2594 non-null   float64\n",
            " 16  I1(PM2.5)    10034 non-null  int64  \n",
            " 17  I2(PM10)     10034 non-null  float64\n",
            " 18  I3(NO)       10034 non-null  float64\n",
            " 19  I4(NO2)      10034 non-null  float64\n",
            " 20  I5(NH3)      10034 non-null  float64\n",
            " 21  I6(SO2)      10034 non-null  float64\n",
            " 22  I7(CO)       10034 non-null  float64\n",
            " 23  I1(PM2.5).1  10034 non-null  int64  \n",
            " 24  I2(PM10).1   10034 non-null  int64  \n",
            " 25  I3(NO).1     10034 non-null  int64  \n",
            " 26  I4(NO2).1    10034 non-null  int64  \n",
            " 27  I5(NH3).1    10034 non-null  int64  \n",
            " 28  I6(SO2).1    10034 non-null  int64  \n",
            " 29  I7(CO).1     10034 non-null  int64  \n",
            " 30  AQI          10034 non-null  float64\n",
            "dtypes: float64(18), int64(8), object(5)\n",
            "memory usage: 2.4+ MB\n"
          ]
        }
      ]
    },
    {
      "cell_type": "code",
      "source": [
        "pd.isnull(data[\"PM2.5\"]).sum()"
      ],
      "metadata": {
        "colab": {
          "base_uri": "https://localhost:8080/"
        },
        "id": "DJFZ8S-2XfZr",
        "outputId": "535ab511-87aa-451a-b78e-788f193529ea"
      },
      "execution_count": null,
      "outputs": [
        {
          "output_type": "execute_result",
          "data": {
            "text/plain": [
              "0"
            ]
          },
          "metadata": {},
          "execution_count": 244
        }
      ]
    },
    {
      "cell_type": "code",
      "source": [
        "pd.isnull(data[\"PM10\"]).sum()"
      ],
      "metadata": {
        "colab": {
          "base_uri": "https://localhost:8080/"
        },
        "id": "jt5dUwZYszsQ",
        "outputId": "1cf61bdf-aa64-426f-9f15-bff7768f8f58"
      },
      "execution_count": null,
      "outputs": [
        {
          "output_type": "execute_result",
          "data": {
            "text/plain": [
              "596"
            ]
          },
          "metadata": {},
          "execution_count": 245
        }
      ]
    },
    {
      "cell_type": "code",
      "source": [
        "data['AQI'].plot(kind=\"hist\")"
      ],
      "metadata": {
        "colab": {
          "base_uri": "https://localhost:8080/",
          "height": 282
        },
        "id": "QKCdnmdDAO9n",
        "outputId": "e1d44994-dbff-4fdb-8b6a-b1c6625dec1c"
      },
      "execution_count": null,
      "outputs": [
        {
          "output_type": "execute_result",
          "data": {
            "text/plain": [
              "<matplotlib.axes._subplots.AxesSubplot at 0x7fe9f331c450>"
            ]
          },
          "metadata": {},
          "execution_count": 246
        },
        {
          "output_type": "display_data",
          "data": {
            "text/plain": [
              "<Figure size 432x288 with 1 Axes>"
            ],
            "image/png": "[encoded data removed]"
          },
          "metadata": {
            "needs_background": "light"
          }
        }
      ]
    },
    {
      "cell_type": "code",
      "source": [
        "from scipy.stats import boxcox"
      ],
      "metadata": {
        "id": "PzAySMEyBPVQ"
      },
      "execution_count": null,
      "outputs": []
    },
    {
      "cell_type": "code",
      "source": [
        "# power transform\n",
        "df1 = boxcox(data['AQI'], 0)"
      ],
      "metadata": {
        "id": "XUDImoKGBKPk"
      },
      "execution_count": null,
      "outputs": []
    },
    {
      "cell_type": "code",
      "source": [
        "plt.hist(df1)"
      ],
      "metadata": {
        "colab": {
          "base_uri": "https://localhost:8080/",
          "height": 371
        },
        "id": "sUNp18OCBWW3",
        "outputId": "d5935efb-b91e-48cf-982c-c2ac34caaf80"
      },
      "execution_count": null,
      "outputs": [
        {
          "output_type": "execute_result",
          "data": {
            "text/plain": [
              "(array([  18.,  197.,  467., 1078., 1746., 1965., 2888., 1485.,  177.,\n",
              "          13.]),\n",
              " array([1.93007109, 2.36585913, 2.80164717, 3.23743521, 3.67322325,\n",
              "        4.10901129, 4.54479933, 4.98058737, 5.41637541, 5.85216345,\n",
              "        6.28795149]),\n",
              " <a list of 10 Patch objects>)"
            ]
          },
          "metadata": {},
          "execution_count": 249
        },
        {
          "output_type": "display_data",
          "data": {
            "text/plain": [
              "<Figure size 432x288 with 1 Axes>"
            ],
            "image/png": "[encoded data removed]"
          },
          "metadata": {
            "needs_background": "light"
          }
        }
      ]
    },
    {
      "cell_type": "code",
      "source": [
        "# Anderson-Darling Test\n",
        "from scipy.stats import anderson\n",
        "# normality test\n",
        "result = anderson(df1)\n",
        "print('Statistic: %.3f' % result.statistic)\n",
        "p = 0\n",
        "for i in range(len(result.critical_values)):\n",
        "\tsl, cv = result.significance_level[i], result.critical_values[i]\n",
        "\tif result.statistic < result.critical_values[i]:\n",
        "\t\tprint('%.3f: %.3f, data looks normal (fail to reject H0)' % (sl, cv))\n",
        "\telse:\n",
        "\t\tprint('%.3f: %.3f, data does not look normal (reject H0)' % (sl, cv))"
      ],
      "metadata": {
        "colab": {
          "base_uri": "https://localhost:8080/"
        },
        "id": "9hv-gi3yBo2t",
        "outputId": "87cd54ac-fd7c-4722-bb45-d9626314f567"
      },
      "execution_count": null,
      "outputs": [
        {
          "output_type": "stream",
          "name": "stdout",
          "text": [
            "Statistic: 87.434\n",
            "15.000: 0.576, data does not look normal (reject H0)\n",
            "10.000: 0.656, data does not look normal (reject H0)\n",
            "5.000: 0.787, data does not look normal (reject H0)\n",
            "2.500: 0.918, data does not look normal (reject H0)\n",
            "1.000: 1.092, data does not look normal (reject H0)\n"
          ]
        }
      ]
    },
    {
      "cell_type": "code",
      "source": [
        "log_target = np.log1p(data[\"AQI\"])"
      ],
      "metadata": {
        "id": "cD5sZBgBCKOk"
      },
      "execution_count": null,
      "outputs": []
    },
    {
      "cell_type": "code",
      "source": [
        "plt.hist(log_target)"
      ],
      "metadata": {
        "colab": {
          "base_uri": "https://localhost:8080/",
          "height": 372
        },
        "id": "ELjwV9QICUXW",
        "outputId": "f7998e96-e7b1-4ca4-d72b-29227311d7c3"
      },
      "execution_count": null,
      "outputs": [
        {
          "output_type": "execute_result",
          "data": {
            "text/plain": [
              "(array([  24.,  231.,  542., 1146., 1795., 1929., 2880., 1324.,  150.,\n",
              "          13.]),\n",
              " array([2.06559613, 2.48801735, 2.91043857, 3.33285979, 3.75528101,\n",
              "        4.17770223, 4.60012345, 5.02254467, 5.44496589, 5.86738711,\n",
              "        6.28980833]),\n",
              " <a list of 10 Patch objects>)"
            ]
          },
          "metadata": {},
          "execution_count": 252
        },
        {
          "output_type": "display_data",
          "data": {
            "text/plain": [
              "<Figure size 432x288 with 1 Axes>"
            ],
            "image/png": "[encoded data removed]"
          },
          "metadata": {
            "needs_background": "light"
          }
        }
      ]
    },
    {
      "cell_type": "code",
      "source": [
        "# Anderson-Darling Test\n",
        "from scipy.stats import anderson\n",
        "# normality test\n",
        "result = anderson(log_target)\n",
        "print('Statistic: %.3f' % result.statistic)\n",
        "p = 0\n",
        "for i in range(len(result.critical_values)):\n",
        "\tsl, cv = result.significance_level[i], result.critical_values[i]\n",
        "\tif result.statistic < result.critical_values[i]:\n",
        "\t\tprint('%.3f: %.3f, data looks normal (fail to reject H0)' % (sl, cv))\n",
        "\telse:\n",
        "\t\tprint('%.3f: %.3f, data does not look normal (reject H0)' % (sl, cv))"
      ],
      "metadata": {
        "colab": {
          "base_uri": "https://localhost:8080/"
        },
        "id": "9aFbQd0FCibW",
        "outputId": "d35adae2-03e3-4435-ccff-be1b8e74afa3"
      },
      "execution_count": null,
      "outputs": [
        {
          "output_type": "stream",
          "name": "stdout",
          "text": [
            "Statistic: 83.881\n",
            "15.000: 0.576, data does not look normal (reject H0)\n",
            "10.000: 0.656, data does not look normal (reject H0)\n",
            "5.000: 0.787, data does not look normal (reject H0)\n",
            "2.500: 0.918, data does not look normal (reject H0)\n",
            "1.000: 1.092, data does not look normal (reject H0)\n"
          ]
        }
      ]
    },
    {
      "cell_type": "code",
      "source": [
        "from scipy.stats import yeojohnson\n",
        "yf_target, lam = yeojohnson(data[\"AQI\"])"
      ],
      "metadata": {
        "id": "WSv6IBOKC4Fn"
      },
      "execution_count": null,
      "outputs": []
    },
    {
      "cell_type": "code",
      "source": [
        "plt.hist(yf_target)"
      ],
      "metadata": {
        "colab": {
          "base_uri": "https://localhost:8080/",
          "height": 369
        },
        "id": "A9eott17C8fc",
        "outputId": "ea9c1af4-08d2-4c93-84f2-9d89891de32f"
      },
      "execution_count": null,
      "outputs": [
        {
          "output_type": "execute_result",
          "data": {
            "text/plain": [
              "(array([ 229.,  994., 1879., 2020., 2520., 1760.,  540.,   77.,   11.,\n",
              "           4.]),\n",
              " array([ 2.97833944,  4.83767935,  6.69701927,  8.55635918, 10.4156991 ,\n",
              "        12.27503901, 14.13437893, 15.99371884, 17.85305876, 19.71239867,\n",
              "        21.57173859]),\n",
              " <a list of 10 Patch objects>)"
            ]
          },
          "metadata": {},
          "execution_count": 255
        },
        {
          "output_type": "display_data",
          "data": {
            "text/plain": [
              "<Figure size 432x288 with 1 Axes>"
            ],
            "image/png": "[encoded data removed]"
          },
          "metadata": {
            "needs_background": "light"
          }
        }
      ]
    },
    {
      "cell_type": "code",
      "source": [
        "# Anderson-Darling Test\n",
        "from scipy.stats import anderson\n",
        "# normality test\n",
        "result = anderson(yf_target)\n",
        "print('Statistic: %.3f' % result.statistic)\n",
        "p = 0\n",
        "for i in range(len(result.critical_values)):\n",
        "\tsl, cv = result.significance_level[i], result.critical_values[i]\n",
        "\tif result.statistic < result.critical_values[i]:\n",
        "\t\tprint('%.3f: %.3f, data looks normal (fail to reject H0)' % (sl, cv))\n",
        "\telse:\n",
        "\t\tprint('%.3f: %.3f, data does not look normal (reject H0)' % (sl, cv))"
      ],
      "metadata": {
        "colab": {
          "base_uri": "https://localhost:8080/"
        },
        "id": "lebSHhjYDMRw",
        "outputId": "d9fa7c4d-5a76-46f1-9fd8-19278eadb1e7"
      },
      "execution_count": null,
      "outputs": [
        {
          "output_type": "stream",
          "name": "stdout",
          "text": [
            "Statistic: 31.461\n",
            "15.000: 0.576, data does not look normal (reject H0)\n",
            "10.000: 0.656, data does not look normal (reject H0)\n",
            "5.000: 0.787, data does not look normal (reject H0)\n",
            "2.500: 0.918, data does not look normal (reject H0)\n",
            "1.000: 1.092, data does not look normal (reject H0)\n"
          ]
        }
      ]
    },
    {
      "cell_type": "code",
      "source": [
        "data['PM10']=data['PM10'].fillna(data['PM10'].median())\n",
        "data['PM2.5']=data['PM2.5'].fillna(data['PM2.5'].median())\n",
        "data['NO']=data['NO'].fillna(data['NO'].median())\n",
        "data['NO2']=data['NO2'].fillna(data['NO2'].median())\n",
        "data['SO2']=data['SO2'].fillna(data['SO2'].median())\n",
        "data['CO']=data['CO'].fillna(data['CO'].median())\n",
        "data['NH3']=data['NH3'].fillna(data['NH3'].median())"
      ],
      "metadata": {
        "id": "vpz6TCeOZXcp"
      },
      "execution_count": null,
      "outputs": []
    },
    {
      "cell_type": "code",
      "source": [
        "pd.isnull(data[\"AQI\"]).sum()"
      ],
      "metadata": {
        "colab": {
          "base_uri": "https://localhost:8080/"
        },
        "id": "8H7H2FNpxRbX",
        "outputId": "a57eaff2-6fd4-4fb1-8ecf-b026c935a613"
      },
      "execution_count": null,
      "outputs": [
        {
          "output_type": "execute_result",
          "data": {
            "text/plain": [
              "0"
            ]
          },
          "metadata": {},
          "execution_count": 258
        }
      ]
    },
    {
      "cell_type": "code",
      "source": [
        "data.count()"
      ],
      "metadata": {
        "colab": {
          "base_uri": "https://localhost:8080/"
        },
        "id": "6IvCzsvQtkn3",
        "outputId": "c3bdd134-a1ba-4eac-ce17-614bc712d83e"
      },
      "execution_count": null,
      "outputs": [
        {
          "output_type": "execute_result",
          "data": {
            "text/plain": [
              "City           10034\n",
              "Station        10034\n",
              "Date           10034\n",
              "FromDate       10034\n",
              "ToDate         10034\n",
              "PM2.5          10034\n",
              "PM10           10034\n",
              "NO             10034\n",
              "NO2            10034\n",
              "NH3            10034\n",
              "SO2            10034\n",
              "CO             10034\n",
              "Benzene         8955\n",
              "Ozone           7221\n",
              "CH4              334\n",
              "CO2             2594\n",
              "I1(PM2.5)      10034\n",
              "I2(PM10)       10034\n",
              "I3(NO)         10034\n",
              "I4(NO2)        10034\n",
              "I5(NH3)        10034\n",
              "I6(SO2)        10034\n",
              "I7(CO)         10034\n",
              "I1(PM2.5).1    10034\n",
              "I2(PM10).1     10034\n",
              "I3(NO).1       10034\n",
              "I4(NO2).1      10034\n",
              "I5(NH3).1      10034\n",
              "I6(SO2).1      10034\n",
              "I7(CO).1       10034\n",
              "AQI            10034\n",
              "dtype: int64"
            ]
          },
          "metadata": {},
          "execution_count": 259
        }
      ]
    },
    {
      "cell_type": "code",
      "source": [
        "x = data.iloc[:,6:12]\n",
        "y = data['AQI']"
      ],
      "metadata": {
        "id": "O4jf4pO2tod-"
      },
      "execution_count": null,
      "outputs": []
    },
    {
      "cell_type": "code",
      "source": [
        "x"
      ],
      "metadata": {
        "colab": {
          "base_uri": "https://localhost:8080/",
          "height": 424
        },
        "id": "k5vJoAu7F9NX",
        "outputId": "a2c35351-4d8f-430b-d29e-674c6bdea5e6"
      },
      "execution_count": null,
      "outputs": [
        {
          "output_type": "execute_result",
          "data": {
            "text/plain": [
              "         PM10     NO    NO2     NH3    SO2    CO\n",
              "0      289.36  70.61  58.47  174.30   3.01  0.20\n",
              "1      266.66  59.70  51.01  153.50   3.24  0.35\n",
              "2      237.63  76.37  92.88  157.16   8.28  1.11\n",
              "3      243.11  86.95  45.14  185.24   3.26  0.76\n",
              "4      180.92  62.56  68.73  131.72   7.24  1.80\n",
              "...       ...    ...    ...     ...    ...   ...\n",
              "10029  190.44   9.17  27.07    9.89  26.64  1.78\n",
              "10030  252.58  10.33  33.07    9.13  19.91  1.80\n",
              "10031  244.83   9.71  34.67    8.92  20.31  1.89\n",
              "10032  234.80   9.14  30.31    9.43  20.84  1.84\n",
              "10033  127.84   5.26  23.24    7.95  20.63  1.56\n",
              "\n",
              "[10034 rows x 6 columns]"
            ],
            "text/html": [
              "\n",
              "  <div id=\"df-575534f0-b6c0-478e-9c19-3c918681779a\">\n",
              "    <div class=\"colab-df-container\">\n",
              "      <div>\n",
              "<style scoped>\n",
              "    .dataframe tbody tr th:only-of-type {\n",
              "        vertical-align: middle;\n",
              "    }\n",
              "\n",
              "    .dataframe tbody tr th {\n",
              "        vertical-align: top;\n",
              "    }\n",
              "\n",
              "    .dataframe thead th {\n",
              "        text-align: right;\n",
              "    }\n",
              "</style>\n",
              "<table border=\"1\" class=\"dataframe\">\n",
              "  <thead>\n",
              "    <tr style=\"text-align: right;\">\n",
              "      <th></th>\n",
              "      <th>PM10</th>\n",
              "      <th>NO</th>\n",
              "      <th>NO2</th>\n",
              "      <th>NH3</th>\n",
              "      <th>SO2</th>\n",
              "      <th>CO</th>\n",
              "    </tr>\n",
              "  </thead>\n",
              "  <tbody>\n",
              "    <tr>\n",
              "      <th>0</th>\n",
              "      <td>289.36</td>\n",
              "      <td>70.61</td>\n",
              "      <td>58.47</td>\n",
              "      <td>174.30</td>\n",
              "      <td>3.01</td>\n",
              "      <td>0.20</td>\n",
              "    </tr>\n",
              "    <tr>\n",
              "      <th>1</th>\n",
              "      <td>266.66</td>\n",
              "      <td>59.70</td>\n",
              "      <td>51.01</td>\n",
              "      <td>153.50</td>\n",
              "      <td>3.24</td>\n",
              "      <td>0.35</td>\n",
              "    </tr>\n",
              "    <tr>\n",
              "      <th>2</th>\n",
              "      <td>237.63</td>\n",
              "      <td>76.37</td>\n",
              "      <td>92.88</td>\n",
              "      <td>157.16</td>\n",
              "      <td>8.28</td>\n",
              "      <td>1.11</td>\n",
              "    </tr>\n",
              "    <tr>\n",
              "      <th>3</th>\n",
              "      <td>243.11</td>\n",
              "      <td>86.95</td>\n",
              "      <td>45.14</td>\n",
              "      <td>185.24</td>\n",
              "      <td>3.26</td>\n",
              "      <td>0.76</td>\n",
              "    </tr>\n",
              "    <tr>\n",
              "      <th>4</th>\n",
              "      <td>180.92</td>\n",
              "      <td>62.56</td>\n",
              "      <td>68.73</td>\n",
              "      <td>131.72</td>\n",
              "      <td>7.24</td>\n",
              "      <td>1.80</td>\n",
              "    </tr>\n",
              "    <tr>\n",
              "      <th>...</th>\n",
              "      <td>...</td>\n",
              "      <td>...</td>\n",
              "      <td>...</td>\n",
              "      <td>...</td>\n",
              "      <td>...</td>\n",
              "      <td>...</td>\n",
              "    </tr>\n",
              "    <tr>\n",
              "      <th>10029</th>\n",
              "      <td>190.44</td>\n",
              "      <td>9.17</td>\n",
              "      <td>27.07</td>\n",
              "      <td>9.89</td>\n",
              "      <td>26.64</td>\n",
              "      <td>1.78</td>\n",
              "    </tr>\n",
              "    <tr>\n",
              "      <th>10030</th>\n",
              "      <td>252.58</td>\n",
              "      <td>10.33</td>\n",
              "      <td>33.07</td>\n",
              "      <td>9.13</td>\n",
              "      <td>19.91</td>\n",
              "      <td>1.80</td>\n",
              "    </tr>\n",
              "    <tr>\n",
              "      <th>10031</th>\n",
              "      <td>244.83</td>\n",
              "      <td>9.71</td>\n",
              "      <td>34.67</td>\n",
              "      <td>8.92</td>\n",
              "      <td>20.31</td>\n",
              "      <td>1.89</td>\n",
              "    </tr>\n",
              "    <tr>\n",
              "      <th>10032</th>\n",
              "      <td>234.80</td>\n",
              "      <td>9.14</td>\n",
              "      <td>30.31</td>\n",
              "      <td>9.43</td>\n",
              "      <td>20.84</td>\n",
              "      <td>1.84</td>\n",
              "    </tr>\n",
              "    <tr>\n",
              "      <th>10033</th>\n",
              "      <td>127.84</td>\n",
              "      <td>5.26</td>\n",
              "      <td>23.24</td>\n",
              "      <td>7.95</td>\n",
              "      <td>20.63</td>\n",
              "      <td>1.56</td>\n",
              "    </tr>\n",
              "  </tbody>\n",
              "</table>\n",
              "<p>10034 rows × 6 columns</p>\n",
              "</div>\n",
              "      <button class=\"colab-df-convert\" onclick=\"convertToInteractive('df-575534f0-b6c0-478e-9c19-3c918681779a')\"\n",
              "              title=\"Convert this dataframe to an interactive table.\"\n",
              "              style=\"display:none;\">\n",
              "        \n",
              "  <svg xmlns=\"http://www.w3.org/2000/svg\" height=\"24px\"viewBox=\"0 0 24 24\"\n",
              "       width=\"24px\">\n",
              "    <path d=\"M0 0h24v24H0V0z\" fill=\"none\"/>\n",
              "    <path d=\"M18.56 5.44l.94 2.06.94-2.06 2.06-.94-2.06-.94-.94-2.06-.94 2.06-2.06.94zm-11 1L8.5 8.5l.94-2.06 2.06-.94-2.06-.94L8.5 2.5l-.94 2.06-2.06.94zm10 10l.94 2.06.94-2.06 2.06-.94-2.06-.94-.94-2.06-.94 2.06-2.06.94z\"/><path d=\"M17.41 7.96l-1.37-1.37c-.4-.4-.92-.59-1.43-.59-.52 0-1.04.2-1.43.59L10.3 9.45l-7.72 7.72c-.78.78-.78 2.05 0 2.83L4 21.41c.39.39.9.59 1.41.59.51 0 1.02-.2 1.41-.59l7.78-7.78 2.81-2.81c.8-.78.8-2.07 0-2.86zM5.41 20L4 18.59l7.72-7.72 1.47 1.35L5.41 20z\"/>\n",
              "  </svg>\n",
              "      </button>\n",
              "      \n",
              "  <style>\n",
              "    .colab-df-container {\n",
              "      display:flex;\n",
              "      flex-wrap:wrap;\n",
              "      gap: 12px;\n",
              "    }\n",
              "\n",
              "    .colab-df-convert {\n",
              "      background-color: #E8F0FE;\n",
              "      border: none;\n",
              "      border-radius: 50%;\n",
              "      cursor: pointer;\n",
              "      display: none;\n",
              "      fill: #1967D2;\n",
              "      height: 32px;\n",
              "      padding: 0 0 0 0;\n",
              "      width: 32px;\n",
              "    }\n",
              "\n",
              "    .colab-df-convert:hover {\n",
              "      background-color: #E2EBFA;\n",
              "      box-shadow: 0px 1px 2px rgba(60, 64, 67, 0.3), 0px 1px 3px 1px rgba(60, 64, 67, 0.15);\n",
              "      fill: #174EA6;\n",
              "    }\n",
              "\n",
              "    [theme=dark] .colab-df-convert {\n",
              "      background-color: #3B4455;\n",
              "      fill: #D2E3FC;\n",
              "    }\n",
              "\n",
              "    [theme=dark] .colab-df-convert:hover {\n",
              "      background-color: #434B5C;\n",
              "      box-shadow: 0px 1px 3px 1px rgba(0, 0, 0, 0.15);\n",
              "      filter: drop-shadow(0px 1px 2px rgba(0, 0, 0, 0.3));\n",
              "      fill: #FFFFFF;\n",
              "    }\n",
              "  </style>\n",
              "\n",
              "      <script>\n",
              "        const buttonEl =\n",
              "          document.querySelector('#df-575534f0-b6c0-478e-9c19-3c918681779a button.colab-df-convert');\n",
              "        buttonEl.style.display =\n",
              "          google.colab.kernel.accessAllowed ? 'block' : 'none';\n",
              "\n",
              "        async function convertToInteractive(key) {\n",
              "          const element = document.querySelector('#df-575534f0-b6c0-478e-9c19-3c918681779a');\n",
              "          const dataTable =\n",
              "            await google.colab.kernel.invokeFunction('convertToInteractive',\n",
              "                                                     [key], {});\n",
              "          if (!dataTable) return;\n",
              "\n",
              "          const docLinkHtml = 'Like what you see? Visit the ' +\n",
              "            '<a target=\"_blank\" href=https://colab.research.google.com/notebooks/data_table.ipynb>data table notebook</a>'\n",
              "            + ' to learn more about interactive tables.';\n",
              "          element.innerHTML = '';\n",
              "          dataTable['output_type'] = 'display_data';\n",
              "          await google.colab.output.renderOutput(dataTable, element);\n",
              "          const docLink = document.createElement('div');\n",
              "          docLink.innerHTML = docLinkHtml;\n",
              "          element.appendChild(docLink);\n",
              "        }\n",
              "      </script>\n",
              "    </div>\n",
              "  </div>\n",
              "  "
            ]
          },
          "metadata": {},
          "execution_count": 261
        }
      ]
    },
    {
      "cell_type": "code",
      "source": [
        "\n",
        "from sklearn import linear_model\n",
        "from sklearn.model_selection import train_test_split\n",
        "from sklearn.linear_model import LinearRegression\n",
        "from sklearn.metrics import r2_score\n",
        "import matplotlib.pyplot as plt\n",
        "import seaborn as sns\n",
        "import warnings\n",
        "warnings.filterwarnings(\"ignore\")"
      ],
      "metadata": {
        "id": "oHUM5Gcqv74m"
      },
      "execution_count": null,
      "outputs": []
    },
    {
      "cell_type": "code",
      "source": [
        "x_train,x_test,y_train,y_test=train_test_split(x,y,test_size=0.2,random_state=0)"
      ],
      "metadata": {
        "id": "n-fWp7te75Mm"
      },
      "execution_count": null,
      "outputs": []
    },
    {
      "cell_type": "code",
      "source": [
        "#shapes of splitted data\n",
        "print(\"X_train:\",x_train.shape)\n",
        "print(\"X_test:\",x_test.shape)\n",
        "print(\"Y_train:\",y_train.shape)\n",
        "print(\"Y_test:\",y_test.shape)"
      ],
      "metadata": {
        "colab": {
          "base_uri": "https://localhost:8080/"
        },
        "id": "tw1zOyEPAOJv",
        "outputId": "d3b2f3d3-1c1f-4f20-9170-744f302a7674"
      },
      "execution_count": null,
      "outputs": [
        {
          "output_type": "stream",
          "name": "stdout",
          "text": [
            "X_train: (8027, 6)\n",
            "X_test: (2007, 6)\n",
            "Y_train: (8027,)\n",
            "Y_test: (2007,)\n"
          ]
        }
      ]
    },
    {
      "cell_type": "code",
      "source": [
        "linreg=LinearRegression()\n",
        "model=linreg.fit(x_train,y_train)"
      ],
      "metadata": {
        "id": "CghAuPXMwNUR"
      },
      "execution_count": null,
      "outputs": []
    },
    {
      "cell_type": "code",
      "source": [
        "y_predtrain=model.predict(x_train)"
      ],
      "metadata": {
        "id": "WTGM66iKTmLG"
      },
      "execution_count": null,
      "outputs": []
    },
    {
      "cell_type": "code",
      "source": [
        "df=pd.DataFrame()\n",
        "df['Actual Value']=y_train\n",
        "df['Predicted Value']=y_predtrain\n",
        "df['Residual']=y_train-y_predtrain"
      ],
      "metadata": {
        "id": "af5eWGOoV6Er"
      },
      "execution_count": null,
      "outputs": []
    },
    {
      "cell_type": "code",
      "source": [
        "df.head()"
      ],
      "metadata": {
        "colab": {
          "base_uri": "https://localhost:8080/",
          "height": 206
        },
        "id": "f-k7VoF88U2m",
        "outputId": "5b786e44-fe02-4767-b6db-5d29477deb97"
      },
      "execution_count": null,
      "outputs": [
        {
          "output_type": "execute_result",
          "data": {
            "text/plain": [
              "      Actual Value  Predicted Value   Residual\n",
              "3840        163.77       190.499668 -26.729668\n",
              "1710        127.55       114.840435  12.709565\n",
              "1986         51.48        49.972532   1.507468\n",
              "6073        122.26       109.419362  12.840638\n",
              "1255         17.61        74.709580 -57.099580"
            ],
            "text/html": [
              "\n",
              "  <div id=\"df-bcbcb201-9098-4454-a04a-60f8dde1d05d\">\n",
              "    <div class=\"colab-df-container\">\n",
              "      <div>\n",
              "<style scoped>\n",
              "    .dataframe tbody tr th:only-of-type {\n",
              "        vertical-align: middle;\n",
              "    }\n",
              "\n",
              "    .dataframe tbody tr th {\n",
              "        vertical-align: top;\n",
              "    }\n",
              "\n",
              "    .dataframe thead th {\n",
              "        text-align: right;\n",
              "    }\n",
              "</style>\n",
              "<table border=\"1\" class=\"dataframe\">\n",
              "  <thead>\n",
              "    <tr style=\"text-align: right;\">\n",
              "      <th></th>\n",
              "      <th>Actual Value</th>\n",
              "      <th>Predicted Value</th>\n",
              "      <th>Residual</th>\n",
              "    </tr>\n",
              "  </thead>\n",
              "  <tbody>\n",
              "    <tr>\n",
              "      <th>3840</th>\n",
              "      <td>163.77</td>\n",
              "      <td>190.499668</td>\n",
              "      <td>-26.729668</td>\n",
              "    </tr>\n",
              "    <tr>\n",
              "      <th>1710</th>\n",
              "      <td>127.55</td>\n",
              "      <td>114.840435</td>\n",
              "      <td>12.709565</td>\n",
              "    </tr>\n",
              "    <tr>\n",
              "      <th>1986</th>\n",
              "      <td>51.48</td>\n",
              "      <td>49.972532</td>\n",
              "      <td>1.507468</td>\n",
              "    </tr>\n",
              "    <tr>\n",
              "      <th>6073</th>\n",
              "      <td>122.26</td>\n",
              "      <td>109.419362</td>\n",
              "      <td>12.840638</td>\n",
              "    </tr>\n",
              "    <tr>\n",
              "      <th>1255</th>\n",
              "      <td>17.61</td>\n",
              "      <td>74.709580</td>\n",
              "      <td>-57.099580</td>\n",
              "    </tr>\n",
              "  </tbody>\n",
              "</table>\n",
              "</div>\n",
              "      <button class=\"colab-df-convert\" onclick=\"convertToInteractive('df-bcbcb201-9098-4454-a04a-60f8dde1d05d')\"\n",
              "              title=\"Convert this dataframe to an interactive table.\"\n",
              "              style=\"display:none;\">\n",
              "        \n",
              "  <svg xmlns=\"http://www.w3.org/2000/svg\" height=\"24px\"viewBox=\"0 0 24 24\"\n",
              "       width=\"24px\">\n",
              "    <path d=\"M0 0h24v24H0V0z\" fill=\"none\"/>\n",
              "    <path d=\"M18.56 5.44l.94 2.06.94-2.06 2.06-.94-2.06-.94-.94-2.06-.94 2.06-2.06.94zm-11 1L8.5 8.5l.94-2.06 2.06-.94-2.06-.94L8.5 2.5l-.94 2.06-2.06.94zm10 10l.94 2.06.94-2.06 2.06-.94-2.06-.94-.94-2.06-.94 2.06-2.06.94z\"/><path d=\"M17.41 7.96l-1.37-1.37c-.4-.4-.92-.59-1.43-.59-.52 0-1.04.2-1.43.59L10.3 9.45l-7.72 7.72c-.78.78-.78 2.05 0 2.83L4 21.41c.39.39.9.59 1.41.59.51 0 1.02-.2 1.41-.59l7.78-7.78 2.81-2.81c.8-.78.8-2.07 0-2.86zM5.41 20L4 18.59l7.72-7.72 1.47 1.35L5.41 20z\"/>\n",
              "  </svg>\n",
              "      </button>\n",
              "      \n",
              "  <style>\n",
              "    .colab-df-container {\n",
              "      display:flex;\n",
              "      flex-wrap:wrap;\n",
              "      gap: 12px;\n",
              "    }\n",
              "\n",
              "    .colab-df-convert {\n",
              "      background-color: #E8F0FE;\n",
              "      border: none;\n",
              "      border-radius: 50%;\n",
              "      cursor: pointer;\n",
              "      display: none;\n",
              "      fill: #1967D2;\n",
              "      height: 32px;\n",
              "      padding: 0 0 0 0;\n",
              "      width: 32px;\n",
              "    }\n",
              "\n",
              "    .colab-df-convert:hover {\n",
              "      background-color: #E2EBFA;\n",
              "      box-shadow: 0px 1px 2px rgba(60, 64, 67, 0.3), 0px 1px 3px 1px rgba(60, 64, 67, 0.15);\n",
              "      fill: #174EA6;\n",
              "    }\n",
              "\n",
              "    [theme=dark] .colab-df-convert {\n",
              "      background-color: #3B4455;\n",
              "      fill: #D2E3FC;\n",
              "    }\n",
              "\n",
              "    [theme=dark] .colab-df-convert:hover {\n",
              "      background-color: #434B5C;\n",
              "      box-shadow: 0px 1px 3px 1px rgba(0, 0, 0, 0.15);\n",
              "      filter: drop-shadow(0px 1px 2px rgba(0, 0, 0, 0.3));\n",
              "      fill: #FFFFFF;\n",
              "    }\n",
              "  </style>\n",
              "\n",
              "      <script>\n",
              "        const buttonEl =\n",
              "          document.querySelector('#df-bcbcb201-9098-4454-a04a-60f8dde1d05d button.colab-df-convert');\n",
              "        buttonEl.style.display =\n",
              "          google.colab.kernel.accessAllowed ? 'block' : 'none';\n",
              "\n",
              "        async function convertToInteractive(key) {\n",
              "          const element = document.querySelector('#df-bcbcb201-9098-4454-a04a-60f8dde1d05d');\n",
              "          const dataTable =\n",
              "            await google.colab.kernel.invokeFunction('convertToInteractive',\n",
              "                                                     [key], {});\n",
              "          if (!dataTable) return;\n",
              "\n",
              "          const docLinkHtml = 'Like what you see? Visit the ' +\n",
              "            '<a target=\"_blank\" href=https://colab.research.google.com/notebooks/data_table.ipynb>data table notebook</a>'\n",
              "            + ' to learn more about interactive tables.';\n",
              "          element.innerHTML = '';\n",
              "          dataTable['output_type'] = 'display_data';\n",
              "          await google.colab.output.renderOutput(dataTable, element);\n",
              "          const docLink = document.createElement('div');\n",
              "          docLink.innerHTML = docLinkHtml;\n",
              "          element.appendChild(docLink);\n",
              "        }\n",
              "      </script>\n",
              "    </div>\n",
              "  </div>\n",
              "  "
            ]
          },
          "metadata": {},
          "execution_count": 268
        }
      ]
    },
    {
      "cell_type": "code",
      "source": [
        "df['Residual'].plot(kind='hist')"
      ],
      "metadata": {
        "colab": {
          "base_uri": "https://localhost:8080/",
          "height": 284
        },
        "id": "aBUQPm0_8XLR",
        "outputId": "7d1aa6ca-375a-43d9-d094-c8534580b794"
      },
      "execution_count": null,
      "outputs": [
        {
          "output_type": "execute_result",
          "data": {
            "text/plain": [
              "<matplotlib.axes._subplots.AxesSubplot at 0x7fe9f3b11690>"
            ]
          },
          "metadata": {},
          "execution_count": 269
        },
        {
          "output_type": "display_data",
          "data": {
            "text/plain": [
              "<Figure size 432x288 with 1 Axes>"
            ],
            "image/png": "[encoded data removed]"
          },
          "metadata": {
            "needs_background": "light"
          }
        }
      ]
    },
    {
      "cell_type": "code",
      "source": [
        "from statsmodels.graphics.gofplots import qqplot"
      ],
      "metadata": {
        "id": "5JTcBQAQ9t4I"
      },
      "execution_count": null,
      "outputs": []
    },
    {
      "cell_type": "code",
      "source": [
        "# q-q plot\n",
        "qqplot(df['Residual'], line='s')\n",
        "plt.show()"
      ],
      "metadata": {
        "colab": {
          "base_uri": "https://localhost:8080/",
          "height": 279
        },
        "id": "8CrNUU6R9gu6",
        "outputId": "b0cb10aa-e15e-4c2a-bcad-d8d440aad34e"
      },
      "execution_count": null,
      "outputs": [
        {
          "output_type": "display_data",
          "data": {
            "text/plain": [
              "<Figure size 432x288 with 1 Axes>"
            ],
            "image/png": "[encoded data removed]"
          },
          "metadata": {
            "needs_background": "light"
          }
        }
      ]
    },
    {
      "cell_type": "code",
      "source": [
        "# Anderson-Darling Test\n",
        "from scipy.stats import anderson\n",
        "# normality test\n",
        "result = anderson(df['Residual'])\n",
        "print('Statistic: %.3f' % result.statistic)\n",
        "p = 0\n",
        "for i in range(len(result.critical_values)):\n",
        "\tsl, cv = result.significance_level[i], result.critical_values[i]\n",
        "\tif result.statistic < result.critical_values[i]:\n",
        "\t\tprint('%.3f: %.3f, data looks normal (fail to reject H0)' % (sl, cv))\n",
        "\telse:\n",
        "\t\tprint('%.3f: %.3f, data does not look normal (reject H0)' % (sl, cv))"
      ],
      "metadata": {
        "colab": {
          "base_uri": "https://localhost:8080/"
        },
        "id": "A-vXAihn_69v",
        "outputId": "3c162d4c-72be-497a-c1a4-3d69c256caa3"
      },
      "execution_count": null,
      "outputs": [
        {
          "output_type": "stream",
          "name": "stdout",
          "text": [
            "Statistic: 319.656\n",
            "15.000: 0.576, data does not look normal (reject H0)\n",
            "10.000: 0.656, data does not look normal (reject H0)\n",
            "5.000: 0.787, data does not look normal (reject H0)\n",
            "2.500: 0.918, data does not look normal (reject H0)\n",
            "1.000: 1.091, data does not look normal (reject H0)\n"
          ]
        }
      ]
    },
    {
      "cell_type": "code",
      "source": [
        "y_pred=model.predict(x_test)\n",
        "y_pred"
      ],
      "metadata": {
        "colab": {
          "base_uri": "https://localhost:8080/"
        },
        "id": "ZNCc3p957XsO",
        "outputId": "52a255aa-3b03-4903-a757-f6494253837a"
      },
      "execution_count": null,
      "outputs": [
        {
          "output_type": "execute_result",
          "data": {
            "text/plain": [
              "array([ 35.3899788 ,  35.98687515, 208.37457484, ...,  55.23889078,\n",
              "        24.71497866, 164.838395  ])"
            ]
          },
          "metadata": {},
          "execution_count": 273
        }
      ]
    },
    {
      "cell_type": "code",
      "source": [
        "model.coef_\n"
      ],
      "metadata": {
        "colab": {
          "base_uri": "https://localhost:8080/"
        },
        "id": "01sWcwMeHlhb",
        "outputId": "858b0a36-c07c-49ec-916b-1f422c37a086"
      },
      "execution_count": null,
      "outputs": [
        {
          "output_type": "execute_result",
          "data": {
            "text/plain": [
              "array([0.71516805, 0.28310502, 0.0224923 , 0.20538159, 0.04661477,\n",
              "       0.07524291])"
            ]
          },
          "metadata": {},
          "execution_count": 274
        }
      ]
    },
    {
      "cell_type": "code",
      "source": [
        "model.intercept_"
      ],
      "metadata": {
        "colab": {
          "base_uri": "https://localhost:8080/"
        },
        "id": "Ozm_T6EhJWos",
        "outputId": "acd3fa0a-4ab1-477e-9475-3d1f517baa3d"
      },
      "execution_count": null,
      "outputs": [
        {
          "output_type": "execute_result",
          "data": {
            "text/plain": [
              "8.998107283730832"
            ]
          },
          "metadata": {},
          "execution_count": 275
        }
      ]
    },
    {
      "cell_type": "code",
      "source": [
        "plt.scatter(y_test,y_pred,cmap='gray');\n",
        "plt.xlabel('Actual');\n",
        "plt.ylabel('Predicted');"
      ],
      "metadata": {
        "colab": {
          "base_uri": "https://localhost:8080/",
          "height": 279
        },
        "id": "ny-05ex89Kxo",
        "outputId": "514c0a45-c411-44eb-8144-ccb10702fe8b"
      },
      "execution_count": null,
      "outputs": [
        {
          "output_type": "display_data",
          "data": {
            "text/plain": [
              "<Figure size 432x288 with 1 Axes>"
            ],
            "image/png": "[encoded data removed]"
          },
          "metadata": {
            "needs_background": "light"
          }
        }
      ]
    },
    {
      "cell_type": "code",
      "source": [
        "sns.regplot(x=y_test,y=y_pred,ci=None,color ='red');"
      ],
      "metadata": {
        "colab": {
          "base_uri": "https://localhost:8080/",
          "height": 279
        },
        "id": "7PfhjQ0Y9clL",
        "outputId": "87d7158a-e3b6-4ab7-999a-e0b15f33eb80"
      },
      "execution_count": null,
      "outputs": [
        {
          "output_type": "display_data",
          "data": {
            "text/plain": [
              "<Figure size 432x288 with 1 Axes>"
            ],
            "image/png": "[encoded data removed]"
          },
          "metadata": {
            "needs_background": "light"
          }
        }
      ]
    },
    {
      "cell_type": "code",
      "source": [
        "pred_df=pd.DataFrame({'Actual Value':y_test,'Predicted Value':y_pred,'Difference':y_test-y_pred})"
      ],
      "metadata": {
        "id": "F5xMH89L9nGg"
      },
      "execution_count": null,
      "outputs": []
    },
    {
      "cell_type": "code",
      "source": [
        "pred_df"
      ],
      "metadata": {
        "colab": {
          "base_uri": "https://localhost:8080/",
          "height": 424
        },
        "id": "8-CvznSN9uP4",
        "outputId": "257b0be3-0f6d-4a4d-ebba-2b9536bb320d"
      },
      "execution_count": null,
      "outputs": [
        {
          "output_type": "execute_result",
          "data": {
            "text/plain": [
              "      Actual Value  Predicted Value  Difference\n",
              "4456         31.56        35.389979   -3.829979\n",
              "4561         33.10        35.986875   -2.886875\n",
              "4100        196.09       208.374575  -12.284575\n",
              "1312         50.03        49.478179    0.551821\n",
              "1941        110.50        96.109441   14.390559\n",
              "...            ...              ...         ...\n",
              "4313        113.45       101.241729   12.208271\n",
              "2140         66.85        61.079935    5.770065\n",
              "7586         60.15        55.238891    4.911109\n",
              "7565         15.16        24.714979   -9.554979\n",
              "7920        134.59       164.838395  -30.248395\n",
              "\n",
              "[2007 rows x 3 columns]"
            ],
            "text/html": [
              "\n",
              "  <div id=\"df-e3a95be5-8a84-4217-93c0-e96a3c7e672f\">\n",
              "    <div class=\"colab-df-container\">\n",
              "      <div>\n",
              "<style scoped>\n",
              "    .dataframe tbody tr th:only-of-type {\n",
              "        vertical-align: middle;\n",
              "    }\n",
              "\n",
              "    .dataframe tbody tr th {\n",
              "        vertical-align: top;\n",
              "    }\n",
              "\n",
              "    .dataframe thead th {\n",
              "        text-align: right;\n",
              "    }\n",
              "</style>\n",
              "<table border=\"1\" class=\"dataframe\">\n",
              "  <thead>\n",
              "    <tr style=\"text-align: right;\">\n",
              "      <th></th>\n",
              "      <th>Actual Value</th>\n",
              "      <th>Predicted Value</th>\n",
              "      <th>Difference</th>\n",
              "    </tr>\n",
              "  </thead>\n",
              "  <tbody>\n",
              "    <tr>\n",
              "      <th>4456</th>\n",
              "      <td>31.56</td>\n",
              "      <td>35.389979</td>\n",
              "      <td>-3.829979</td>\n",
              "    </tr>\n",
              "    <tr>\n",
              "      <th>4561</th>\n",
              "      <td>33.10</td>\n",
              "      <td>35.986875</td>\n",
              "      <td>-2.886875</td>\n",
              "    </tr>\n",
              "    <tr>\n",
              "      <th>4100</th>\n",
              "      <td>196.09</td>\n",
              "      <td>208.374575</td>\n",
              "      <td>-12.284575</td>\n",
              "    </tr>\n",
              "    <tr>\n",
              "      <th>1312</th>\n",
              "      <td>50.03</td>\n",
              "      <td>49.478179</td>\n",
              "      <td>0.551821</td>\n",
              "    </tr>\n",
              "    <tr>\n",
              "      <th>1941</th>\n",
              "      <td>110.50</td>\n",
              "      <td>96.109441</td>\n",
              "      <td>14.390559</td>\n",
              "    </tr>\n",
              "    <tr>\n",
              "      <th>...</th>\n",
              "      <td>...</td>\n",
              "      <td>...</td>\n",
              "      <td>...</td>\n",
              "    </tr>\n",
              "    <tr>\n",
              "      <th>4313</th>\n",
              "      <td>113.45</td>\n",
              "      <td>101.241729</td>\n",
              "      <td>12.208271</td>\n",
              "    </tr>\n",
              "    <tr>\n",
              "      <th>2140</th>\n",
              "      <td>66.85</td>\n",
              "      <td>61.079935</td>\n",
              "      <td>5.770065</td>\n",
              "    </tr>\n",
              "    <tr>\n",
              "      <th>7586</th>\n",
              "      <td>60.15</td>\n",
              "      <td>55.238891</td>\n",
              "      <td>4.911109</td>\n",
              "    </tr>\n",
              "    <tr>\n",
              "      <th>7565</th>\n",
              "      <td>15.16</td>\n",
              "      <td>24.714979</td>\n",
              "      <td>-9.554979</td>\n",
              "    </tr>\n",
              "    <tr>\n",
              "      <th>7920</th>\n",
              "      <td>134.59</td>\n",
              "      <td>164.838395</td>\n",
              "      <td>-30.248395</td>\n",
              "    </tr>\n",
              "  </tbody>\n",
              "</table>\n",
              "<p>2007 rows × 3 columns</p>\n",
              "</div>\n",
              "      <button class=\"colab-df-convert\" onclick=\"convertToInteractive('df-e3a95be5-8a84-4217-93c0-e96a3c7e672f')\"\n",
              "              title=\"Convert this dataframe to an interactive table.\"\n",
              "              style=\"display:none;\">\n",
              "        \n",
              "  <svg xmlns=\"http://www.w3.org/2000/svg\" height=\"24px\"viewBox=\"0 0 24 24\"\n",
              "       width=\"24px\">\n",
              "    <path d=\"M0 0h24v24H0V0z\" fill=\"none\"/>\n",
              "    <path d=\"M18.56 5.44l.94 2.06.94-2.06 2.06-.94-2.06-.94-.94-2.06-.94 2.06-2.06.94zm-11 1L8.5 8.5l.94-2.06 2.06-.94-2.06-.94L8.5 2.5l-.94 2.06-2.06.94zm10 10l.94 2.06.94-2.06 2.06-.94-2.06-.94-.94-2.06-.94 2.06-2.06.94z\"/><path d=\"M17.41 7.96l-1.37-1.37c-.4-.4-.92-.59-1.43-.59-.52 0-1.04.2-1.43.59L10.3 9.45l-7.72 7.72c-.78.78-.78 2.05 0 2.83L4 21.41c.39.39.9.59 1.41.59.51 0 1.02-.2 1.41-.59l7.78-7.78 2.81-2.81c.8-.78.8-2.07 0-2.86zM5.41 20L4 18.59l7.72-7.72 1.47 1.35L5.41 20z\"/>\n",
              "  </svg>\n",
              "      </button>\n",
              "      \n",
              "  <style>\n",
              "    .colab-df-container {\n",
              "      display:flex;\n",
              "      flex-wrap:wrap;\n",
              "      gap: 12px;\n",
              "    }\n",
              "\n",
              "    .colab-df-convert {\n",
              "      background-color: #E8F0FE;\n",
              "      border: none;\n",
              "      border-radius: 50%;\n",
              "      cursor: pointer;\n",
              "      display: none;\n",
              "      fill: #1967D2;\n",
              "      height: 32px;\n",
              "      padding: 0 0 0 0;\n",
              "      width: 32px;\n",
              "    }\n",
              "\n",
              "    .colab-df-convert:hover {\n",
              "      background-color: #E2EBFA;\n",
              "      box-shadow: 0px 1px 2px rgba(60, 64, 67, 0.3), 0px 1px 3px 1px rgba(60, 64, 67, 0.15);\n",
              "      fill: #174EA6;\n",
              "    }\n",
              "\n",
              "    [theme=dark] .colab-df-convert {\n",
              "      background-color: #3B4455;\n",
              "      fill: #D2E3FC;\n",
              "    }\n",
              "\n",
              "    [theme=dark] .colab-df-convert:hover {\n",
              "      background-color: #434B5C;\n",
              "      box-shadow: 0px 1px 3px 1px rgba(0, 0, 0, 0.15);\n",
              "      filter: drop-shadow(0px 1px 2px rgba(0, 0, 0, 0.3));\n",
              "      fill: #FFFFFF;\n",
              "    }\n",
              "  </style>\n",
              "\n",
              "      <script>\n",
              "        const buttonEl =\n",
              "          document.querySelector('#df-e3a95be5-8a84-4217-93c0-e96a3c7e672f button.colab-df-convert');\n",
              "        buttonEl.style.display =\n",
              "          google.colab.kernel.accessAllowed ? 'block' : 'none';\n",
              "\n",
              "        async function convertToInteractive(key) {\n",
              "          const element = document.querySelector('#df-e3a95be5-8a84-4217-93c0-e96a3c7e672f');\n",
              "          const dataTable =\n",
              "            await google.colab.kernel.invokeFunction('convertToInteractive',\n",
              "                                                     [key], {});\n",
              "          if (!dataTable) return;\n",
              "\n",
              "          const docLinkHtml = 'Like what you see? Visit the ' +\n",
              "            '<a target=\"_blank\" href=https://colab.research.google.com/notebooks/data_table.ipynb>data table notebook</a>'\n",
              "            + ' to learn more about interactive tables.';\n",
              "          element.innerHTML = '';\n",
              "          dataTable['output_type'] = 'display_data';\n",
              "          await google.colab.output.renderOutput(dataTable, element);\n",
              "          const docLink = document.createElement('div');\n",
              "          docLink.innerHTML = docLinkHtml;\n",
              "          element.appendChild(docLink);\n",
              "        }\n",
              "      </script>\n",
              "    </div>\n",
              "  </div>\n",
              "  "
            ]
          },
          "metadata": {},
          "execution_count": 279
        }
      ]
    },
    {
      "cell_type": "code",
      "source": [
        "plt.hist(pred_df['Difference'])"
      ],
      "metadata": {
        "colab": {
          "base_uri": "https://localhost:8080/",
          "height": 369
        },
        "id": "DRvzl6Kc7qme",
        "outputId": "c938daad-cbb9-46a2-fa90-ac713b1f5488"
      },
      "execution_count": null,
      "outputs": [
        {
          "output_type": "execute_result",
          "data": {
            "text/plain": [
              "(array([5.600e+01, 9.400e+01, 1.211e+03, 6.150e+02, 2.200e+01, 4.000e+00,\n",
              "        1.000e+00, 2.000e+00, 1.000e+00, 1.000e+00]),\n",
              " array([-64.96615018, -41.19244176, -17.41873335,   6.35497507,\n",
              "         30.12868348,  53.9023919 ,  77.67610031, 101.44980873,\n",
              "        125.22351714, 148.99722556, 172.77093397]),\n",
              " <a list of 10 Patch objects>)"
            ]
          },
          "metadata": {},
          "execution_count": 280
        },
        {
          "output_type": "display_data",
          "data": {
            "text/plain": [
              "<Figure size 432x288 with 1 Axes>"
            ],
            "image/png": "[encoded data removed]"
          },
          "metadata": {
            "needs_background": "light"
          }
        }
      ]
    },
    {
      "cell_type": "code",
      "source": [
        "# q-q plot\n",
        "qqplot(pred_df['Difference'], line='s')\n",
        "plt.show()"
      ],
      "metadata": {
        "colab": {
          "base_uri": "https://localhost:8080/",
          "height": 279
        },
        "id": "FBE-tsdQ98SH",
        "outputId": "2ab512f6-9687-4a27-a788-2b8c083e6c9d"
      },
      "execution_count": null,
      "outputs": [
        {
          "output_type": "display_data",
          "data": {
            "text/plain": [
              "<Figure size 432x288 with 1 Axes>"
            ],
            "image/png": "[encoded data removed]"
          },
          "metadata": {
            "needs_background": "light"
          }
        }
      ]
    },
    {
      "cell_type": "code",
      "source": [
        "# Shapiro-Wilk Test\n",
        "from scipy.stats import shapiro\n",
        "# normality test\n",
        "stat, p = shapiro(pred_df['Difference'])\n",
        "print('Statistics=%.3f, p=%.3f' % (stat, p))\n",
        "# interpret\n",
        "alpha = 0.05\n",
        "if p > alpha:\n",
        "\tprint('Sample looks Gaussian (fail to reject H0)')\n",
        "else:\n",
        "\tprint('Sample does not look Gaussian (reject H0)')"
      ],
      "metadata": {
        "colab": {
          "base_uri": "https://localhost:8080/"
        },
        "id": "o1Q1JsSg-S9m",
        "outputId": "7e6984b6-fa74-4e6a-a9f6-451bef6a254b"
      },
      "execution_count": null,
      "outputs": [
        {
          "output_type": "stream",
          "name": "stdout",
          "text": [
            "Statistics=0.825, p=0.000\n",
            "Sample does not look Gaussian (reject H0)\n"
          ]
        }
      ]
    },
    {
      "cell_type": "code",
      "source": [
        "# Anderson-Darling Test\n",
        "from scipy.stats import anderson\n",
        "# normality test\n",
        "result = anderson(pred_df['Difference'])\n",
        "print('Statistic: %.3f' % result.statistic)\n",
        "p = 0\n",
        "for i in range(len(result.critical_values)):\n",
        "\tsl, cv = result.significance_level[i], result.critical_values[i]\n",
        "\tif result.statistic < result.critical_values[i]:\n",
        "\t\tprint('%.3f: %.3f, data looks normal (fail to reject H0)' % (sl, cv))\n",
        "\telse:\n",
        "\t\tprint('%.3f: %.3f, data does not look normal (reject H0)' % (sl, cv))"
      ],
      "metadata": {
        "colab": {
          "base_uri": "https://localhost:8080/"
        },
        "id": "YG0V2E68_kv9",
        "outputId": "dfecf145-eda8-4020-af7b-9a5ad49408c8"
      },
      "execution_count": null,
      "outputs": [
        {
          "output_type": "stream",
          "name": "stdout",
          "text": [
            "Statistic: 71.774\n",
            "15.000: 0.575, data does not look normal (reject H0)\n",
            "10.000: 0.655, data does not look normal (reject H0)\n",
            "5.000: 0.785, data does not look normal (reject H0)\n",
            "2.500: 0.916, data does not look normal (reject H0)\n",
            "1.000: 1.090, data does not look normal (reject H0)\n"
          ]
        }
      ]
    },
    {
      "cell_type": "code",
      "source": [
        "pred_df.to_csv(\"Actual vs predicted value for MLR.csv\")"
      ],
      "metadata": {
        "id": "mZ33htAKYxzq"
      },
      "execution_count": null,
      "outputs": []
    },
    {
      "cell_type": "code",
      "source": [
        "from sklearn.metrics import confusion_matrix, accuracy_score"
      ],
      "metadata": {
        "id": "dNqpok4G-mwv"
      },
      "execution_count": null,
      "outputs": []
    },
    {
      "cell_type": "code",
      "source": [
        "corr=x.corr()\n",
        "corr\n"
      ],
      "metadata": {
        "colab": {
          "base_uri": "https://localhost:8080/",
          "height": 238
        },
        "id": "kamflbg2Q0H9",
        "outputId": "1c690e45-5980-4978-9703-7942f3388125"
      },
      "execution_count": null,
      "outputs": [
        {
          "output_type": "execute_result",
          "data": {
            "text/plain": [
              "          PM10        NO       NO2       NH3       SO2        CO\n",
              "PM10  1.000000  0.202213  0.534395  0.253982  0.144411 -0.066860\n",
              "NO    0.202213  1.000000  0.275144  0.310489  0.253432 -0.078828\n",
              "NO2   0.534395  0.275144  1.000000  0.277496  0.202349 -0.009645\n",
              "NH3   0.253982  0.310489  0.277496  1.000000  0.016929 -0.098481\n",
              "SO2   0.144411  0.253432  0.202349  0.016929  1.000000 -0.147376\n",
              "CO   -0.066860 -0.078828 -0.009645 -0.098481 -0.147376  1.000000"
            ],
            "text/html": [
              "\n",
              "  <div id=\"df-9d0899c3-1b1c-4ebf-b8cb-336cb88ffa67\">\n",
              "    <div class=\"colab-df-container\">\n",
              "      <div>\n",
              "<style scoped>\n",
              "    .dataframe tbody tr th:only-of-type {\n",
              "        vertical-align: middle;\n",
              "    }\n",
              "\n",
              "    .dataframe tbody tr th {\n",
              "        vertical-align: top;\n",
              "    }\n",
              "\n",
              "    .dataframe thead th {\n",
              "        text-align: right;\n",
              "    }\n",
              "</style>\n",
              "<table border=\"1\" class=\"dataframe\">\n",
              "  <thead>\n",
              "    <tr style=\"text-align: right;\">\n",
              "      <th></th>\n",
              "      <th>PM10</th>\n",
              "      <th>NO</th>\n",
              "      <th>NO2</th>\n",
              "      <th>NH3</th>\n",
              "      <th>SO2</th>\n",
              "      <th>CO</th>\n",
              "    </tr>\n",
              "  </thead>\n",
              "  <tbody>\n",
              "    <tr>\n",
              "      <th>PM10</th>\n",
              "      <td>1.000000</td>\n",
              "      <td>0.202213</td>\n",
              "      <td>0.534395</td>\n",
              "      <td>0.253982</td>\n",
              "      <td>0.144411</td>\n",
              "      <td>-0.066860</td>\n",
              "    </tr>\n",
              "    <tr>\n",
              "      <th>NO</th>\n",
              "      <td>0.202213</td>\n",
              "      <td>1.000000</td>\n",
              "      <td>0.275144</td>\n",
              "      <td>0.310489</td>\n",
              "      <td>0.253432</td>\n",
              "      <td>-0.078828</td>\n",
              "    </tr>\n",
              "    <tr>\n",
              "      <th>NO2</th>\n",
              "      <td>0.534395</td>\n",
              "      <td>0.275144</td>\n",
              "      <td>1.000000</td>\n",
              "      <td>0.277496</td>\n",
              "      <td>0.202349</td>\n",
              "      <td>-0.009645</td>\n",
              "    </tr>\n",
              "    <tr>\n",
              "      <th>NH3</th>\n",
              "      <td>0.253982</td>\n",
              "      <td>0.310489</td>\n",
              "      <td>0.277496</td>\n",
              "      <td>1.000000</td>\n",
              "      <td>0.016929</td>\n",
              "      <td>-0.098481</td>\n",
              "    </tr>\n",
              "    <tr>\n",
              "      <th>SO2</th>\n",
              "      <td>0.144411</td>\n",
              "      <td>0.253432</td>\n",
              "      <td>0.202349</td>\n",
              "      <td>0.016929</td>\n",
              "      <td>1.000000</td>\n",
              "      <td>-0.147376</td>\n",
              "    </tr>\n",
              "    <tr>\n",
              "      <th>CO</th>\n",
              "      <td>-0.066860</td>\n",
              "      <td>-0.078828</td>\n",
              "      <td>-0.009645</td>\n",
              "      <td>-0.098481</td>\n",
              "      <td>-0.147376</td>\n",
              "      <td>1.000000</td>\n",
              "    </tr>\n",
              "  </tbody>\n",
              "</table>\n",
              "</div>\n",
              "      <button class=\"colab-df-convert\" onclick=\"convertToInteractive('df-9d0899c3-1b1c-4ebf-b8cb-336cb88ffa67')\"\n",
              "              title=\"Convert this dataframe to an interactive table.\"\n",
              "              style=\"display:none;\">\n",
              "        \n",
              "  <svg xmlns=\"http://www.w3.org/2000/svg\" height=\"24px\"viewBox=\"0 0 24 24\"\n",
              "       width=\"24px\">\n",
              "    <path d=\"M0 0h24v24H0V0z\" fill=\"none\"/>\n",
              "    <path d=\"M18.56 5.44l.94 2.06.94-2.06 2.06-.94-2.06-.94-.94-2.06-.94 2.06-2.06.94zm-11 1L8.5 8.5l.94-2.06 2.06-.94-2.06-.94L8.5 2.5l-.94 2.06-2.06.94zm10 10l.94 2.06.94-2.06 2.06-.94-2.06-.94-.94-2.06-.94 2.06-2.06.94z\"/><path d=\"M17.41 7.96l-1.37-1.37c-.4-.4-.92-.59-1.43-.59-.52 0-1.04.2-1.43.59L10.3 9.45l-7.72 7.72c-.78.78-.78 2.05 0 2.83L4 21.41c.39.39.9.59 1.41.59.51 0 1.02-.2 1.41-.59l7.78-7.78 2.81-2.81c.8-.78.8-2.07 0-2.86zM5.41 20L4 18.59l7.72-7.72 1.47 1.35L5.41 20z\"/>\n",
              "  </svg>\n",
              "      </button>\n",
              "      \n",
              "  <style>\n",
              "    .colab-df-container {\n",
              "      display:flex;\n",
              "      flex-wrap:wrap;\n",
              "      gap: 12px;\n",
              "    }\n",
              "\n",
              "    .colab-df-convert {\n",
              "      background-color: #E8F0FE;\n",
              "      border: none;\n",
              "      border-radius: 50%;\n",
              "      cursor: pointer;\n",
              "      display: none;\n",
              "      fill: #1967D2;\n",
              "      height: 32px;\n",
              "      padding: 0 0 0 0;\n",
              "      width: 32px;\n",
              "    }\n",
              "\n",
              "    .colab-df-convert:hover {\n",
              "      background-color: #E2EBFA;\n",
              "      box-shadow: 0px 1px 2px rgba(60, 64, 67, 0.3), 0px 1px 3px 1px rgba(60, 64, 67, 0.15);\n",
              "      fill: #174EA6;\n",
              "    }\n",
              "\n",
              "    [theme=dark] .colab-df-convert {\n",
              "      background-color: #3B4455;\n",
              "      fill: #D2E3FC;\n",
              "    }\n",
              "\n",
              "    [theme=dark] .colab-df-convert:hover {\n",
              "      background-color: #434B5C;\n",
              "      box-shadow: 0px 1px 3px 1px rgba(0, 0, 0, 0.15);\n",
              "      filter: drop-shadow(0px 1px 2px rgba(0, 0, 0, 0.3));\n",
              "      fill: #FFFFFF;\n",
              "    }\n",
              "  </style>\n",
              "\n",
              "      <script>\n",
              "        const buttonEl =\n",
              "          document.querySelector('#df-9d0899c3-1b1c-4ebf-b8cb-336cb88ffa67 button.colab-df-convert');\n",
              "        buttonEl.style.display =\n",
              "          google.colab.kernel.accessAllowed ? 'block' : 'none';\n",
              "\n",
              "        async function convertToInteractive(key) {\n",
              "          const element = document.querySelector('#df-9d0899c3-1b1c-4ebf-b8cb-336cb88ffa67');\n",
              "          const dataTable =\n",
              "            await google.colab.kernel.invokeFunction('convertToInteractive',\n",
              "                                                     [key], {});\n",
              "          if (!dataTable) return;\n",
              "\n",
              "          const docLinkHtml = 'Like what you see? Visit the ' +\n",
              "            '<a target=\"_blank\" href=https://colab.research.google.com/notebooks/data_table.ipynb>data table notebook</a>'\n",
              "            + ' to learn more about interactive tables.';\n",
              "          element.innerHTML = '';\n",
              "          dataTable['output_type'] = 'display_data';\n",
              "          await google.colab.output.renderOutput(dataTable, element);\n",
              "          const docLink = document.createElement('div');\n",
              "          docLink.innerHTML = docLinkHtml;\n",
              "          element.appendChild(docLink);\n",
              "        }\n",
              "      </script>\n",
              "    </div>\n",
              "  </div>\n",
              "  "
            ]
          },
          "metadata": {},
          "execution_count": 298
        }
      ]
    },
    {
      "cell_type": "code",
      "source": [
        "corr.to_csv(\"corr MLR.csv\")"
      ],
      "metadata": {
        "id": "o9kWzPpQQ78d"
      },
      "execution_count": null,
      "outputs": []
    },
    {
      "cell_type": "code",
      "source": [
        ""
      ],
      "metadata": {
        "id": "WJJpPcUPQ4k1"
      },
      "execution_count": null,
      "outputs": []
    },
    {
      "cell_type": "code",
      "source": [
        "Accuracy=r2_score(y_train,y_predtrain)*100\n",
        "print(\" Accuracy of the model is %.2f\" %Accuracy)"
      ],
      "metadata": {
        "colab": {
          "base_uri": "https://localhost:8080/"
        },
        "id": "uFRFBVFkaiax",
        "outputId": "e049f0c4-f88a-4997-bdef-4a10002ed807"
      },
      "execution_count": null,
      "outputs": [
        {
          "output_type": "stream",
          "name": "stdout",
          "text": [
            " Accuracy of the model is 90.57\n"
          ]
        }
      ]
    },
    {
      "cell_type": "code",
      "source": [
        "Accuracy=r2_score(y_test,y_pred)*100\n",
        "print(\" Accuracy of the model is %.2f\" %Accuracy)"
      ],
      "metadata": {
        "colab": {
          "base_uri": "https://localhost:8080/"
        },
        "id": "5c0IGwFE-qCd",
        "outputId": "209bd280-ee28-4a96-edf0-d7414cbb6956"
      },
      "execution_count": null,
      "outputs": [
        {
          "output_type": "stream",
          "name": "stdout",
          "text": [
            " Accuracy of the model is 91.31\n"
          ]
        }
      ]
    },
    {
      "cell_type": "code",
      "source": [
        "mape = np.mean(np.abs(y_predtrain - y_train) /np.abs(y_train)) # Mean absolute percentage error -\n",
        "mae = np.mean(np.abs(y_predtrain  - y_train)) # Mean absolute error\n",
        "mpe = np.mean((y_predtrain  - y_train)/y_train) # Mean percentage error\n",
        "rmse = np.mean((y_predtrain  -y_train)**2)**.5 # RMSE\n",
        "corr = np.corrcoef (y_predtrain ,y_train) [0,1]\n",
        "\n",
        "# Correlation Coefficient\n",
        "mins = np.amin(np.hstack([y_predtrain [:,None], y_train[:,None]]), axis=1)\n",
        "maxs = np.amax(np.hstack([y_predtrain [:,None], y_train[:,None]]), axis=1)\n",
        "minmax = 1 - np.mean(mins/maxs)   # minmax\n",
        "\n",
        "import pprint\n",
        "pprint.pprint({'mape':mape,'mae':mae,'mpe':mpe,'rmse':rmse,'corr':corr,'minmax' :minmax})"
      ],
      "metadata": {
        "colab": {
          "base_uri": "https://localhost:8080/"
        },
        "id": "c0qlj-EDZd8x",
        "outputId": "3902c0a7-e97e-46a4-d80c-3aadd4659021"
      },
      "execution_count": null,
      "outputs": [
        {
          "output_type": "stream",
          "name": "stdout",
          "text": [
            "{'corr': 0.9516999390495148,\n",
            " 'mae': 10.638695974458662,\n",
            " 'mape': 0.1933069845841755,\n",
            " 'minmax': 0.12328751130381255,\n",
            " 'mpe': 0.09405968606067482,\n",
            " 'rmse': 16.963058228006552}\n"
          ]
        }
      ]
    },
    {
      "cell_type": "code",
      "source": [
        "mape = np.mean(np.abs(y_pred - y_test) /np.abs(y_test)) # Mean absolute percentage error -\n",
        "mae = np.mean(np.abs(y_pred - y_test)) # Mean absolute error\n",
        "mpe = np.mean((y_pred - y_test)/y_test) # Mean percentage error\n",
        "rmse = np.mean((y_pred - y_test)**2)**.5 # RMSE\n",
        "corr = np.corrcoef (y_pred, y_test) [0,1]\n",
        "\n",
        "# Correlation Coefficient\n",
        "mins = np.amin(np.hstack([y_pred[:,None], y_test[:,None]]), axis=1)\n",
        "maxs = np.amax(np.hstack([y_pred[:,None], y_test[:,None]]), axis=1)\n",
        "minmax = 1 - np.mean(mins/maxs)   # minmax\n",
        "\n",
        "import pprint\n",
        "pprint.pprint({'mape':mape,'mae':mae,'mpe':mpe,'rmse':rmse,'corr':corr,'minmax' :minmax})"
      ],
      "metadata": {
        "colab": {
          "base_uri": "https://localhost:8080/"
        },
        "id": "syMAItbzJozT",
        "outputId": "0b638538-513c-47dd-e0d4-6bce50a27cb0"
      },
      "execution_count": null,
      "outputs": [
        {
          "output_type": "stream",
          "name": "stdout",
          "text": [
            "{'corr': 0.9555808747583832,\n",
            " 'mae': 9.885590374975274,\n",
            " 'mape': 0.17502419626785212,\n",
            " 'minmax': 0.11670103158032441,\n",
            " 'mpe': 0.07651519172948075,\n",
            " 'rmse': 15.500032267968425}\n"
          ]
        }
      ]
    }
  ]
}