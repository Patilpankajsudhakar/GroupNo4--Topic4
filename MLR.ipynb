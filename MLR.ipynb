{
  "nbformat": 4,
  "nbformat_minor": 0,
  "metadata": {
    "colab": {
      "name": "MLR.ipynb",
      "provenance": [],
      "collapsed_sections": [],
      "mount_file_id": "1b-D8RLF2YnzVZUAuV_H78Nx2WbdhCcQZ",
      "authorship_tag": "ABX9TyNogx63nmoB0s6XCIQjjNGM",
      "include_colab_link": true
    },
    "kernelspec": {
      "name": "python3",
      "display_name": "Python 3"
    },
    "language_info": {
      "name": "python"
    }
  },
  "cells": [
    {
      "cell_type": "markdown",
      "metadata": {
        "id": "view-in-github",
        "colab_type": "text"
      },
      "source": [
        "<a href=\"https://colab.research.google.com/github/Patilpankajsudhakar/GroupNo4--Topic4/blob/main/MLR.ipynb\" target=\"_parent\"><img src=\"https://colab.research.google.com/assets/colab-badge.svg\" alt=\"Open In Colab\"/></a>"
      ]
    },
    {
      "cell_type": "code",
      "execution_count": 1,
      "metadata": {
        "id": "kukbp8oHWOhm"
      },
      "outputs": [],
      "source": [
        "import pandas_datareader as pdr\n",
        "import pandas as pd\n",
        "import numpy as np\n",
        "import matplotlib.pyplot as plt,seaborn as sns\n",
        "%matplotlib inline\n",
        "from datetime import datetime"
      ]
    },
    {
      "cell_type": "code",
      "source": [
        "from mpl_toolkits.mplot3d import Axes3D\n",
        "import pandas as pd\n",
        "import matplotlib.pyplot as plt\n",
        "import numpy as np\n",
        "from sklearn import linear_model\n",
        "np.random.seed(19680801)"
      ],
      "metadata": {
        "id": "cF-9yd3GsM3v"
      },
      "execution_count": 1,
      "outputs": []
    },
    {
      "cell_type": "code",
      "source": [
        "#data=pd.read_csv(\"/content/drive/MyDrive/MSCPROJ/newdatasetmumbai.csv\")\n",
        "data=pd.read_csv(\"/content/drive/MyDrive/MSCPROJ/Newdatasetmumbai.csv\")"
      ],
      "metadata": {
        "id": "ZN2JFRaKWrj9"
      },
      "execution_count": 70,
      "outputs": []
    },
    {
      "cell_type": "code",
      "source": [
        "data.head()"
      ],
      "metadata": {
        "colab": {
          "base_uri": "https://localhost:8080/",
          "height": 386
        },
        "id": "XOI5d8lQsSA7",
        "outputId": "058adc4a-520a-418c-feb7-b918ad5b5347"
      },
      "execution_count": 71,
      "outputs": [
        {
          "output_type": "execute_result",
          "data": {
            "text/plain": [
              "        City                         Station        Date         FromDate  \\\n",
              "0  Mumbai-01  BandraKurlaComplex,Mumbai-IITM  10/11/2020  10-11-202000:00   \n",
              "1  Mumbai-01  BandraKurlaComplex,Mumbai-IITM  11/11/2020  11-11-202000:00   \n",
              "2  Mumbai-01  BandraKurlaComplex,Mumbai-IITM  12/11/2020  12-11-202000:00   \n",
              "3  Mumbai-01  BandraKurlaComplex,Mumbai-IITM  13/11/2020  13-11-202000:00   \n",
              "4  Mumbai-01  BandraKurlaComplex,Mumbai-IITM  14/11/2020  14-11-202000:00   \n",
              "\n",
              "            ToDate  PM2.5    PM10     NO    NO2     NH3  ...     I6(SO2)  \\\n",
              "0  11-11-202000:00  28.85  289.36  70.61  58.47  174.30  ...  149.533333   \n",
              "1  12-11-202000:00  90.91  266.66  59.70  51.01  153.50  ...  135.666667   \n",
              "2  13-11-202000:00  26.19  237.63  76.37  92.88  157.16  ...  138.106667   \n",
              "3  14-11-202000:00  27.24  243.11  86.95  45.14  185.24  ...  156.826667   \n",
              "4  15-11-202000:00  27.93  180.92  62.56  68.73  131.72  ...  121.146667   \n",
              "\n",
              "   I7(CO)  I1(PM2.5).1  I2(PM10).1  I3(NO).1  I4(NO2).1  I5(NH3).1  I6(SO2).1  \\\n",
              "0    3.01            0           1         1          1          1          1   \n",
              "1    3.24            0           1         1          1          1          1   \n",
              "2    8.28            0           1         1          1          1          1   \n",
              "3    3.26            0           1         1          1          1          1   \n",
              "4    7.24            0           1         1          1          1          1   \n",
              "\n",
              "   I7(CO).1     AQI  \n",
              "0         1  239.36  \n",
              "1         1  216.66  \n",
              "2         1  191.75  \n",
              "3         1  195.41  \n",
              "4         1  153.95  \n",
              "\n",
              "[5 rows x 31 columns]"
            ],
            "text/html": [
              "\n",
              "  <div id=\"df-81a5798a-ce4c-44c2-a61c-2cfb162734fd\">\n",
              "    <div class=\"colab-df-container\">\n",
              "      <div>\n",
              "<style scoped>\n",
              "    .dataframe tbody tr th:only-of-type {\n",
              "        vertical-align: middle;\n",
              "    }\n",
              "\n",
              "    .dataframe tbody tr th {\n",
              "        vertical-align: top;\n",
              "    }\n",
              "\n",
              "    .dataframe thead th {\n",
              "        text-align: right;\n",
              "    }\n",
              "</style>\n",
              "<table border=\"1\" class=\"dataframe\">\n",
              "  <thead>\n",
              "    <tr style=\"text-align: right;\">\n",
              "      <th></th>\n",
              "      <th>City</th>\n",
              "      <th>Station</th>\n",
              "      <th>Date</th>\n",
              "      <th>FromDate</th>\n",
              "      <th>ToDate</th>\n",
              "      <th>PM2.5</th>\n",
              "      <th>PM10</th>\n",
              "      <th>NO</th>\n",
              "      <th>NO2</th>\n",
              "      <th>NH3</th>\n",
              "      <th>...</th>\n",
              "      <th>I6(SO2)</th>\n",
              "      <th>I7(CO)</th>\n",
              "      <th>I1(PM2.5).1</th>\n",
              "      <th>I2(PM10).1</th>\n",
              "      <th>I3(NO).1</th>\n",
              "      <th>I4(NO2).1</th>\n",
              "      <th>I5(NH3).1</th>\n",
              "      <th>I6(SO2).1</th>\n",
              "      <th>I7(CO).1</th>\n",
              "      <th>AQI</th>\n",
              "    </tr>\n",
              "  </thead>\n",
              "  <tbody>\n",
              "    <tr>\n",
              "      <th>0</th>\n",
              "      <td>Mumbai-01</td>\n",
              "      <td>BandraKurlaComplex,Mumbai-IITM</td>\n",
              "      <td>10/11/2020</td>\n",
              "      <td>10-11-202000:00</td>\n",
              "      <td>11-11-202000:00</td>\n",
              "      <td>28.85</td>\n",
              "      <td>289.36</td>\n",
              "      <td>70.61</td>\n",
              "      <td>58.47</td>\n",
              "      <td>174.30</td>\n",
              "      <td>...</td>\n",
              "      <td>149.533333</td>\n",
              "      <td>3.01</td>\n",
              "      <td>0</td>\n",
              "      <td>1</td>\n",
              "      <td>1</td>\n",
              "      <td>1</td>\n",
              "      <td>1</td>\n",
              "      <td>1</td>\n",
              "      <td>1</td>\n",
              "      <td>239.36</td>\n",
              "    </tr>\n",
              "    <tr>\n",
              "      <th>1</th>\n",
              "      <td>Mumbai-01</td>\n",
              "      <td>BandraKurlaComplex,Mumbai-IITM</td>\n",
              "      <td>11/11/2020</td>\n",
              "      <td>11-11-202000:00</td>\n",
              "      <td>12-11-202000:00</td>\n",
              "      <td>90.91</td>\n",
              "      <td>266.66</td>\n",
              "      <td>59.70</td>\n",
              "      <td>51.01</td>\n",
              "      <td>153.50</td>\n",
              "      <td>...</td>\n",
              "      <td>135.666667</td>\n",
              "      <td>3.24</td>\n",
              "      <td>0</td>\n",
              "      <td>1</td>\n",
              "      <td>1</td>\n",
              "      <td>1</td>\n",
              "      <td>1</td>\n",
              "      <td>1</td>\n",
              "      <td>1</td>\n",
              "      <td>216.66</td>\n",
              "    </tr>\n",
              "    <tr>\n",
              "      <th>2</th>\n",
              "      <td>Mumbai-01</td>\n",
              "      <td>BandraKurlaComplex,Mumbai-IITM</td>\n",
              "      <td>12/11/2020</td>\n",
              "      <td>12-11-202000:00</td>\n",
              "      <td>13-11-202000:00</td>\n",
              "      <td>26.19</td>\n",
              "      <td>237.63</td>\n",
              "      <td>76.37</td>\n",
              "      <td>92.88</td>\n",
              "      <td>157.16</td>\n",
              "      <td>...</td>\n",
              "      <td>138.106667</td>\n",
              "      <td>8.28</td>\n",
              "      <td>0</td>\n",
              "      <td>1</td>\n",
              "      <td>1</td>\n",
              "      <td>1</td>\n",
              "      <td>1</td>\n",
              "      <td>1</td>\n",
              "      <td>1</td>\n",
              "      <td>191.75</td>\n",
              "    </tr>\n",
              "    <tr>\n",
              "      <th>3</th>\n",
              "      <td>Mumbai-01</td>\n",
              "      <td>BandraKurlaComplex,Mumbai-IITM</td>\n",
              "      <td>13/11/2020</td>\n",
              "      <td>13-11-202000:00</td>\n",
              "      <td>14-11-202000:00</td>\n",
              "      <td>27.24</td>\n",
              "      <td>243.11</td>\n",
              "      <td>86.95</td>\n",
              "      <td>45.14</td>\n",
              "      <td>185.24</td>\n",
              "      <td>...</td>\n",
              "      <td>156.826667</td>\n",
              "      <td>3.26</td>\n",
              "      <td>0</td>\n",
              "      <td>1</td>\n",
              "      <td>1</td>\n",
              "      <td>1</td>\n",
              "      <td>1</td>\n",
              "      <td>1</td>\n",
              "      <td>1</td>\n",
              "      <td>195.41</td>\n",
              "    </tr>\n",
              "    <tr>\n",
              "      <th>4</th>\n",
              "      <td>Mumbai-01</td>\n",
              "      <td>BandraKurlaComplex,Mumbai-IITM</td>\n",
              "      <td>14/11/2020</td>\n",
              "      <td>14-11-202000:00</td>\n",
              "      <td>15-11-202000:00</td>\n",
              "      <td>27.93</td>\n",
              "      <td>180.92</td>\n",
              "      <td>62.56</td>\n",
              "      <td>68.73</td>\n",
              "      <td>131.72</td>\n",
              "      <td>...</td>\n",
              "      <td>121.146667</td>\n",
              "      <td>7.24</td>\n",
              "      <td>0</td>\n",
              "      <td>1</td>\n",
              "      <td>1</td>\n",
              "      <td>1</td>\n",
              "      <td>1</td>\n",
              "      <td>1</td>\n",
              "      <td>1</td>\n",
              "      <td>153.95</td>\n",
              "    </tr>\n",
              "  </tbody>\n",
              "</table>\n",
              "<p>5 rows × 31 columns</p>\n",
              "</div>\n",
              "      <button class=\"colab-df-convert\" onclick=\"convertToInteractive('df-81a5798a-ce4c-44c2-a61c-2cfb162734fd')\"\n",
              "              title=\"Convert this dataframe to an interactive table.\"\n",
              "              style=\"display:none;\">\n",
              "        \n",
              "  <svg xmlns=\"http://www.w3.org/2000/svg\" height=\"24px\"viewBox=\"0 0 24 24\"\n",
              "       width=\"24px\">\n",
              "    <path d=\"M0 0h24v24H0V0z\" fill=\"none\"/>\n",
              "    <path d=\"M18.56 5.44l.94 2.06.94-2.06 2.06-.94-2.06-.94-.94-2.06-.94 2.06-2.06.94zm-11 1L8.5 8.5l.94-2.06 2.06-.94-2.06-.94L8.5 2.5l-.94 2.06-2.06.94zm10 10l.94 2.06.94-2.06 2.06-.94-2.06-.94-.94-2.06-.94 2.06-2.06.94z\"/><path d=\"M17.41 7.96l-1.37-1.37c-.4-.4-.92-.59-1.43-.59-.52 0-1.04.2-1.43.59L10.3 9.45l-7.72 7.72c-.78.78-.78 2.05 0 2.83L4 21.41c.39.39.9.59 1.41.59.51 0 1.02-.2 1.41-.59l7.78-7.78 2.81-2.81c.8-.78.8-2.07 0-2.86zM5.41 20L4 18.59l7.72-7.72 1.47 1.35L5.41 20z\"/>\n",
              "  </svg>\n",
              "      </button>\n",
              "      \n",
              "  <style>\n",
              "    .colab-df-container {\n",
              "      display:flex;\n",
              "      flex-wrap:wrap;\n",
              "      gap: 12px;\n",
              "    }\n",
              "\n",
              "    .colab-df-convert {\n",
              "      background-color: #E8F0FE;\n",
              "      border: none;\n",
              "      border-radius: 50%;\n",
              "      cursor: pointer;\n",
              "      display: none;\n",
              "      fill: #1967D2;\n",
              "      height: 32px;\n",
              "      padding: 0 0 0 0;\n",
              "      width: 32px;\n",
              "    }\n",
              "\n",
              "    .colab-df-convert:hover {\n",
              "      background-color: #E2EBFA;\n",
              "      box-shadow: 0px 1px 2px rgba(60, 64, 67, 0.3), 0px 1px 3px 1px rgba(60, 64, 67, 0.15);\n",
              "      fill: #174EA6;\n",
              "    }\n",
              "\n",
              "    [theme=dark] .colab-df-convert {\n",
              "      background-color: #3B4455;\n",
              "      fill: #D2E3FC;\n",
              "    }\n",
              "\n",
              "    [theme=dark] .colab-df-convert:hover {\n",
              "      background-color: #434B5C;\n",
              "      box-shadow: 0px 1px 3px 1px rgba(0, 0, 0, 0.15);\n",
              "      filter: drop-shadow(0px 1px 2px rgba(0, 0, 0, 0.3));\n",
              "      fill: #FFFFFF;\n",
              "    }\n",
              "  </style>\n",
              "\n",
              "      <script>\n",
              "        const buttonEl =\n",
              "          document.querySelector('#df-81a5798a-ce4c-44c2-a61c-2cfb162734fd button.colab-df-convert');\n",
              "        buttonEl.style.display =\n",
              "          google.colab.kernel.accessAllowed ? 'block' : 'none';\n",
              "\n",
              "        async function convertToInteractive(key) {\n",
              "          const element = document.querySelector('#df-81a5798a-ce4c-44c2-a61c-2cfb162734fd');\n",
              "          const dataTable =\n",
              "            await google.colab.kernel.invokeFunction('convertToInteractive',\n",
              "                                                     [key], {});\n",
              "          if (!dataTable) return;\n",
              "\n",
              "          const docLinkHtml = 'Like what you see? Visit the ' +\n",
              "            '<a target=\"_blank\" href=https://colab.research.google.com/notebooks/data_table.ipynb>data table notebook</a>'\n",
              "            + ' to learn more about interactive tables.';\n",
              "          element.innerHTML = '';\n",
              "          dataTable['output_type'] = 'display_data';\n",
              "          await google.colab.output.renderOutput(dataTable, element);\n",
              "          const docLink = document.createElement('div');\n",
              "          docLink.innerHTML = docLinkHtml;\n",
              "          element.appendChild(docLink);\n",
              "        }\n",
              "      </script>\n",
              "    </div>\n",
              "  </div>\n",
              "  "
            ]
          },
          "metadata": {},
          "execution_count": 71
        }
      ]
    },
    {
      "cell_type": "code",
      "source": [
        "data.info()"
      ],
      "metadata": {
        "colab": {
          "base_uri": "https://localhost:8080/"
        },
        "id": "QM1ZIe5KY3Kg",
        "outputId": "1d9288b9-8c39-4fe0-b31c-69b559635086"
      },
      "execution_count": 72,
      "outputs": [
        {
          "output_type": "stream",
          "name": "stdout",
          "text": [
            "<class 'pandas.core.frame.DataFrame'>\n",
            "RangeIndex: 10034 entries, 0 to 10033\n",
            "Data columns (total 31 columns):\n",
            " #   Column       Non-Null Count  Dtype  \n",
            "---  ------       --------------  -----  \n",
            " 0   City         10034 non-null  object \n",
            " 1   Station      10034 non-null  object \n",
            " 2   Date         10034 non-null  object \n",
            " 3   FromDate     10034 non-null  object \n",
            " 4   ToDate       10034 non-null  object \n",
            " 5   PM2.5        10034 non-null  float64\n",
            " 6   PM10         9438 non-null   float64\n",
            " 7   NO           9849 non-null   float64\n",
            " 8   NO2          9873 non-null   float64\n",
            " 9   NH3          8659 non-null   float64\n",
            " 10  SO2          9260 non-null   float64\n",
            " 11  CO           9850 non-null   float64\n",
            " 12  Benzene      8955 non-null   float64\n",
            " 13  Ozone        7221 non-null   float64\n",
            " 14  CH4          334 non-null    float64\n",
            " 15  CO2          2594 non-null   float64\n",
            " 16  I1(PM2.5)    10034 non-null  int64  \n",
            " 17  I2(PM10)     10034 non-null  float64\n",
            " 18  I3(NO)       10034 non-null  float64\n",
            " 19  I4(NO2)      10034 non-null  float64\n",
            " 20  I5(NH3)      10034 non-null  float64\n",
            " 21  I6(SO2)      10034 non-null  float64\n",
            " 22  I7(CO)       10034 non-null  float64\n",
            " 23  I1(PM2.5).1  10034 non-null  int64  \n",
            " 24  I2(PM10).1   10034 non-null  int64  \n",
            " 25  I3(NO).1     10034 non-null  int64  \n",
            " 26  I4(NO2).1    10034 non-null  int64  \n",
            " 27  I5(NH3).1    10034 non-null  int64  \n",
            " 28  I6(SO2).1    10034 non-null  int64  \n",
            " 29  I7(CO).1     10034 non-null  int64  \n",
            " 30  AQI          10034 non-null  float64\n",
            "dtypes: float64(18), int64(8), object(5)\n",
            "memory usage: 2.4+ MB\n"
          ]
        }
      ]
    },
    {
      "cell_type": "code",
      "source": [
        "pd.isnull(data[\"PM2.5\"]).sum()"
      ],
      "metadata": {
        "colab": {
          "base_uri": "https://localhost:8080/"
        },
        "id": "DJFZ8S-2XfZr",
        "outputId": "8a4f5836-d423-4454-d917-1ca62a3bf1cd"
      },
      "execution_count": 73,
      "outputs": [
        {
          "output_type": "execute_result",
          "data": {
            "text/plain": [
              "0"
            ]
          },
          "metadata": {},
          "execution_count": 73
        }
      ]
    },
    {
      "cell_type": "code",
      "source": [
        "pd.isnull(data[\"PM10\"]).sum()"
      ],
      "metadata": {
        "colab": {
          "base_uri": "https://localhost:8080/"
        },
        "id": "jt5dUwZYszsQ",
        "outputId": "81d2e214-6de1-414a-bf02-fb1597ff5b12"
      },
      "execution_count": 81,
      "outputs": [
        {
          "output_type": "execute_result",
          "data": {
            "text/plain": [
              "1375"
            ]
          },
          "metadata": {},
          "execution_count": 81
        }
      ]
    },
    {
      "cell_type": "code",
      "source": [
        "data['PM10']=data['PM10'].fillna(data['PM10'].median())\n",
        "data['PM2.5']=data['PM2.5'].fillna(data['PM2.5'].median())\n",
        "data['NO']=data['NO'].fillna(data['NO'].median())\n",
        "data['NO2']=data['NO2'].fillna(data['NO2'].median())\n",
        "data['SO2']=data['SO2'].fillna(data['SO2'].median())\n",
        "data['CO']=data['CO'].fillna(data['CO'].median())\n",
        "data['NH3']=data['NH3'].fillna(data['NH3'].median())"
      ],
      "metadata": {
        "id": "vpz6TCeOZXcp"
      },
      "execution_count": 82,
      "outputs": []
    },
    {
      "cell_type": "code",
      "source": [
        "pd.isnull(data[\"AQI\"]).sum()"
      ],
      "metadata": {
        "colab": {
          "base_uri": "https://localhost:8080/"
        },
        "id": "8H7H2FNpxRbX",
        "outputId": "9ac44068-de02-4331-acfd-9e72a558cf49"
      },
      "execution_count": 76,
      "outputs": [
        {
          "output_type": "execute_result",
          "data": {
            "text/plain": [
              "0"
            ]
          },
          "metadata": {},
          "execution_count": 76
        }
      ]
    },
    {
      "cell_type": "code",
      "source": [
        "data.count()"
      ],
      "metadata": {
        "colab": {
          "base_uri": "https://localhost:8080/"
        },
        "id": "6IvCzsvQtkn3",
        "outputId": "bd45acb7-3dda-4f34-cda0-4b41222cf4c6"
      },
      "execution_count": 83,
      "outputs": [
        {
          "output_type": "execute_result",
          "data": {
            "text/plain": [
              "City           10034\n",
              "Station        10034\n",
              "Date           10034\n",
              "FromDate       10034\n",
              "ToDate         10034\n",
              "PM2.5          10034\n",
              "PM10           10034\n",
              "NO             10034\n",
              "NO2            10034\n",
              "NH3            10034\n",
              "SO2            10034\n",
              "CO             10034\n",
              "Benzene         8955\n",
              "Ozone           7221\n",
              "CH4              334\n",
              "CO2             2594\n",
              "I1(PM2.5)      10034\n",
              "I2(PM10)       10034\n",
              "I3(NO)         10034\n",
              "I4(NO2)        10034\n",
              "I5(NH3)        10034\n",
              "I6(SO2)        10034\n",
              "I7(CO)         10034\n",
              "I1(PM2.5).1    10034\n",
              "I2(PM10).1     10034\n",
              "I3(NO).1       10034\n",
              "I4(NO2).1      10034\n",
              "I5(NH3).1      10034\n",
              "I6(SO2).1      10034\n",
              "I7(CO).1       10034\n",
              "AQI            10034\n",
              "dtype: int64"
            ]
          },
          "metadata": {},
          "execution_count": 83
        }
      ]
    },
    {
      "cell_type": "code",
      "source": [
        "x = data.iloc[:,5:12]\n",
        "y = data['AQI']"
      ],
      "metadata": {
        "id": "O4jf4pO2tod-"
      },
      "execution_count": 89,
      "outputs": []
    },
    {
      "cell_type": "code",
      "source": [
        "from sklearn import linear_model\n",
        "from sklearn.model_selection import train_test_split\n",
        "from sklearn.linear_model import LinearRegression\n",
        "from sklearn.metrics import r2_score\n",
        "import matplotlib.pyplot as plt\n",
        "import seaborn as sns\n",
        "import warnings\n",
        "warnings.filterwarnings(\"ignore\")"
      ],
      "metadata": {
        "id": "oHUM5Gcqv74m"
      },
      "execution_count": 95,
      "outputs": []
    },
    {
      "cell_type": "code",
      "source": [
        "x_train,x_test,y_train,y_test=train_test_split(x,y,test_size=0.2,random_state=0)"
      ],
      "metadata": {
        "id": "n-fWp7te75Mm"
      },
      "execution_count": 96,
      "outputs": []
    },
    {
      "cell_type": "code",
      "source": [
        "#shapes of splitted data\n",
        "print(\"X_train:\",x_train.shape)\n",
        "print(\"X_test:\",x_test.shape)\n",
        "print(\"Y_train:\",y_train.shape)\n",
        "print(\"Y_test:\",y_test.shape)"
      ],
      "metadata": {
        "colab": {
          "base_uri": "https://localhost:8080/"
        },
        "id": "tw1zOyEPAOJv",
        "outputId": "f3011194-a7fa-4c6d-b03c-9335ef1fa997"
      },
      "execution_count": 110,
      "outputs": [
        {
          "output_type": "stream",
          "name": "stdout",
          "text": [
            "X_train: (8027, 7)\n",
            "X_test: (2007, 7)\n",
            "Y_train: (8027,)\n",
            "Y_test: (2007,)\n"
          ]
        }
      ]
    },
    {
      "cell_type": "code",
      "source": [
        "linreg=LinearRegression()\n",
        "model=linreg.fit(x_train,y_train)"
      ],
      "metadata": {
        "id": "CghAuPXMwNUR"
      },
      "execution_count": 121,
      "outputs": []
    },
    {
      "cell_type": "code",
      "source": [
        "y_predtrain=model.predict(x_train)"
      ],
      "metadata": {
        "id": "WTGM66iKTmLG"
      },
      "execution_count": 142,
      "outputs": []
    },
    {
      "cell_type": "code",
      "source": [
        "df=pd.DataFrame()\n",
        "df['Actual Value']=y_train\n",
        "df['Predicted Value']=y_predtrain"
      ],
      "metadata": {
        "id": "af5eWGOoV6Er"
      },
      "execution_count": 152,
      "outputs": []
    },
    {
      "cell_type": "code",
      "source": [
        "y_pred=model.predict(x_test)\n",
        "y_pred"
      ],
      "metadata": {
        "colab": {
          "base_uri": "https://localhost:8080/"
        },
        "id": "ZNCc3p957XsO",
        "outputId": "fdb2600a-7bf1-4c6b-9852-cb089c664fcd"
      },
      "execution_count": 123,
      "outputs": [
        {
          "output_type": "execute_result",
          "data": {
            "text/plain": [
              "array([ 34.76264254,  37.23533566, 204.07892939, ...,  57.40994137,\n",
              "        25.03509261, 165.81357148])"
            ]
          },
          "metadata": {},
          "execution_count": 123
        }
      ]
    },
    {
      "cell_type": "code",
      "source": [
        "model.coef_"
      ],
      "metadata": {
        "colab": {
          "base_uri": "https://localhost:8080/"
        },
        "id": "01sWcwMeHlhb",
        "outputId": "ef9348c1-63aa-4065-9a51-1c6a46244ff4"
      },
      "execution_count": 125,
      "outputs": [
        {
          "output_type": "execute_result",
          "data": {
            "text/plain": [
              "array([0.20520652, 0.62815723, 0.30755789, 0.0039949 , 0.17788736,\n",
              "       0.07503732, 0.03729359])"
            ]
          },
          "metadata": {},
          "execution_count": 125
        }
      ]
    },
    {
      "cell_type": "code",
      "source": [
        "model.intercept_"
      ],
      "metadata": {
        "colab": {
          "base_uri": "https://localhost:8080/"
        },
        "id": "Ozm_T6EhJWos",
        "outputId": "6720b032-c420-4833-e80d-cbb210a2379c"
      },
      "execution_count": 126,
      "outputs": [
        {
          "output_type": "execute_result",
          "data": {
            "text/plain": [
              "8.657893027937007"
            ]
          },
          "metadata": {},
          "execution_count": 126
        }
      ]
    },
    {
      "cell_type": "code",
      "source": [
        "plt.scatter(y_test,y_pred,cmap='gray');\n",
        "plt.xlabel('Actual');\n",
        "plt.ylabel('Predicted');"
      ],
      "metadata": {
        "colab": {
          "base_uri": "https://localhost:8080/",
          "height": 279
        },
        "id": "ny-05ex89Kxo",
        "outputId": "3ee0c96e-2274-403d-9920-73d43056dd17"
      },
      "execution_count": 161,
      "outputs": [
        {
          "output_type": "display_data",
          "data": {
            "text/plain": [
              "<Figure size 432x288 with 1 Axes>"
            ],
            "image/png": "[encoded data removed]"
          },
          "metadata": {
            "needs_background": "light"
          }
        }
      ]
    },
    {
      "cell_type": "code",
      "source": [
        "sns.regplot(x=y_test,y=y_pred,ci=None,color ='red');"
      ],
      "metadata": {
        "colab": {
          "base_uri": "https://localhost:8080/",
          "height": 279
        },
        "id": "7PfhjQ0Y9clL",
        "outputId": "7b7bf3c4-dc40-443b-90c7-5b1d6e9ed60f"
      },
      "execution_count": 137,
      "outputs": [
        {
          "output_type": "display_data",
          "data": {
            "text/plain": [
              "<Figure size 432x288 with 1 Axes>"
            ],
            "image/png": "[encoded data removed]"
          },
          "metadata": {
            "needs_background": "light"
          }
        }
      ]
    },
    {
      "cell_type": "code",
      "source": [
        "pred_df=pd.DataFrame({'Actual Value':y_test,'Predicted Value':y_pred,'Difference':y_test-y_pred})"
      ],
      "metadata": {
        "id": "F5xMH89L9nGg"
      },
      "execution_count": 129,
      "outputs": []
    },
    {
      "cell_type": "code",
      "source": [
        "pred_df"
      ],
      "metadata": {
        "colab": {
          "base_uri": "https://localhost:8080/",
          "height": 423
        },
        "id": "8-CvznSN9uP4",
        "outputId": "fe8e1bce-65d7-45ba-ddf3-4c0933bfc449"
      },
      "execution_count": 130,
      "outputs": [
        {
          "output_type": "execute_result",
          "data": {
            "text/plain": [
              "      Actual Value  Predicted Value  Difference\n",
              "4456         31.56        34.762643   -3.202643\n",
              "4561         33.10        37.235336   -4.135336\n",
              "4100        196.09       204.078929   -7.988929\n",
              "1312         50.03        46.938454    3.091546\n",
              "1941        110.50        91.633815   18.866185\n",
              "...            ...              ...         ...\n",
              "4313        113.45       104.861140    8.588860\n",
              "2140         66.85        64.766410    2.083590\n",
              "7586         60.15        57.409941    2.740059\n",
              "7565         15.16        25.035093   -9.875093\n",
              "7920        134.59       165.813571  -31.223571\n",
              "\n",
              "[2007 rows x 3 columns]"
            ],
            "text/html": [
              "\n",
              "  <div id=\"df-360fd197-6200-4b35-b127-8d149592eda1\">\n",
              "    <div class=\"colab-df-container\">\n",
              "      <div>\n",
              "<style scoped>\n",
              "    .dataframe tbody tr th:only-of-type {\n",
              "        vertical-align: middle;\n",
              "    }\n",
              "\n",
              "    .dataframe tbody tr th {\n",
              "        vertical-align: top;\n",
              "    }\n",
              "\n",
              "    .dataframe thead th {\n",
              "        text-align: right;\n",
              "    }\n",
              "</style>\n",
              "<table border=\"1\" class=\"dataframe\">\n",
              "  <thead>\n",
              "    <tr style=\"text-align: right;\">\n",
              "      <th></th>\n",
              "      <th>Actual Value</th>\n",
              "      <th>Predicted Value</th>\n",
              "      <th>Difference</th>\n",
              "    </tr>\n",
              "  </thead>\n",
              "  <tbody>\n",
              "    <tr>\n",
              "      <th>4456</th>\n",
              "      <td>31.56</td>\n",
              "      <td>34.762643</td>\n",
              "      <td>-3.202643</td>\n",
              "    </tr>\n",
              "    <tr>\n",
              "      <th>4561</th>\n",
              "      <td>33.10</td>\n",
              "      <td>37.235336</td>\n",
              "      <td>-4.135336</td>\n",
              "    </tr>\n",
              "    <tr>\n",
              "      <th>4100</th>\n",
              "      <td>196.09</td>\n",
              "      <td>204.078929</td>\n",
              "      <td>-7.988929</td>\n",
              "    </tr>\n",
              "    <tr>\n",
              "      <th>1312</th>\n",
              "      <td>50.03</td>\n",
              "      <td>46.938454</td>\n",
              "      <td>3.091546</td>\n",
              "    </tr>\n",
              "    <tr>\n",
              "      <th>1941</th>\n",
              "      <td>110.50</td>\n",
              "      <td>91.633815</td>\n",
              "      <td>18.866185</td>\n",
              "    </tr>\n",
              "    <tr>\n",
              "      <th>...</th>\n",
              "      <td>...</td>\n",
              "      <td>...</td>\n",
              "      <td>...</td>\n",
              "    </tr>\n",
              "    <tr>\n",
              "      <th>4313</th>\n",
              "      <td>113.45</td>\n",
              "      <td>104.861140</td>\n",
              "      <td>8.588860</td>\n",
              "    </tr>\n",
              "    <tr>\n",
              "      <th>2140</th>\n",
              "      <td>66.85</td>\n",
              "      <td>64.766410</td>\n",
              "      <td>2.083590</td>\n",
              "    </tr>\n",
              "    <tr>\n",
              "      <th>7586</th>\n",
              "      <td>60.15</td>\n",
              "      <td>57.409941</td>\n",
              "      <td>2.740059</td>\n",
              "    </tr>\n",
              "    <tr>\n",
              "      <th>7565</th>\n",
              "      <td>15.16</td>\n",
              "      <td>25.035093</td>\n",
              "      <td>-9.875093</td>\n",
              "    </tr>\n",
              "    <tr>\n",
              "      <th>7920</th>\n",
              "      <td>134.59</td>\n",
              "      <td>165.813571</td>\n",
              "      <td>-31.223571</td>\n",
              "    </tr>\n",
              "  </tbody>\n",
              "</table>\n",
              "<p>2007 rows × 3 columns</p>\n",
              "</div>\n",
              "      <button class=\"colab-df-convert\" onclick=\"convertToInteractive('df-360fd197-6200-4b35-b127-8d149592eda1')\"\n",
              "              title=\"Convert this dataframe to an interactive table.\"\n",
              "              style=\"display:none;\">\n",
              "        \n",
              "  <svg xmlns=\"http://www.w3.org/2000/svg\" height=\"24px\"viewBox=\"0 0 24 24\"\n",
              "       width=\"24px\">\n",
              "    <path d=\"M0 0h24v24H0V0z\" fill=\"none\"/>\n",
              "    <path d=\"M18.56 5.44l.94 2.06.94-2.06 2.06-.94-2.06-.94-.94-2.06-.94 2.06-2.06.94zm-11 1L8.5 8.5l.94-2.06 2.06-.94-2.06-.94L8.5 2.5l-.94 2.06-2.06.94zm10 10l.94 2.06.94-2.06 2.06-.94-2.06-.94-.94-2.06-.94 2.06-2.06.94z\"/><path d=\"M17.41 7.96l-1.37-1.37c-.4-.4-.92-.59-1.43-.59-.52 0-1.04.2-1.43.59L10.3 9.45l-7.72 7.72c-.78.78-.78 2.05 0 2.83L4 21.41c.39.39.9.59 1.41.59.51 0 1.02-.2 1.41-.59l7.78-7.78 2.81-2.81c.8-.78.8-2.07 0-2.86zM5.41 20L4 18.59l7.72-7.72 1.47 1.35L5.41 20z\"/>\n",
              "  </svg>\n",
              "      </button>\n",
              "      \n",
              "  <style>\n",
              "    .colab-df-container {\n",
              "      display:flex;\n",
              "      flex-wrap:wrap;\n",
              "      gap: 12px;\n",
              "    }\n",
              "\n",
              "    .colab-df-convert {\n",
              "      background-color: #E8F0FE;\n",
              "      border: none;\n",
              "      border-radius: 50%;\n",
              "      cursor: pointer;\n",
              "      display: none;\n",
              "      fill: #1967D2;\n",
              "      height: 32px;\n",
              "      padding: 0 0 0 0;\n",
              "      width: 32px;\n",
              "    }\n",
              "\n",
              "    .colab-df-convert:hover {\n",
              "      background-color: #E2EBFA;\n",
              "      box-shadow: 0px 1px 2px rgba(60, 64, 67, 0.3), 0px 1px 3px 1px rgba(60, 64, 67, 0.15);\n",
              "      fill: #174EA6;\n",
              "    }\n",
              "\n",
              "    [theme=dark] .colab-df-convert {\n",
              "      background-color: #3B4455;\n",
              "      fill: #D2E3FC;\n",
              "    }\n",
              "\n",
              "    [theme=dark] .colab-df-convert:hover {\n",
              "      background-color: #434B5C;\n",
              "      box-shadow: 0px 1px 3px 1px rgba(0, 0, 0, 0.15);\n",
              "      filter: drop-shadow(0px 1px 2px rgba(0, 0, 0, 0.3));\n",
              "      fill: #FFFFFF;\n",
              "    }\n",
              "  </style>\n",
              "\n",
              "      <script>\n",
              "        const buttonEl =\n",
              "          document.querySelector('#df-360fd197-6200-4b35-b127-8d149592eda1 button.colab-df-convert');\n",
              "        buttonEl.style.display =\n",
              "          google.colab.kernel.accessAllowed ? 'block' : 'none';\n",
              "\n",
              "        async function convertToInteractive(key) {\n",
              "          const element = document.querySelector('#df-360fd197-6200-4b35-b127-8d149592eda1');\n",
              "          const dataTable =\n",
              "            await google.colab.kernel.invokeFunction('convertToInteractive',\n",
              "                                                     [key], {});\n",
              "          if (!dataTable) return;\n",
              "\n",
              "          const docLinkHtml = 'Like what you see? Visit the ' +\n",
              "            '<a target=\"_blank\" href=https://colab.research.google.com/notebooks/data_table.ipynb>data table notebook</a>'\n",
              "            + ' to learn more about interactive tables.';\n",
              "          element.innerHTML = '';\n",
              "          dataTable['output_type'] = 'display_data';\n",
              "          await google.colab.output.renderOutput(dataTable, element);\n",
              "          const docLink = document.createElement('div');\n",
              "          docLink.innerHTML = docLinkHtml;\n",
              "          element.appendChild(docLink);\n",
              "        }\n",
              "      </script>\n",
              "    </div>\n",
              "  </div>\n",
              "  "
            ]
          },
          "metadata": {},
          "execution_count": 130
        }
      ]
    },
    {
      "cell_type": "code",
      "source": [
        "pred_df.to_csv(\"Actual vs predicted value for MLR.csv\")"
      ],
      "metadata": {
        "id": "mZ33htAKYxzq"
      },
      "execution_count": 158,
      "outputs": []
    },
    {
      "cell_type": "code",
      "source": [
        "from sklearn.metrics import confusion_matrix, accuracy_score"
      ],
      "metadata": {
        "id": "dNqpok4G-mwv"
      },
      "execution_count": 131,
      "outputs": []
    },
    {
      "cell_type": "code",
      "source": [
        "Accuracy=r2_score(y_train,y_predtrain)*100\n",
        "print(\" Accuracy of the model is %.2f\" %Accuracy)"
      ],
      "metadata": {
        "colab": {
          "base_uri": "https://localhost:8080/"
        },
        "id": "uFRFBVFkaiax",
        "outputId": "221eb661-5d25-4729-aff4-e9729f72124c"
      },
      "execution_count": 160,
      "outputs": [
        {
          "output_type": "stream",
          "name": "stdout",
          "text": [
            " Accuracy of the model is 91.12\n"
          ]
        }
      ]
    },
    {
      "cell_type": "code",
      "source": [
        "Accuracy=r2_score(y_test,y_pred)*100\n",
        "print(\" Accuracy of the model is %.2f\" %Accuracy)"
      ],
      "metadata": {
        "colab": {
          "base_uri": "https://localhost:8080/"
        },
        "id": "5c0IGwFE-qCd",
        "outputId": "5d9a94bb-a457-4c7e-9d5c-547791841b0a"
      },
      "execution_count": 133,
      "outputs": [
        {
          "output_type": "stream",
          "name": "stdout",
          "text": [
            " Accuracy of the model is 91.36\n"
          ]
        }
      ]
    },
    {
      "cell_type": "code",
      "source": [
        "mape = np.mean(np.abs(y_predtrain - y_train) /np.abs(y_train)) # Mean absolute percentage error -\n",
        "mae = np.mean(np.abs(y_predtrain  - y_train)) # Mean absolute error\n",
        "mpe = np.mean((y_predtrain  - y_train)/y_train) # Mean percentage error\n",
        "rmse = np.mean((y_predtrain  -y_train)**2)**.5 # RMSE\n",
        "corr = np.corrcoef (y_predtrain ,y_train) [0,1]\n",
        "\n",
        "# Correlation Coefficient\n",
        "mins = np.amin(np.hstack([y_predtrain [:,None], y_train[:,None]]), axis=1)\n",
        "maxs = np.amax(np.hstack([y_predtrain [:,None], y_train[:,None]]), axis=1)\n",
        "minmax = 1 - np.mean(mins/maxs)   # minmax\n",
        "\n",
        "import pprint\n",
        "pprint.pprint({'mape':mape,'mae':mae,'mpe':mpe,'rmse':rmse,'corr':corr,'minmax' :minmax})"
      ],
      "metadata": {
        "colab": {
          "base_uri": "https://localhost:8080/"
        },
        "id": "c0qlj-EDZd8x",
        "outputId": "e9e28381-4874-4519-9f56-d79a4cd0d35a"
      },
      "execution_count": 159,
      "outputs": [
        {
          "output_type": "stream",
          "name": "stdout",
          "text": [
            "{'corr': 0.9545469538199954,\n",
            " 'mae': 10.57036815787514,\n",
            " 'mape': 0.18752217143490454,\n",
            " 'minmax': 0.12305653946585915,\n",
            " 'mpe': 0.08734185303230155,\n",
            " 'rmse': 16.467525332742408}\n"
          ]
        }
      ]
    },
    {
      "cell_type": "code",
      "source": [
        "mape = np.mean(np.abs(y_pred - y_test) /np.abs(y_test)) # Mean absolute percentage error -\n",
        "mae = np.mean(np.abs(y_pred - y_test)) # Mean absolute error\n",
        "mpe = np.mean((y_pred - y_test)/y_test) # Mean percentage error\n",
        "rmse = np.mean((y_pred - y_test)**2)**.5 # RMSE\n",
        "corr = np.corrcoef (y_pred, y_test) [0,1]\n",
        "\n",
        "# Correlation Coefficient\n",
        "mins = np.amin(np.hstack([y_pred[:,None], y_test[:,None]]), axis=1)\n",
        "maxs = np.amax(np.hstack([y_pred[:,None], y_test[:,None]]), axis=1)\n",
        "minmax = 1 - np.mean(mins/maxs)   # minmax\n",
        "\n",
        "import pprint\n",
        "pprint.pprint({'mape':mape,'mae':mae,'mpe':mpe,'rmse':rmse,'corr':corr,'minmax' :minmax})"
      ],
      "metadata": {
        "colab": {
          "base_uri": "https://localhost:8080/"
        },
        "id": "syMAItbzJozT",
        "outputId": "cd46dc3e-10d3-4894-a946-54afb08967c6"
      },
      "execution_count": 155,
      "outputs": [
        {
          "output_type": "stream",
          "name": "stdout",
          "text": [
            "{'corr': 0.9558509961254353,\n",
            " 'mae': 9.9999522646039,\n",
            " 'mape': 0.1718842383240076,\n",
            " 'minmax': 0.11759139588831047,\n",
            " 'mpe': 0.07183023340503027,\n",
            " 'rmse': 15.455997836213637}\n"
          ]
        }
      ]
    }
  ]
}