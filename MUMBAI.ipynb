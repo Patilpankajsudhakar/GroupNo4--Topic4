{
  "nbformat": 4,
  "nbformat_minor": 0,
  "metadata": {
    "colab": {
      "name": "MUMBAI.ipynb",
      "provenance": [],
      "collapsed_sections": [],
      "mount_file_id": "1PYBzULj4I-KrtoSp-_x0-rtiey8gEZoO",
      "authorship_tag": "ABX9TyOGEaq2+lAW/0JOnkB/jtEO",
      "include_colab_link": true
    },
    "kernelspec": {
      "name": "python3",
      "display_name": "Python 3"
    },
    "language_info": {
      "name": "python"
    }
  },
  "cells": [
    {
      "cell_type": "markdown",
      "metadata": {
        "id": "view-in-github",
        "colab_type": "text"
      },
      "source": [
        "<a href=\"https://colab.research.google.com/github/Patilpankajsudhakar/GroupNo4--Topic4/blob/main/MUMBAI.ipynb\" target=\"_parent\"><img src=\"https://colab.research.google.com/assets/colab-badge.svg\" alt=\"Open In Colab\"/></a>"
      ]
    },
    {
      "cell_type": "code",
      "execution_count": null,
      "metadata": {
        "id": "5jBvsNpkxZa_"
      },
      "outputs": [],
      "source": [
        "import pandas as pd\n",
        "import numpy as np\n",
        "import matplotlib.pyplot as plt"
      ]
    },
    {
      "cell_type": "code",
      "source": [
        "df=pd.read_csv(\"/content/drive/MyDrive/mumbai.csv\")\n",
        "df.head()\n"
      ],
      "metadata": {
        "id": "kIqr-QMqyVNk",
        "colab": {
          "base_uri": "https://localhost:8080/",
          "height": 357
        },
        "outputId": "de6a951f-da7d-4d48-b7b4-703ff7812bf3"
      },
      "execution_count": null,
      "outputs": [
        {
          "output_type": "execute_result",
          "data": {
            "text/plain": [
              "        City                         Station            FromDate  \\\n",
              "0  Mumbai-01  BandraKurlaComplex,Mumbai-IITM  10/11/202000:00:00   \n",
              "1  Mumbai-01  BandraKurlaComplex,Mumbai-IITM  11/11/202000:00:00   \n",
              "2  Mumbai-01  BandraKurlaComplex,Mumbai-IITM  12/11/202000:00:00   \n",
              "3  Mumbai-01  BandraKurlaComplex,Mumbai-IITM  13/11/202000:00:00   \n",
              "4  Mumbai-01  BandraKurlaComplex,Mumbai-IITM  14/11/202000:00:00   \n",
              "\n",
              "               ToDate  PM2.5    PM10     NO    NO2     NH3   SO2    CO  \\\n",
              "0  11/11/202000:00:00  28.85  289.36  70.61  58.47  174.30  3.01  0.20   \n",
              "1  12/11/202000:00:00  90.91  266.66  59.70  51.01  153.50  3.24  0.35   \n",
              "2  13/11/202000:00:00  26.19  237.63  76.37  92.88  157.16  8.28  1.11   \n",
              "3  14/11/202000:00:00  27.24  243.11  86.95  45.14  185.24  3.26  0.76   \n",
              "4  15/11/202000:00:00  27.93  180.92  62.56  68.73  131.72  7.24  1.80   \n",
              "\n",
              "   Benzene  Ozone  CH4     CO2  BlackCarbon  \n",
              "0      5.0  13.72  NaN  420.08          NaN  \n",
              "1      5.0   8.06  NaN  417.61          NaN  \n",
              "2      5.0  22.12  NaN  426.32          NaN  \n",
              "3      5.0   8.11  NaN  433.62          NaN  \n",
              "4      5.0  19.06  NaN  323.93          NaN  "
            ],
            "text/html": [
              "\n",
              "  <div id=\"df-b38e223d-8e4f-46d1-8d0e-46cf8314e5f1\">\n",
              "    <div class=\"colab-df-container\">\n",
              "      <div>\n",
              "<style scoped>\n",
              "    .dataframe tbody tr th:only-of-type {\n",
              "        vertical-align: middle;\n",
              "    }\n",
              "\n",
              "    .dataframe tbody tr th {\n",
              "        vertical-align: top;\n",
              "    }\n",
              "\n",
              "    .dataframe thead th {\n",
              "        text-align: right;\n",
              "    }\n",
              "</style>\n",
              "<table border=\"1\" class=\"dataframe\">\n",
              "  <thead>\n",
              "    <tr style=\"text-align: right;\">\n",
              "      <th></th>\n",
              "      <th>City</th>\n",
              "      <th>Station</th>\n",
              "      <th>FromDate</th>\n",
              "      <th>ToDate</th>\n",
              "      <th>PM2.5</th>\n",
              "      <th>PM10</th>\n",
              "      <th>NO</th>\n",
              "      <th>NO2</th>\n",
              "      <th>NH3</th>\n",
              "      <th>SO2</th>\n",
              "      <th>CO</th>\n",
              "      <th>Benzene</th>\n",
              "      <th>Ozone</th>\n",
              "      <th>CH4</th>\n",
              "      <th>CO2</th>\n",
              "      <th>BlackCarbon</th>\n",
              "    </tr>\n",
              "  </thead>\n",
              "  <tbody>\n",
              "    <tr>\n",
              "      <th>0</th>\n",
              "      <td>Mumbai-01</td>\n",
              "      <td>BandraKurlaComplex,Mumbai-IITM</td>\n",
              "      <td>10/11/202000:00:00</td>\n",
              "      <td>11/11/202000:00:00</td>\n",
              "      <td>28.85</td>\n",
              "      <td>289.36</td>\n",
              "      <td>70.61</td>\n",
              "      <td>58.47</td>\n",
              "      <td>174.30</td>\n",
              "      <td>3.01</td>\n",
              "      <td>0.20</td>\n",
              "      <td>5.0</td>\n",
              "      <td>13.72</td>\n",
              "      <td>NaN</td>\n",
              "      <td>420.08</td>\n",
              "      <td>NaN</td>\n",
              "    </tr>\n",
              "    <tr>\n",
              "      <th>1</th>\n",
              "      <td>Mumbai-01</td>\n",
              "      <td>BandraKurlaComplex,Mumbai-IITM</td>\n",
              "      <td>11/11/202000:00:00</td>\n",
              "      <td>12/11/202000:00:00</td>\n",
              "      <td>90.91</td>\n",
              "      <td>266.66</td>\n",
              "      <td>59.70</td>\n",
              "      <td>51.01</td>\n",
              "      <td>153.50</td>\n",
              "      <td>3.24</td>\n",
              "      <td>0.35</td>\n",
              "      <td>5.0</td>\n",
              "      <td>8.06</td>\n",
              "      <td>NaN</td>\n",
              "      <td>417.61</td>\n",
              "      <td>NaN</td>\n",
              "    </tr>\n",
              "    <tr>\n",
              "      <th>2</th>\n",
              "      <td>Mumbai-01</td>\n",
              "      <td>BandraKurlaComplex,Mumbai-IITM</td>\n",
              "      <td>12/11/202000:00:00</td>\n",
              "      <td>13/11/202000:00:00</td>\n",
              "      <td>26.19</td>\n",
              "      <td>237.63</td>\n",
              "      <td>76.37</td>\n",
              "      <td>92.88</td>\n",
              "      <td>157.16</td>\n",
              "      <td>8.28</td>\n",
              "      <td>1.11</td>\n",
              "      <td>5.0</td>\n",
              "      <td>22.12</td>\n",
              "      <td>NaN</td>\n",
              "      <td>426.32</td>\n",
              "      <td>NaN</td>\n",
              "    </tr>\n",
              "    <tr>\n",
              "      <th>3</th>\n",
              "      <td>Mumbai-01</td>\n",
              "      <td>BandraKurlaComplex,Mumbai-IITM</td>\n",
              "      <td>13/11/202000:00:00</td>\n",
              "      <td>14/11/202000:00:00</td>\n",
              "      <td>27.24</td>\n",
              "      <td>243.11</td>\n",
              "      <td>86.95</td>\n",
              "      <td>45.14</td>\n",
              "      <td>185.24</td>\n",
              "      <td>3.26</td>\n",
              "      <td>0.76</td>\n",
              "      <td>5.0</td>\n",
              "      <td>8.11</td>\n",
              "      <td>NaN</td>\n",
              "      <td>433.62</td>\n",
              "      <td>NaN</td>\n",
              "    </tr>\n",
              "    <tr>\n",
              "      <th>4</th>\n",
              "      <td>Mumbai-01</td>\n",
              "      <td>BandraKurlaComplex,Mumbai-IITM</td>\n",
              "      <td>14/11/202000:00:00</td>\n",
              "      <td>15/11/202000:00:00</td>\n",
              "      <td>27.93</td>\n",
              "      <td>180.92</td>\n",
              "      <td>62.56</td>\n",
              "      <td>68.73</td>\n",
              "      <td>131.72</td>\n",
              "      <td>7.24</td>\n",
              "      <td>1.80</td>\n",
              "      <td>5.0</td>\n",
              "      <td>19.06</td>\n",
              "      <td>NaN</td>\n",
              "      <td>323.93</td>\n",
              "      <td>NaN</td>\n",
              "    </tr>\n",
              "  </tbody>\n",
              "</table>\n",
              "</div>\n",
              "      <button class=\"colab-df-convert\" onclick=\"convertToInteractive('df-b38e223d-8e4f-46d1-8d0e-46cf8314e5f1')\"\n",
              "              title=\"Convert this dataframe to an interactive table.\"\n",
              "              style=\"display:none;\">\n",
              "        \n",
              "  <svg xmlns=\"http://www.w3.org/2000/svg\" height=\"24px\"viewBox=\"0 0 24 24\"\n",
              "       width=\"24px\">\n",
              "    <path d=\"M0 0h24v24H0V0z\" fill=\"none\"/>\n",
              "    <path d=\"M18.56 5.44l.94 2.06.94-2.06 2.06-.94-2.06-.94-.94-2.06-.94 2.06-2.06.94zm-11 1L8.5 8.5l.94-2.06 2.06-.94-2.06-.94L8.5 2.5l-.94 2.06-2.06.94zm10 10l.94 2.06.94-2.06 2.06-.94-2.06-.94-.94-2.06-.94 2.06-2.06.94z\"/><path d=\"M17.41 7.96l-1.37-1.37c-.4-.4-.92-.59-1.43-.59-.52 0-1.04.2-1.43.59L10.3 9.45l-7.72 7.72c-.78.78-.78 2.05 0 2.83L4 21.41c.39.39.9.59 1.41.59.51 0 1.02-.2 1.41-.59l7.78-7.78 2.81-2.81c.8-.78.8-2.07 0-2.86zM5.41 20L4 18.59l7.72-7.72 1.47 1.35L5.41 20z\"/>\n",
              "  </svg>\n",
              "      </button>\n",
              "      \n",
              "  <style>\n",
              "    .colab-df-container {\n",
              "      display:flex;\n",
              "      flex-wrap:wrap;\n",
              "      gap: 12px;\n",
              "    }\n",
              "\n",
              "    .colab-df-convert {\n",
              "      background-color: #E8F0FE;\n",
              "      border: none;\n",
              "      border-radius: 50%;\n",
              "      cursor: pointer;\n",
              "      display: none;\n",
              "      fill: #1967D2;\n",
              "      height: 32px;\n",
              "      padding: 0 0 0 0;\n",
              "      width: 32px;\n",
              "    }\n",
              "\n",
              "    .colab-df-convert:hover {\n",
              "      background-color: #E2EBFA;\n",
              "      box-shadow: 0px 1px 2px rgba(60, 64, 67, 0.3), 0px 1px 3px 1px rgba(60, 64, 67, 0.15);\n",
              "      fill: #174EA6;\n",
              "    }\n",
              "\n",
              "    [theme=dark] .colab-df-convert {\n",
              "      background-color: #3B4455;\n",
              "      fill: #D2E3FC;\n",
              "    }\n",
              "\n",
              "    [theme=dark] .colab-df-convert:hover {\n",
              "      background-color: #434B5C;\n",
              "      box-shadow: 0px 1px 3px 1px rgba(0, 0, 0, 0.15);\n",
              "      filter: drop-shadow(0px 1px 2px rgba(0, 0, 0, 0.3));\n",
              "      fill: #FFFFFF;\n",
              "    }\n",
              "  </style>\n",
              "\n",
              "      <script>\n",
              "        const buttonEl =\n",
              "          document.querySelector('#df-b38e223d-8e4f-46d1-8d0e-46cf8314e5f1 button.colab-df-convert');\n",
              "        buttonEl.style.display =\n",
              "          google.colab.kernel.accessAllowed ? 'block' : 'none';\n",
              "\n",
              "        async function convertToInteractive(key) {\n",
              "          const element = document.querySelector('#df-b38e223d-8e4f-46d1-8d0e-46cf8314e5f1');\n",
              "          const dataTable =\n",
              "            await google.colab.kernel.invokeFunction('convertToInteractive',\n",
              "                                                     [key], {});\n",
              "          if (!dataTable) return;\n",
              "\n",
              "          const docLinkHtml = 'Like what you see? Visit the ' +\n",
              "            '<a target=\"_blank\" href=https://colab.research.google.com/notebooks/data_table.ipynb>data table notebook</a>'\n",
              "            + ' to learn more about interactive tables.';\n",
              "          element.innerHTML = '';\n",
              "          dataTable['output_type'] = 'display_data';\n",
              "          await google.colab.output.renderOutput(dataTable, element);\n",
              "          const docLink = document.createElement('div');\n",
              "          docLink.innerHTML = docLinkHtml;\n",
              "          element.appendChild(docLink);\n",
              "        }\n",
              "      </script>\n",
              "    </div>\n",
              "  </div>\n",
              "  "
            ]
          },
          "metadata": {},
          "execution_count": 158
        }
      ]
    },
    {
      "cell_type": "markdown",
      "source": [
        "#**After removel check the data**"
      ],
      "metadata": {
        "id": "6dJMaEBotJLI"
      }
    },
    {
      "cell_type": "code",
      "source": [
        "plt.hist(df['PM2.5'])"
      ],
      "metadata": {
        "colab": {
          "base_uri": "https://localhost:8080/",
          "height": 356
        },
        "id": "pStsor4OotCU",
        "outputId": "10343789-45f0-4cf1-a76c-ac3718711e98"
      },
      "execution_count": null,
      "outputs": [
        {
          "output_type": "execute_result",
          "data": {
            "text/plain": [
              "(array([1.1464e+04, 9.1200e+02, 2.4000e+01, 2.0000e+00, 1.0000e+00,\n",
              "        0.0000e+00, 0.0000e+00, 0.0000e+00, 0.0000e+00, 1.0000e+00]),\n",
              " array([  0.   ,  93.483, 186.966, 280.449, 373.932, 467.415, 560.898,\n",
              "        654.381, 747.864, 841.347, 934.83 ]),\n",
              " <a list of 10 Patch objects>)"
            ]
          },
          "metadata": {},
          "execution_count": 159
        },
        {
          "output_type": "display_data",
          "data": {
            "text/plain": [
              "<Figure size 432x288 with 1 Axes>"
            ],
            "image/png": "[encoded data removed]"
          },
          "metadata": {
            "needs_background": "light"
          }
        }
      ]
    },
    {
      "cell_type": "code",
      "source": [
        "plt.hist(df['PM10'])"
      ],
      "metadata": {
        "colab": {
          "base_uri": "https://localhost:8080/",
          "height": 352
        },
        "id": "4Wr4OPtrqSeF",
        "outputId": "28068e7e-43f7-4f1a-fedc-4affbae4c7fb"
      },
      "execution_count": null,
      "outputs": [
        {
          "output_type": "execute_result",
          "data": {
            "text/plain": [
              "(array([5.370e+03, 3.081e+03, 1.821e+03, 1.048e+03, 4.900e+02, 1.540e+02,\n",
              "        2.900e+01, 2.000e+00, 2.000e+00, 2.000e+00]),\n",
              " array([  0.   ,  54.044, 108.088, 162.132, 216.176, 270.22 , 324.264,\n",
              "        378.308, 432.352, 486.396, 540.44 ]),\n",
              " <a list of 10 Patch objects>)"
            ]
          },
          "metadata": {},
          "execution_count": 160
        },
        {
          "output_type": "display_data",
          "data": {
            "text/plain": [
              "<Figure size 432x288 with 1 Axes>"
            ],
            "image/png": "[encoded data removed]"
          },
          "metadata": {
            "needs_background": "light"
          }
        }
      ]
    },
    {
      "cell_type": "code",
      "source": [
        "plt.hist(df['NO'])"
      ],
      "metadata": {
        "colab": {
          "base_uri": "https://localhost:8080/",
          "height": 352
        },
        "id": "dVqqPTw-nm6Z",
        "outputId": "e194d22d-b53b-4c62-98fd-63fb2c7d1d3d"
      },
      "execution_count": null,
      "outputs": [
        {
          "output_type": "execute_result",
          "data": {
            "text/plain": [
              "(array([9.520e+03, 1.316e+03, 3.550e+02, 1.070e+02, 5.600e+01, 1.900e+01,\n",
              "        5.000e+00, 1.000e+00, 2.000e+00, 1.000e+00]),\n",
              " array([  0.   ,  48.695,  97.39 , 146.085, 194.78 , 243.475, 292.17 ,\n",
              "        340.865, 389.56 , 438.255, 486.95 ]),\n",
              " <a list of 10 Patch objects>)"
            ]
          },
          "metadata": {},
          "execution_count": 161
        },
        {
          "output_type": "display_data",
          "data": {
            "text/plain": [
              "<Figure size 432x288 with 1 Axes>"
            ],
            "image/png": "[encoded data removed]"
          },
          "metadata": {
            "needs_background": "light"
          }
        }
      ]
    },
    {
      "cell_type": "code",
      "source": [
        "plt.hist(df['NO2'])"
      ],
      "metadata": {
        "colab": {
          "base_uri": "https://localhost:8080/",
          "height": 352
        },
        "id": "MEblvBBUtU9V",
        "outputId": "fdf9e693-90e8-4342-9852-522475d037d1"
      },
      "execution_count": null,
      "outputs": [
        {
          "output_type": "execute_result",
          "data": {
            "text/plain": [
              "(array([7.868e+03, 2.310e+03, 8.000e+02, 3.010e+02, 8.200e+01, 3.100e+01,\n",
              "        4.000e+00, 3.000e+00, 0.000e+00, 1.000e+00]),\n",
              " array([  0.   ,  23.187,  46.374,  69.561,  92.748, 115.935, 139.122,\n",
              "        162.309, 185.496, 208.683, 231.87 ]),\n",
              " <a list of 10 Patch objects>)"
            ]
          },
          "metadata": {},
          "execution_count": 162
        },
        {
          "output_type": "display_data",
          "data": {
            "text/plain": [
              "<Figure size 432x288 with 1 Axes>"
            ],
            "image/png": "[encoded data removed]"
          },
          "metadata": {
            "needs_background": "light"
          }
        }
      ]
    },
    {
      "cell_type": "code",
      "source": [
        "plt.hist(df['NH3'])"
      ],
      "metadata": {
        "colab": {
          "base_uri": "https://localhost:8080/",
          "height": 369
        },
        "id": "39Jh_T23unqe",
        "outputId": "4e008dab-e87c-41b1-a982-c0165fdb7c3d"
      },
      "execution_count": null,
      "outputs": [
        {
          "output_type": "execute_result",
          "data": {
            "text/plain": [
              "(array([7.985e+03, 6.860e+02, 1.530e+02, 5.600e+01, 1.900e+01, 1.100e+01,\n",
              "        6.000e+00, 3.000e+00, 1.000e+00, 3.000e+00]),\n",
              " array([1.0000e-02, 4.0540e+01, 8.1070e+01, 1.2160e+02, 1.6213e+02,\n",
              "        2.0266e+02, 2.4319e+02, 2.8372e+02, 3.2425e+02, 3.6478e+02,\n",
              "        4.0531e+02]),\n",
              " <a list of 10 Patch objects>)"
            ]
          },
          "metadata": {},
          "execution_count": 163
        },
        {
          "output_type": "display_data",
          "data": {
            "text/plain": [
              "<Figure size 432x288 with 1 Axes>"
            ],
            "image/png": "[encoded data removed]"
          },
          "metadata": {
            "needs_background": "light"
          }
        }
      ]
    },
    {
      "cell_type": "code",
      "source": [
        "plt.hist(df['SO2'])"
      ],
      "metadata": {
        "colab": {
          "base_uri": "https://localhost:8080/",
          "height": 352
        },
        "id": "RJZSe30swmUO",
        "outputId": "74b339a1-c841-49d6-d9f7-2dec62dced2e"
      },
      "execution_count": null,
      "outputs": [
        {
          "output_type": "execute_result",
          "data": {
            "text/plain": [
              "(array([8.833e+03, 1.642e+03, 4.570e+02, 7.200e+01, 2.900e+01, 1.200e+01,\n",
              "        3.000e+00, 0.000e+00, 2.000e+00, 1.000e+00]),\n",
              " array([  0.   ,  19.845,  39.69 ,  59.535,  79.38 ,  99.225, 119.07 ,\n",
              "        138.915, 158.76 , 178.605, 198.45 ]),\n",
              " <a list of 10 Patch objects>)"
            ]
          },
          "metadata": {},
          "execution_count": 164
        },
        {
          "output_type": "display_data",
          "data": {
            "text/plain": [
              "<Figure size 432x288 with 1 Axes>"
            ],
            "image/png": "[encoded data removed]"
          },
          "metadata": {
            "needs_background": "light"
          }
        }
      ]
    },
    {
      "cell_type": "code",
      "source": [
        "plt.hist(df['CO'])"
      ],
      "metadata": {
        "colab": {
          "base_uri": "https://localhost:8080/",
          "height": 352
        },
        "id": "YDFm3TSkxZj_",
        "outputId": "ad9a8936-b27a-4d4c-d209-0907073f0446"
      },
      "execution_count": null,
      "outputs": [
        {
          "output_type": "execute_result",
          "data": {
            "text/plain": [
              "(array([1.1353e+04, 9.5000e+01, 7.7000e+01, 7.1000e+01, 3.4000e+01,\n",
              "        1.0000e+01, 1.6000e+01, 1.2000e+01, 3.0000e+00, 2.0000e+00]),\n",
              " array([  0.   ,  13.805,  27.61 ,  41.415,  55.22 ,  69.025,  82.83 ,\n",
              "         96.635, 110.44 , 124.245, 138.05 ]),\n",
              " <a list of 10 Patch objects>)"
            ]
          },
          "metadata": {},
          "execution_count": 165
        },
        {
          "output_type": "display_data",
          "data": {
            "text/plain": [
              "<Figure size 432x288 with 1 Axes>"
            ],
            "image/png": "[encoded data removed]"
          },
          "metadata": {
            "needs_background": "light"
          }
        }
      ]
    },
    {
      "cell_type": "code",
      "source": [
        "plt.hist(df['Benzene'])"
      ],
      "metadata": {
        "colab": {
          "base_uri": "https://localhost:8080/",
          "height": 352
        },
        "id": "JLg7h8ugySz0",
        "outputId": "4ebce7e9-ae16-49f7-f475-80cf2bdd9916"
      },
      "execution_count": null,
      "outputs": [
        {
          "output_type": "execute_result",
          "data": {
            "text/plain": [
              "(array([1.0251e+04, 4.8700e+02, 1.9000e+01, 1.0000e+00, 0.0000e+00,\n",
              "        0.0000e+00, 0.0000e+00, 0.0000e+00, 0.0000e+00, 1.0000e+00]),\n",
              " array([  0.   ,  69.984, 139.968, 209.952, 279.936, 349.92 , 419.904,\n",
              "        489.888, 559.872, 629.856, 699.84 ]),\n",
              " <a list of 10 Patch objects>)"
            ]
          },
          "metadata": {},
          "execution_count": 166
        },
        {
          "output_type": "display_data",
          "data": {
            "text/plain": [
              "<Figure size 432x288 with 1 Axes>"
            ],
            "image/png": "[encoded data removed]"
          },
          "metadata": {
            "needs_background": "light"
          }
        }
      ]
    },
    {
      "cell_type": "code",
      "source": [
        "plt.hist(df['Ozone'])"
      ],
      "metadata": {
        "colab": {
          "base_uri": "https://localhost:8080/",
          "height": 352
        },
        "id": "0QDGd5Km2PEa",
        "outputId": "f4e0ed67-d865-4178-c6ca-73f7bd31550d"
      },
      "execution_count": null,
      "outputs": [
        {
          "output_type": "execute_result",
          "data": {
            "text/plain": [
              "(array([8.842e+03, 1.720e+02, 4.000e+00, 3.000e+00, 4.000e+00, 2.000e+00,\n",
              "        4.000e+00, 2.000e+00, 0.000e+00, 1.000e+00]),\n",
              " array([  0.  ,  27.57,  55.14,  82.71, 110.28, 137.85, 165.42, 192.99,\n",
              "        220.56, 248.13, 275.7 ]),\n",
              " <a list of 10 Patch objects>)"
            ]
          },
          "metadata": {},
          "execution_count": 167
        },
        {
          "output_type": "display_data",
          "data": {
            "text/plain": [
              "<Figure size 432x288 with 1 Axes>"
            ],
            "image/png": "[encoded data removed]"
          },
          "metadata": {
            "needs_background": "light"
          }
        }
      ]
    },
    {
      "cell_type": "code",
      "source": [
        "plt.hist(df['CH4'])"
      ],
      "metadata": {
        "colab": {
          "base_uri": "https://localhost:8080/",
          "height": 335
        },
        "id": "KqEEfXFr2wFT",
        "outputId": "c85a2792-2e18-4491-b5c9-ed2e53e7bcd9"
      },
      "execution_count": null,
      "outputs": [
        {
          "output_type": "execute_result",
          "data": {
            "text/plain": [
              "(array([  2.,   1.,   2.,  24.,  39.,  35., 175.,  55.,   1.,   1.]),\n",
              " array([  0.   ,  75.258, 150.516, 225.774, 301.032, 376.29 , 451.548,\n",
              "        526.806, 602.064, 677.322, 752.58 ]),\n",
              " <a list of 10 Patch objects>)"
            ]
          },
          "metadata": {},
          "execution_count": 168
        },
        {
          "output_type": "display_data",
          "data": {
            "text/plain": [
              "<Figure size 432x288 with 1 Axes>"
            ],
            "image/png": "[encoded data removed]"
          },
          "metadata": {
            "needs_background": "light"
          }
        }
      ]
    },
    {
      "cell_type": "code",
      "source": [
        "plt.hist(df['CO2'])"
      ],
      "metadata": {
        "colab": {
          "base_uri": "https://localhost:8080/",
          "height": 352
        },
        "id": "4mzYM3F12ZIh",
        "outputId": "ea08d149-904a-45fb-b068-12d9ab92f513"
      },
      "execution_count": null,
      "outputs": [
        {
          "output_type": "execute_result",
          "data": {
            "text/plain": [
              "(array([  10.,    9.,   53.,  306., 1284.,  834.,  102.,   11.,    2.,\n",
              "           4.]),\n",
              " array([  0.   ,  87.859, 175.718, 263.577, 351.436, 439.295, 527.154,\n",
              "        615.013, 702.872, 790.731, 878.59 ]),\n",
              " <a list of 10 Patch objects>)"
            ]
          },
          "metadata": {},
          "execution_count": 169
        },
        {
          "output_type": "display_data",
          "data": {
            "text/plain": [
              "<Figure size 432x288 with 1 Axes>"
            ],
            "image/png": "[encoded data removed]"
          },
          "metadata": {
            "needs_background": "light"
          }
        }
      ]
    },
    {
      "cell_type": "code",
      "source": [
        "#plt.hist(df['BlackCarbon'])"
      ],
      "metadata": {
        "id": "nHgPIfF524Bs"
      },
      "execution_count": null,
      "outputs": []
    },
    {
      "cell_type": "markdown",
      "source": [
        "#**Remove None for with respective the pollutant component**"
      ],
      "metadata": {
        "id": "7tnUKJ-GqeCt"
      }
    },
    {
      "cell_type": "markdown",
      "source": [
        "#For PM2.5"
      ],
      "metadata": {
        "id": "0m-llk2rq0l_"
      }
    },
    {
      "cell_type": "code",
      "source": [
        "pd.isna(df['PM2.5']).sum()"
      ],
      "metadata": {
        "colab": {
          "base_uri": "https://localhost:8080/"
        },
        "id": "T0d2QCW9rck0",
        "outputId": "590d013a-80a2-412c-d9c4-cf15700b7656"
      },
      "execution_count": null,
      "outputs": [
        {
          "output_type": "execute_result",
          "data": {
            "text/plain": [
              "333"
            ]
          },
          "metadata": {},
          "execution_count": 171
        }
      ]
    },
    {
      "cell_type": "code",
      "source": [
        "df['PM2.5']=df['PM2.5'].fillna(df[\"PM2.5\"].median())\n",
        "df['PM2.5']"
      ],
      "metadata": {
        "colab": {
          "base_uri": "https://localhost:8080/"
        },
        "id": "Y_hJor1k9GPD",
        "outputId": "ec53a32a-f5ae-45eb-bdc4-0e643210c1ba"
      },
      "execution_count": null,
      "outputs": [
        {
          "output_type": "execute_result",
          "data": {
            "text/plain": [
              "0        28.85\n",
              "1        90.91\n",
              "2        26.19\n",
              "3        27.24\n",
              "4        27.93\n",
              "         ...  \n",
              "12732    76.68\n",
              "12733    86.49\n",
              "12734    45.57\n",
              "12735    22.87\n",
              "12736    22.87\n",
              "Name: PM2.5, Length: 12737, dtype: float64"
            ]
          },
          "metadata": {},
          "execution_count": 172
        }
      ]
    },
    {
      "cell_type": "code",
      "source": [
        "plt.hist(df['PM2.5'])   "
      ],
      "metadata": {
        "colab": {
          "base_uri": "https://localhost:8080/",
          "height": 352
        },
        "id": "FYRMtKiB3-fA",
        "outputId": "8e1fec15-2f8e-4bcd-ed5f-a8c8bff988cf"
      },
      "execution_count": null,
      "outputs": [
        {
          "output_type": "execute_result",
          "data": {
            "text/plain": [
              "(array([1.1797e+04, 9.1200e+02, 2.4000e+01, 2.0000e+00, 1.0000e+00,\n",
              "        0.0000e+00, 0.0000e+00, 0.0000e+00, 0.0000e+00, 1.0000e+00]),\n",
              " array([  0.   ,  93.483, 186.966, 280.449, 373.932, 467.415, 560.898,\n",
              "        654.381, 747.864, 841.347, 934.83 ]),\n",
              " <a list of 10 Patch objects>)"
            ]
          },
          "metadata": {},
          "execution_count": 173
        },
        {
          "output_type": "display_data",
          "data": {
            "text/plain": [
              "<Figure size 432x288 with 1 Axes>"
            ],
            "image/png": "[encoded data removed]"
          },
          "metadata": {
            "needs_background": "light"
          }
        }
      ]
    },
    {
      "cell_type": "markdown",
      "source": [
        "#For PM10"
      ],
      "metadata": {
        "id": "hNp0Ei0Mq_e5"
      }
    },
    {
      "cell_type": "code",
      "source": [
        "pd.isna(df['PM10']).sum()"
      ],
      "metadata": {
        "colab": {
          "base_uri": "https://localhost:8080/"
        },
        "id": "FUYQ24WHrTfC",
        "outputId": "2688454a-fd57-482a-d6b8-35b1d4485de7"
      },
      "execution_count": null,
      "outputs": [
        {
          "output_type": "execute_result",
          "data": {
            "text/plain": [
              "738"
            ]
          },
          "metadata": {},
          "execution_count": 174
        }
      ]
    },
    {
      "cell_type": "code",
      "source": [
        "df['PM10']=df['PM10'].fillna(df[\"PM10\"].median())\n",
        "df['PM10']"
      ],
      "metadata": {
        "colab": {
          "base_uri": "https://localhost:8080/"
        },
        "id": "KUroTMjDJac0",
        "outputId": "6242f1ee-27a2-4faa-896f-ae4a9103a86f"
      },
      "execution_count": null,
      "outputs": [
        {
          "output_type": "execute_result",
          "data": {
            "text/plain": [
              "0        289.36\n",
              "1        266.66\n",
              "2        237.63\n",
              "3        243.11\n",
              "4        180.92\n",
              "          ...  \n",
              "12732    244.83\n",
              "12733    234.80\n",
              "12734    127.84\n",
              "12735    183.29\n",
              "12736    172.16\n",
              "Name: PM10, Length: 12737, dtype: float64"
            ]
          },
          "metadata": {},
          "execution_count": 175
        }
      ]
    },
    {
      "cell_type": "code",
      "source": [
        "plt.hist(df['PM10'])   "
      ],
      "metadata": {
        "colab": {
          "base_uri": "https://localhost:8080/",
          "height": 352
        },
        "id": "MDGl8HNbLEG7",
        "outputId": "af9b90ff-39f0-4539-d5f0-27a004bf00c6"
      },
      "execution_count": null,
      "outputs": [
        {
          "output_type": "execute_result",
          "data": {
            "text/plain": [
              "(array([5.370e+03, 3.819e+03, 1.821e+03, 1.048e+03, 4.900e+02, 1.540e+02,\n",
              "        2.900e+01, 2.000e+00, 2.000e+00, 2.000e+00]),\n",
              " array([  0.   ,  54.044, 108.088, 162.132, 216.176, 270.22 , 324.264,\n",
              "        378.308, 432.352, 486.396, 540.44 ]),\n",
              " <a list of 10 Patch objects>)"
            ]
          },
          "metadata": {},
          "execution_count": 176
        },
        {
          "output_type": "display_data",
          "data": {
            "text/plain": [
              "<Figure size 432x288 with 1 Axes>"
            ],
            "image/png": "[encoded data removed]"
          },
          "metadata": {
            "needs_background": "light"
          }
        }
      ]
    },
    {
      "cell_type": "markdown",
      "source": [
        "#For NO"
      ],
      "metadata": {
        "id": "nByXE-8VrKCO"
      }
    },
    {
      "cell_type": "code",
      "source": [
        "pd.isna(df['NO']).sum()"
      ],
      "metadata": {
        "colab": {
          "base_uri": "https://localhost:8080/"
        },
        "id": "CLE-XgXfl_nT",
        "outputId": "2655df65-dac2-4878-ebf6-ad0639196ab3"
      },
      "execution_count": null,
      "outputs": [
        {
          "output_type": "execute_result",
          "data": {
            "text/plain": [
              "1355"
            ]
          },
          "metadata": {},
          "execution_count": 177
        }
      ]
    },
    {
      "cell_type": "code",
      "source": [
        "df['NO']=df['NO'].fillna(df[\"NO\"].median())\n",
        "df['NO']"
      ],
      "metadata": {
        "colab": {
          "base_uri": "https://localhost:8080/"
        },
        "id": "GrZ2cBiImYGl",
        "outputId": "806d0ba9-51c1-4cd6-c53f-f2b36153a5d4"
      },
      "execution_count": null,
      "outputs": [
        {
          "output_type": "execute_result",
          "data": {
            "text/plain": [
              "0        70.61\n",
              "1        59.70\n",
              "2        76.37\n",
              "3        86.95\n",
              "4        62.56\n",
              "         ...  \n",
              "12732     9.71\n",
              "12733     9.14\n",
              "12734     5.26\n",
              "12735     9.45\n",
              "12736     6.24\n",
              "Name: NO, Length: 12737, dtype: float64"
            ]
          },
          "metadata": {},
          "execution_count": 178
        }
      ]
    },
    {
      "cell_type": "code",
      "source": [
        "plt.hist(df['NO'])"
      ],
      "metadata": {
        "colab": {
          "base_uri": "https://localhost:8080/",
          "height": 352
        },
        "id": "LFrSFXtTnPYt",
        "outputId": "b0649f21-66ae-4e4f-d0f9-f05fe5c27e6f"
      },
      "execution_count": null,
      "outputs": [
        {
          "output_type": "execute_result",
          "data": {
            "text/plain": [
              "(array([1.0875e+04, 1.3160e+03, 3.5500e+02, 1.0700e+02, 5.6000e+01,\n",
              "        1.9000e+01, 5.0000e+00, 1.0000e+00, 2.0000e+00, 1.0000e+00]),\n",
              " array([  0.   ,  48.695,  97.39 , 146.085, 194.78 , 243.475, 292.17 ,\n",
              "        340.865, 389.56 , 438.255, 486.95 ]),\n",
              " <a list of 10 Patch objects>)"
            ]
          },
          "metadata": {},
          "execution_count": 179
        },
        {
          "output_type": "display_data",
          "data": {
            "text/plain": [
              "<Figure size 432x288 with 1 Axes>"
            ],
            "image/png": "[encoded data removed]"
          },
          "metadata": {
            "needs_background": "light"
          }
        }
      ]
    },
    {
      "cell_type": "markdown",
      "source": [
        "#For NO2"
      ],
      "metadata": {
        "id": "LMPZAW2YsmSW"
      }
    },
    {
      "cell_type": "code",
      "source": [
        "pd.isna(df['NO2']).sum()"
      ],
      "metadata": {
        "colab": {
          "base_uri": "https://localhost:8080/"
        },
        "id": "8pbx2abnsl2N",
        "outputId": "ae27c0d8-a2ef-4d78-fa3b-8673de3a1441"
      },
      "execution_count": null,
      "outputs": [
        {
          "output_type": "execute_result",
          "data": {
            "text/plain": [
              "1337"
            ]
          },
          "metadata": {},
          "execution_count": 180
        }
      ]
    },
    {
      "cell_type": "code",
      "source": [
        "df['NO2']=df['NO2'].fillna(df[\"NO2\"].median())\n",
        "df['NO2']"
      ],
      "metadata": {
        "colab": {
          "base_uri": "https://localhost:8080/"
        },
        "id": "4nyR7XOns8dT",
        "outputId": "f7947e5a-8e03-46d1-f0d6-b6a253947974"
      },
      "execution_count": null,
      "outputs": [
        {
          "output_type": "execute_result",
          "data": {
            "text/plain": [
              "0        58.47\n",
              "1        51.01\n",
              "2        92.88\n",
              "3        45.14\n",
              "4        68.73\n",
              "         ...  \n",
              "12732    34.67\n",
              "12733    30.31\n",
              "12734    23.24\n",
              "12735    31.19\n",
              "12736    24.06\n",
              "Name: NO2, Length: 12737, dtype: float64"
            ]
          },
          "metadata": {},
          "execution_count": 181
        }
      ]
    },
    {
      "cell_type": "code",
      "source": [
        "plt.hist(df['NO2'])"
      ],
      "metadata": {
        "colab": {
          "base_uri": "https://localhost:8080/",
          "height": 352
        },
        "id": "PuG8wVE7tETz",
        "outputId": "be032a5f-0fc0-4a91-84ec-bff899f94e18"
      },
      "execution_count": null,
      "outputs": [
        {
          "output_type": "execute_result",
          "data": {
            "text/plain": [
              "(array([9.205e+03, 2.310e+03, 8.000e+02, 3.010e+02, 8.200e+01, 3.100e+01,\n",
              "        4.000e+00, 3.000e+00, 0.000e+00, 1.000e+00]),\n",
              " array([  0.   ,  23.187,  46.374,  69.561,  92.748, 115.935, 139.122,\n",
              "        162.309, 185.496, 208.683, 231.87 ]),\n",
              " <a list of 10 Patch objects>)"
            ]
          },
          "metadata": {},
          "execution_count": 182
        },
        {
          "output_type": "display_data",
          "data": {
            "text/plain": [
              "<Figure size 432x288 with 1 Axes>"
            ],
            "image/png": "[encoded data removed]"
          },
          "metadata": {
            "needs_background": "light"
          }
        }
      ]
    },
    {
      "cell_type": "markdown",
      "source": [
        "#For NH3"
      ],
      "metadata": {
        "id": "S72-kZdTthp7"
      }
    },
    {
      "cell_type": "code",
      "source": [
        "pd.isna(df['NH3']).sum()"
      ],
      "metadata": {
        "colab": {
          "base_uri": "https://localhost:8080/"
        },
        "id": "GHhv--kNtrX0",
        "outputId": "a9ca1b83-d9a3-4593-f3fe-a220dbdbbdb7"
      },
      "execution_count": null,
      "outputs": [
        {
          "output_type": "execute_result",
          "data": {
            "text/plain": [
              "3814"
            ]
          },
          "metadata": {},
          "execution_count": 183
        }
      ]
    },
    {
      "cell_type": "code",
      "source": [
        ""
      ],
      "metadata": {
        "id": "NQajRY4EtrMm"
      },
      "execution_count": null,
      "outputs": []
    },
    {
      "cell_type": "code",
      "source": [
        ""
      ],
      "metadata": {
        "id": "0DY1mi15trCI"
      },
      "execution_count": null,
      "outputs": []
    },
    {
      "cell_type": "markdown",
      "source": [
        "#For SO2"
      ],
      "metadata": {
        "id": "WjKZH8egvpUT"
      }
    },
    {
      "cell_type": "code",
      "source": [
        "pd.isna(df['SO2']).sum()"
      ],
      "metadata": {
        "colab": {
          "base_uri": "https://localhost:8080/"
        },
        "id": "jjN_Lhr0votz",
        "outputId": "31368e8e-47ca-46c3-96e5-f36c63fea036"
      },
      "execution_count": null,
      "outputs": [
        {
          "output_type": "execute_result",
          "data": {
            "text/plain": [
              "1686"
            ]
          },
          "metadata": {},
          "execution_count": 184
        }
      ]
    },
    {
      "cell_type": "code",
      "source": [
        "df['SO2']=df['SO2'].fillna(df[\"SO2\"].median())\n",
        "df['SO2']"
      ],
      "metadata": {
        "colab": {
          "base_uri": "https://localhost:8080/"
        },
        "id": "lO5W5qBlwIxk",
        "outputId": "a83fde67-0dca-4dcd-92aa-f75f1644d5b2"
      },
      "execution_count": null,
      "outputs": [
        {
          "output_type": "execute_result",
          "data": {
            "text/plain": [
              "0         3.01\n",
              "1         3.24\n",
              "2         8.28\n",
              "3         3.26\n",
              "4         7.24\n",
              "         ...  \n",
              "12732    20.31\n",
              "12733    20.84\n",
              "12734    20.63\n",
              "12735    20.34\n",
              "12736    20.39\n",
              "Name: SO2, Length: 12737, dtype: float64"
            ]
          },
          "metadata": {},
          "execution_count": 185
        }
      ]
    },
    {
      "cell_type": "code",
      "source": [
        "plt.hist(df['SO2'])"
      ],
      "metadata": {
        "colab": {
          "base_uri": "https://localhost:8080/",
          "height": 352
        },
        "id": "7L4jGdUWwJ4K",
        "outputId": "894e51b7-95ad-4539-b23a-ba1159b5552f"
      },
      "execution_count": null,
      "outputs": [
        {
          "output_type": "execute_result",
          "data": {
            "text/plain": [
              "(array([1.0519e+04, 1.6420e+03, 4.5700e+02, 7.2000e+01, 2.9000e+01,\n",
              "        1.2000e+01, 3.0000e+00, 0.0000e+00, 2.0000e+00, 1.0000e+00]),\n",
              " array([  0.   ,  19.845,  39.69 ,  59.535,  79.38 ,  99.225, 119.07 ,\n",
              "        138.915, 158.76 , 178.605, 198.45 ]),\n",
              " <a list of 10 Patch objects>)"
            ]
          },
          "metadata": {},
          "execution_count": 186
        },
        {
          "output_type": "display_data",
          "data": {
            "text/plain": [
              "<Figure size 432x288 with 1 Axes>"
            ],
            "image/png": "[encoded data removed]"
          },
          "metadata": {
            "needs_background": "light"
          }
        }
      ]
    },
    {
      "cell_type": "markdown",
      "source": [
        "#For CO"
      ],
      "metadata": {
        "id": "okK0UAQEwz8V"
      }
    },
    {
      "cell_type": "code",
      "source": [
        "pd.isna(df['CO']).sum()"
      ],
      "metadata": {
        "colab": {
          "base_uri": "https://localhost:8080/"
        },
        "id": "tPCqrM-8wzTA",
        "outputId": "176803dc-0e03-46cc-de8a-eed637ec0a4c"
      },
      "execution_count": null,
      "outputs": [
        {
          "output_type": "execute_result",
          "data": {
            "text/plain": [
              "1064"
            ]
          },
          "metadata": {},
          "execution_count": 187
        }
      ]
    },
    {
      "cell_type": "code",
      "source": [
        "df['CO']=df['CO'].fillna(df[\"CO\"].median())\n",
        "df['CO']"
      ],
      "metadata": {
        "colab": {
          "base_uri": "https://localhost:8080/"
        },
        "id": "HpHH6BLXxDcf",
        "outputId": "84b4dbc6-4ab3-4af2-82ca-e18631d0dca6"
      },
      "execution_count": null,
      "outputs": [
        {
          "output_type": "execute_result",
          "data": {
            "text/plain": [
              "0        0.20\n",
              "1        0.35\n",
              "2        1.11\n",
              "3        0.76\n",
              "4        1.80\n",
              "         ... \n",
              "12732    1.89\n",
              "12733    1.84\n",
              "12734    1.56\n",
              "12735    1.90\n",
              "12736    1.69\n",
              "Name: CO, Length: 12737, dtype: float64"
            ]
          },
          "metadata": {},
          "execution_count": 188
        }
      ]
    },
    {
      "cell_type": "code",
      "source": [
        "plt.hist(df['CO'])"
      ],
      "metadata": {
        "colab": {
          "base_uri": "https://localhost:8080/",
          "height": 352
        },
        "id": "D0NyGlCGxDvZ",
        "outputId": "30700dbd-a4b2-4d27-c115-a70f0e6aa3ad"
      },
      "execution_count": null,
      "outputs": [
        {
          "output_type": "execute_result",
          "data": {
            "text/plain": [
              "(array([1.2417e+04, 9.5000e+01, 7.7000e+01, 7.1000e+01, 3.4000e+01,\n",
              "        1.0000e+01, 1.6000e+01, 1.2000e+01, 3.0000e+00, 2.0000e+00]),\n",
              " array([  0.   ,  13.805,  27.61 ,  41.415,  55.22 ,  69.025,  82.83 ,\n",
              "         96.635, 110.44 , 124.245, 138.05 ]),\n",
              " <a list of 10 Patch objects>)"
            ]
          },
          "metadata": {},
          "execution_count": 189
        },
        {
          "output_type": "display_data",
          "data": {
            "text/plain": [
              "<Figure size 432x288 with 1 Axes>"
            ],
            "image/png": "[encoded data removed]"
          },
          "metadata": {
            "needs_background": "light"
          }
        }
      ]
    },
    {
      "cell_type": "markdown",
      "source": [
        "#For Benzene"
      ],
      "metadata": {
        "id": "DSVxGpWHxubH"
      }
    },
    {
      "cell_type": "code",
      "source": [
        "pd.isna(df['Benzene']).sum()"
      ],
      "metadata": {
        "colab": {
          "base_uri": "https://localhost:8080/"
        },
        "id": "2iEccVW_xuHW",
        "outputId": "35b5c439-6aad-45ce-f28d-317e070fb784"
      },
      "execution_count": null,
      "outputs": [
        {
          "output_type": "execute_result",
          "data": {
            "text/plain": [
              "1978"
            ]
          },
          "metadata": {},
          "execution_count": 190
        }
      ]
    },
    {
      "cell_type": "code",
      "source": [
        "df['Benzene']=df['Benzene'].fillna(df[\"Benzene\"].median())\n",
        "df['Benzene']"
      ],
      "metadata": {
        "colab": {
          "base_uri": "https://localhost:8080/"
        },
        "id": "Xb2EvPzpx9WM",
        "outputId": "13d288d3-fa00-4d8e-a401-7c647639ba31"
      },
      "execution_count": null,
      "outputs": [
        {
          "output_type": "execute_result",
          "data": {
            "text/plain": [
              "0         5.00\n",
              "1         5.00\n",
              "2         5.00\n",
              "3         5.00\n",
              "4         5.00\n",
              "         ...  \n",
              "12732    11.48\n",
              "12733    11.48\n",
              "12734    11.48\n",
              "12735    11.48\n",
              "12736    11.48\n",
              "Name: Benzene, Length: 12737, dtype: float64"
            ]
          },
          "metadata": {},
          "execution_count": 191
        }
      ]
    },
    {
      "cell_type": "code",
      "source": [
        "plt.hist(df['Benzene'])"
      ],
      "metadata": {
        "colab": {
          "base_uri": "https://localhost:8080/",
          "height": 352
        },
        "id": "MkFl8G0yylMs",
        "outputId": "ecc27ca0-b45b-4405-bf19-3c0949423a8d"
      },
      "execution_count": null,
      "outputs": [
        {
          "output_type": "execute_result",
          "data": {
            "text/plain": [
              "(array([1.2229e+04, 4.8700e+02, 1.9000e+01, 1.0000e+00, 0.0000e+00,\n",
              "        0.0000e+00, 0.0000e+00, 0.0000e+00, 0.0000e+00, 1.0000e+00]),\n",
              " array([  0.   ,  69.984, 139.968, 209.952, 279.936, 349.92 , 419.904,\n",
              "        489.888, 559.872, 629.856, 699.84 ]),\n",
              " <a list of 10 Patch objects>)"
            ]
          },
          "metadata": {},
          "execution_count": 192
        },
        {
          "output_type": "display_data",
          "data": {
            "text/plain": [
              "<Figure size 432x288 with 1 Axes>"
            ],
            "image/png": "[encoded data removed]"
          },
          "metadata": {
            "needs_background": "light"
          }
        }
      ]
    },
    {
      "cell_type": "markdown",
      "source": [
        "#For Ozone"
      ],
      "metadata": {
        "id": "CDvptQIDyv0T"
      }
    },
    {
      "cell_type": "code",
      "source": [
        "pd.isna(df['Ozone']).sum()"
      ],
      "metadata": {
        "colab": {
          "base_uri": "https://localhost:8080/"
        },
        "id": "oA7kv4OJyvc_",
        "outputId": "6fb6d984-d264-4ab3-b6bf-b25809fc1332"
      },
      "execution_count": null,
      "outputs": [
        {
          "output_type": "execute_result",
          "data": {
            "text/plain": [
              "3703"
            ]
          },
          "metadata": {},
          "execution_count": 193
        }
      ]
    },
    {
      "cell_type": "markdown",
      "source": [
        "#For CH4"
      ],
      "metadata": {
        "id": "8SAOwD5zy-Tk"
      }
    },
    {
      "cell_type": "code",
      "source": [
        "pd.isna(df['CH4']).sum()"
      ],
      "metadata": {
        "colab": {
          "base_uri": "https://localhost:8080/"
        },
        "id": "hUTsTutbzKKO",
        "outputId": "f4be0e00-1eaa-485e-9008-dd0197103fa5"
      },
      "execution_count": null,
      "outputs": [
        {
          "output_type": "execute_result",
          "data": {
            "text/plain": [
              "12402"
            ]
          },
          "metadata": {},
          "execution_count": 194
        }
      ]
    },
    {
      "cell_type": "markdown",
      "source": [
        "#For CO2"
      ],
      "metadata": {
        "id": "Pyq9KNFZzOsy"
      }
    },
    {
      "cell_type": "code",
      "source": [
        "pd.isna(df['CO2']).sum()"
      ],
      "metadata": {
        "colab": {
          "base_uri": "https://localhost:8080/"
        },
        "id": "nUIB1mgZzZdR",
        "outputId": "5f2566e3-0083-4335-8286-b680a659767b"
      },
      "execution_count": null,
      "outputs": [
        {
          "output_type": "execute_result",
          "data": {
            "text/plain": [
              "10122"
            ]
          },
          "metadata": {},
          "execution_count": 195
        }
      ]
    },
    {
      "cell_type": "markdown",
      "source": [
        "#For BlackCarbon"
      ],
      "metadata": {
        "id": "8tIhWn1Xzd6F"
      }
    },
    {
      "cell_type": "code",
      "source": [
        "pd.isna(df['BlackCarbon']).sum()"
      ],
      "metadata": {
        "colab": {
          "base_uri": "https://localhost:8080/"
        },
        "id": "nDL7LCf9zdhR",
        "outputId": "abce493a-a575-4f91-b1cf-534a4c6be4d6"
      },
      "execution_count": null,
      "outputs": [
        {
          "output_type": "execute_result",
          "data": {
            "text/plain": [
              "12737"
            ]
          },
          "metadata": {},
          "execution_count": 196
        }
      ]
    },
    {
      "cell_type": "code",
      "source": [
        "df"
      ],
      "metadata": {
        "colab": {
          "base_uri": "https://localhost:8080/",
          "height": 661
        },
        "id": "pTD0WZ06IFf-",
        "outputId": "ded4b2e6-5a61-4309-b0b0-1525f3825298"
      },
      "execution_count": null,
      "outputs": [
        {
          "output_type": "execute_result",
          "data": {
            "text/plain": [
              "            City                         Station            FromDate  \\\n",
              "0      Mumbai-01  BandraKurlaComplex,Mumbai-IITM  10/11/202000:00:00   \n",
              "1      Mumbai-01  BandraKurlaComplex,Mumbai-IITM  11/11/202000:00:00   \n",
              "2      Mumbai-01  BandraKurlaComplex,Mumbai-IITM  12/11/202000:00:00   \n",
              "3      Mumbai-01  BandraKurlaComplex,Mumbai-IITM  13/11/202000:00:00   \n",
              "4      Mumbai-01  BandraKurlaComplex,Mumbai-IITM  14/11/202000:00:00   \n",
              "...          ...                             ...                 ...   \n",
              "12732  Mumbai-17           VasaiWest,Mumbai-MPCB  27/12/202100:00:00   \n",
              "12733  Mumbai-17           VasaiWest,Mumbai-MPCB  28/12/202100:00:00   \n",
              "12734  Mumbai-17           VasaiWest,Mumbai-MPCB  29/12/202100:00:00   \n",
              "12735  Mumbai-17           VasaiWest,Mumbai-MPCB  30/12/202100:00:00   \n",
              "12736  Mumbai-17           VasaiWest,Mumbai-MPCB  31/12/202100:00:00   \n",
              "\n",
              "                   ToDate  PM2.5    PM10     NO    NO2     NH3    SO2    CO  \\\n",
              "0      11/11/202000:00:00  28.85  289.36  70.61  58.47  174.30   3.01  0.20   \n",
              "1      12/11/202000:00:00  90.91  266.66  59.70  51.01  153.50   3.24  0.35   \n",
              "2      13/11/202000:00:00  26.19  237.63  76.37  92.88  157.16   8.28  1.11   \n",
              "3      14/11/202000:00:00  27.24  243.11  86.95  45.14  185.24   3.26  0.76   \n",
              "4      15/11/202000:00:00  27.93  180.92  62.56  68.73  131.72   7.24  1.80   \n",
              "...                   ...    ...     ...    ...    ...     ...    ...   ...   \n",
              "12732  28/12/202100:00:00  76.68  244.83   9.71  34.67    8.92  20.31  1.89   \n",
              "12733  29/12/202100:00:00  86.49  234.80   9.14  30.31    9.43  20.84  1.84   \n",
              "12734  30/12/202100:00:00  45.57  127.84   5.26  23.24    7.95  20.63  1.56   \n",
              "12735  31/12/202100:00:00  22.87  183.29   9.45  31.19    9.06  20.34  1.90   \n",
              "12736  01/01/202200:00:00  22.87  172.16   6.24  24.06    9.27  20.39  1.69   \n",
              "\n",
              "       Benzene  Ozone  CH4     CO2  BlackCarbon  \n",
              "0         5.00  13.72  NaN  420.08          NaN  \n",
              "1         5.00   8.06  NaN  417.61          NaN  \n",
              "2         5.00  22.12  NaN  426.32          NaN  \n",
              "3         5.00   8.11  NaN  433.62          NaN  \n",
              "4         5.00  19.06  NaN  323.93          NaN  \n",
              "...        ...    ...  ...     ...          ...  \n",
              "12732    11.48    NaN  NaN     NaN          NaN  \n",
              "12733    11.48    NaN  NaN     NaN          NaN  \n",
              "12734    11.48    NaN  NaN     NaN          NaN  \n",
              "12735    11.48    NaN  NaN     NaN          NaN  \n",
              "12736    11.48    NaN  NaN     NaN          NaN  \n",
              "\n",
              "[12737 rows x 16 columns]"
            ],
            "text/html": [
              "\n",
              "  <div id=\"df-0d57a1fa-44b4-40fa-888a-814a18d3efea\">\n",
              "    <div class=\"colab-df-container\">\n",
              "      <div>\n",
              "<style scoped>\n",
              "    .dataframe tbody tr th:only-of-type {\n",
              "        vertical-align: middle;\n",
              "    }\n",
              "\n",
              "    .dataframe tbody tr th {\n",
              "        vertical-align: top;\n",
              "    }\n",
              "\n",
              "    .dataframe thead th {\n",
              "        text-align: right;\n",
              "    }\n",
              "</style>\n",
              "<table border=\"1\" class=\"dataframe\">\n",
              "  <thead>\n",
              "    <tr style=\"text-align: right;\">\n",
              "      <th></th>\n",
              "      <th>City</th>\n",
              "      <th>Station</th>\n",
              "      <th>FromDate</th>\n",
              "      <th>ToDate</th>\n",
              "      <th>PM2.5</th>\n",
              "      <th>PM10</th>\n",
              "      <th>NO</th>\n",
              "      <th>NO2</th>\n",
              "      <th>NH3</th>\n",
              "      <th>SO2</th>\n",
              "      <th>CO</th>\n",
              "      <th>Benzene</th>\n",
              "      <th>Ozone</th>\n",
              "      <th>CH4</th>\n",
              "      <th>CO2</th>\n",
              "      <th>BlackCarbon</th>\n",
              "    </tr>\n",
              "  </thead>\n",
              "  <tbody>\n",
              "    <tr>\n",
              "      <th>0</th>\n",
              "      <td>Mumbai-01</td>\n",
              "      <td>BandraKurlaComplex,Mumbai-IITM</td>\n",
              "      <td>10/11/202000:00:00</td>\n",
              "      <td>11/11/202000:00:00</td>\n",
              "      <td>28.85</td>\n",
              "      <td>289.36</td>\n",
              "      <td>70.61</td>\n",
              "      <td>58.47</td>\n",
              "      <td>174.30</td>\n",
              "      <td>3.01</td>\n",
              "      <td>0.20</td>\n",
              "      <td>5.00</td>\n",
              "      <td>13.72</td>\n",
              "      <td>NaN</td>\n",
              "      <td>420.08</td>\n",
              "      <td>NaN</td>\n",
              "    </tr>\n",
              "    <tr>\n",
              "      <th>1</th>\n",
              "      <td>Mumbai-01</td>\n",
              "      <td>BandraKurlaComplex,Mumbai-IITM</td>\n",
              "      <td>11/11/202000:00:00</td>\n",
              "      <td>12/11/202000:00:00</td>\n",
              "      <td>90.91</td>\n",
              "      <td>266.66</td>\n",
              "      <td>59.70</td>\n",
              "      <td>51.01</td>\n",
              "      <td>153.50</td>\n",
              "      <td>3.24</td>\n",
              "      <td>0.35</td>\n",
              "      <td>5.00</td>\n",
              "      <td>8.06</td>\n",
              "      <td>NaN</td>\n",
              "      <td>417.61</td>\n",
              "      <td>NaN</td>\n",
              "    </tr>\n",
              "    <tr>\n",
              "      <th>2</th>\n",
              "      <td>Mumbai-01</td>\n",
              "      <td>BandraKurlaComplex,Mumbai-IITM</td>\n",
              "      <td>12/11/202000:00:00</td>\n",
              "      <td>13/11/202000:00:00</td>\n",
              "      <td>26.19</td>\n",
              "      <td>237.63</td>\n",
              "      <td>76.37</td>\n",
              "      <td>92.88</td>\n",
              "      <td>157.16</td>\n",
              "      <td>8.28</td>\n",
              "      <td>1.11</td>\n",
              "      <td>5.00</td>\n",
              "      <td>22.12</td>\n",
              "      <td>NaN</td>\n",
              "      <td>426.32</td>\n",
              "      <td>NaN</td>\n",
              "    </tr>\n",
              "    <tr>\n",
              "      <th>3</th>\n",
              "      <td>Mumbai-01</td>\n",
              "      <td>BandraKurlaComplex,Mumbai-IITM</td>\n",
              "      <td>13/11/202000:00:00</td>\n",
              "      <td>14/11/202000:00:00</td>\n",
              "      <td>27.24</td>\n",
              "      <td>243.11</td>\n",
              "      <td>86.95</td>\n",
              "      <td>45.14</td>\n",
              "      <td>185.24</td>\n",
              "      <td>3.26</td>\n",
              "      <td>0.76</td>\n",
              "      <td>5.00</td>\n",
              "      <td>8.11</td>\n",
              "      <td>NaN</td>\n",
              "      <td>433.62</td>\n",
              "      <td>NaN</td>\n",
              "    </tr>\n",
              "    <tr>\n",
              "      <th>4</th>\n",
              "      <td>Mumbai-01</td>\n",
              "      <td>BandraKurlaComplex,Mumbai-IITM</td>\n",
              "      <td>14/11/202000:00:00</td>\n",
              "      <td>15/11/202000:00:00</td>\n",
              "      <td>27.93</td>\n",
              "      <td>180.92</td>\n",
              "      <td>62.56</td>\n",
              "      <td>68.73</td>\n",
              "      <td>131.72</td>\n",
              "      <td>7.24</td>\n",
              "      <td>1.80</td>\n",
              "      <td>5.00</td>\n",
              "      <td>19.06</td>\n",
              "      <td>NaN</td>\n",
              "      <td>323.93</td>\n",
              "      <td>NaN</td>\n",
              "    </tr>\n",
              "    <tr>\n",
              "      <th>...</th>\n",
              "      <td>...</td>\n",
              "      <td>...</td>\n",
              "      <td>...</td>\n",
              "      <td>...</td>\n",
              "      <td>...</td>\n",
              "      <td>...</td>\n",
              "      <td>...</td>\n",
              "      <td>...</td>\n",
              "      <td>...</td>\n",
              "      <td>...</td>\n",
              "      <td>...</td>\n",
              "      <td>...</td>\n",
              "      <td>...</td>\n",
              "      <td>...</td>\n",
              "      <td>...</td>\n",
              "      <td>...</td>\n",
              "    </tr>\n",
              "    <tr>\n",
              "      <th>12732</th>\n",
              "      <td>Mumbai-17</td>\n",
              "      <td>VasaiWest,Mumbai-MPCB</td>\n",
              "      <td>27/12/202100:00:00</td>\n",
              "      <td>28/12/202100:00:00</td>\n",
              "      <td>76.68</td>\n",
              "      <td>244.83</td>\n",
              "      <td>9.71</td>\n",
              "      <td>34.67</td>\n",
              "      <td>8.92</td>\n",
              "      <td>20.31</td>\n",
              "      <td>1.89</td>\n",
              "      <td>11.48</td>\n",
              "      <td>NaN</td>\n",
              "      <td>NaN</td>\n",
              "      <td>NaN</td>\n",
              "      <td>NaN</td>\n",
              "    </tr>\n",
              "    <tr>\n",
              "      <th>12733</th>\n",
              "      <td>Mumbai-17</td>\n",
              "      <td>VasaiWest,Mumbai-MPCB</td>\n",
              "      <td>28/12/202100:00:00</td>\n",
              "      <td>29/12/202100:00:00</td>\n",
              "      <td>86.49</td>\n",
              "      <td>234.80</td>\n",
              "      <td>9.14</td>\n",
              "      <td>30.31</td>\n",
              "      <td>9.43</td>\n",
              "      <td>20.84</td>\n",
              "      <td>1.84</td>\n",
              "      <td>11.48</td>\n",
              "      <td>NaN</td>\n",
              "      <td>NaN</td>\n",
              "      <td>NaN</td>\n",
              "      <td>NaN</td>\n",
              "    </tr>\n",
              "    <tr>\n",
              "      <th>12734</th>\n",
              "      <td>Mumbai-17</td>\n",
              "      <td>VasaiWest,Mumbai-MPCB</td>\n",
              "      <td>29/12/202100:00:00</td>\n",
              "      <td>30/12/202100:00:00</td>\n",
              "      <td>45.57</td>\n",
              "      <td>127.84</td>\n",
              "      <td>5.26</td>\n",
              "      <td>23.24</td>\n",
              "      <td>7.95</td>\n",
              "      <td>20.63</td>\n",
              "      <td>1.56</td>\n",
              "      <td>11.48</td>\n",
              "      <td>NaN</td>\n",
              "      <td>NaN</td>\n",
              "      <td>NaN</td>\n",
              "      <td>NaN</td>\n",
              "    </tr>\n",
              "    <tr>\n",
              "      <th>12735</th>\n",
              "      <td>Mumbai-17</td>\n",
              "      <td>VasaiWest,Mumbai-MPCB</td>\n",
              "      <td>30/12/202100:00:00</td>\n",
              "      <td>31/12/202100:00:00</td>\n",
              "      <td>22.87</td>\n",
              "      <td>183.29</td>\n",
              "      <td>9.45</td>\n",
              "      <td>31.19</td>\n",
              "      <td>9.06</td>\n",
              "      <td>20.34</td>\n",
              "      <td>1.90</td>\n",
              "      <td>11.48</td>\n",
              "      <td>NaN</td>\n",
              "      <td>NaN</td>\n",
              "      <td>NaN</td>\n",
              "      <td>NaN</td>\n",
              "    </tr>\n",
              "    <tr>\n",
              "      <th>12736</th>\n",
              "      <td>Mumbai-17</td>\n",
              "      <td>VasaiWest,Mumbai-MPCB</td>\n",
              "      <td>31/12/202100:00:00</td>\n",
              "      <td>01/01/202200:00:00</td>\n",
              "      <td>22.87</td>\n",
              "      <td>172.16</td>\n",
              "      <td>6.24</td>\n",
              "      <td>24.06</td>\n",
              "      <td>9.27</td>\n",
              "      <td>20.39</td>\n",
              "      <td>1.69</td>\n",
              "      <td>11.48</td>\n",
              "      <td>NaN</td>\n",
              "      <td>NaN</td>\n",
              "      <td>NaN</td>\n",
              "      <td>NaN</td>\n",
              "    </tr>\n",
              "  </tbody>\n",
              "</table>\n",
              "<p>12737 rows × 16 columns</p>\n",
              "</div>\n",
              "      <button class=\"colab-df-convert\" onclick=\"convertToInteractive('df-0d57a1fa-44b4-40fa-888a-814a18d3efea')\"\n",
              "              title=\"Convert this dataframe to an interactive table.\"\n",
              "              style=\"display:none;\">\n",
              "        \n",
              "  <svg xmlns=\"http://www.w3.org/2000/svg\" height=\"24px\"viewBox=\"0 0 24 24\"\n",
              "       width=\"24px\">\n",
              "    <path d=\"M0 0h24v24H0V0z\" fill=\"none\"/>\n",
              "    <path d=\"M18.56 5.44l.94 2.06.94-2.06 2.06-.94-2.06-.94-.94-2.06-.94 2.06-2.06.94zm-11 1L8.5 8.5l.94-2.06 2.06-.94-2.06-.94L8.5 2.5l-.94 2.06-2.06.94zm10 10l.94 2.06.94-2.06 2.06-.94-2.06-.94-.94-2.06-.94 2.06-2.06.94z\"/><path d=\"M17.41 7.96l-1.37-1.37c-.4-.4-.92-.59-1.43-.59-.52 0-1.04.2-1.43.59L10.3 9.45l-7.72 7.72c-.78.78-.78 2.05 0 2.83L4 21.41c.39.39.9.59 1.41.59.51 0 1.02-.2 1.41-.59l7.78-7.78 2.81-2.81c.8-.78.8-2.07 0-2.86zM5.41 20L4 18.59l7.72-7.72 1.47 1.35L5.41 20z\"/>\n",
              "  </svg>\n",
              "      </button>\n",
              "      \n",
              "  <style>\n",
              "    .colab-df-container {\n",
              "      display:flex;\n",
              "      flex-wrap:wrap;\n",
              "      gap: 12px;\n",
              "    }\n",
              "\n",
              "    .colab-df-convert {\n",
              "      background-color: #E8F0FE;\n",
              "      border: none;\n",
              "      border-radius: 50%;\n",
              "      cursor: pointer;\n",
              "      display: none;\n",
              "      fill: #1967D2;\n",
              "      height: 32px;\n",
              "      padding: 0 0 0 0;\n",
              "      width: 32px;\n",
              "    }\n",
              "\n",
              "    .colab-df-convert:hover {\n",
              "      background-color: #E2EBFA;\n",
              "      box-shadow: 0px 1px 2px rgba(60, 64, 67, 0.3), 0px 1px 3px 1px rgba(60, 64, 67, 0.15);\n",
              "      fill: #174EA6;\n",
              "    }\n",
              "\n",
              "    [theme=dark] .colab-df-convert {\n",
              "      background-color: #3B4455;\n",
              "      fill: #D2E3FC;\n",
              "    }\n",
              "\n",
              "    [theme=dark] .colab-df-convert:hover {\n",
              "      background-color: #434B5C;\n",
              "      box-shadow: 0px 1px 3px 1px rgba(0, 0, 0, 0.15);\n",
              "      filter: drop-shadow(0px 1px 2px rgba(0, 0, 0, 0.3));\n",
              "      fill: #FFFFFF;\n",
              "    }\n",
              "  </style>\n",
              "\n",
              "      <script>\n",
              "        const buttonEl =\n",
              "          document.querySelector('#df-0d57a1fa-44b4-40fa-888a-814a18d3efea button.colab-df-convert');\n",
              "        buttonEl.style.display =\n",
              "          google.colab.kernel.accessAllowed ? 'block' : 'none';\n",
              "\n",
              "        async function convertToInteractive(key) {\n",
              "          const element = document.querySelector('#df-0d57a1fa-44b4-40fa-888a-814a18d3efea');\n",
              "          const dataTable =\n",
              "            await google.colab.kernel.invokeFunction('convertToInteractive',\n",
              "                                                     [key], {});\n",
              "          if (!dataTable) return;\n",
              "\n",
              "          const docLinkHtml = 'Like what you see? Visit the ' +\n",
              "            '<a target=\"_blank\" href=https://colab.research.google.com/notebooks/data_table.ipynb>data table notebook</a>'\n",
              "            + ' to learn more about interactive tables.';\n",
              "          element.innerHTML = '';\n",
              "          dataTable['output_type'] = 'display_data';\n",
              "          await google.colab.output.renderOutput(dataTable, element);\n",
              "          const docLink = document.createElement('div');\n",
              "          docLink.innerHTML = docLinkHtml;\n",
              "          element.appendChild(docLink);\n",
              "        }\n",
              "      </script>\n",
              "    </div>\n",
              "  </div>\n",
              "  "
            ]
          },
          "metadata": {},
          "execution_count": 197
        }
      ]
    },
    {
      "cell_type": "markdown",
      "source": [
        "#"
      ],
      "metadata": {
        "id": "OoRVq6II3web"
      }
    },
    {
      "cell_type": "code",
      "source": [
        ""
      ],
      "metadata": {
        "id": "NtCgUQN-3wKp"
      },
      "execution_count": null,
      "outputs": []
    }
  ]
}